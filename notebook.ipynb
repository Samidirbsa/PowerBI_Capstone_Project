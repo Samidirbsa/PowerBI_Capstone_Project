{
 "cells": [
  {
   "attachments": {},
   "cell_type": "markdown",
   "metadata": {},
   "source": [
    "# **CAPSTONE DEFENSE PROJECT**\n",
    "# **POWER BI** "
   ]
  },
  {
   "cell_type": "markdown",
   "metadata": {},
   "source": [
    "\n",
    "**Business Understanding**"
   ]
  },
  {
   "cell_type": "markdown",
   "metadata": {},
   "source": [
    "The objective of this Power BI Dashboard project is to transform the raw transactional data collected by the client in the year 2019 into actionable insights. By leveraging business intelligence tools, we aim to empower our client to make informed decisions to drive sales and enhance operational efficiency."
   ]
  },
  {
   "cell_type": "markdown",
   "metadata": {},
   "source": [
    "**Objective:**\n",
    "\n",
    "The primary objective of this Power BI Dashboard project is to leverage the collected transactional data from the year 2019 to provide actionable insights for our client. Specifically, the objective encompasses the following key points:\n",
    "\n",
    "1. Revenue Analysis: Determine the total revenue generated throughout the year 2019, providing a clear understanding of the financial performance over the specified period.\n",
    "\n",
    "2. Seasonality Assessment: Identify any recurring patterns or seasonality in sales data to facilitate better resource allocation, inventory management, and marketing strategies.\n",
    "\n",
    "3. Product Performance Evaluation: Analyze sales data to identify the best-selling and worst-selling products, enabling the optimization of product offerings and inventory management practices.\n",
    "\n",
    "4. Sales Trend Analysis: Compare sales performance across different time periods (months or weeks) to identify trends, fluctuations, and potential areas for improvement or expansion.\n",
    "\n",
    "5. Geographical Insights: Determine the distribution of product deliveries across various cities to enable targeted marketing efforts and optimize logistics operations.\n",
    "\n",
    "6. Product Category Comparison: Compare revenue generated and quantities ordered across different product categories, providing insights into the performance of various product lines and guiding future product development strategies.\n",
    "\n",
    "7. Additional Details Integration: Incorporate additional details from the data findings to provide a comprehensive understanding of business performance, including the classification of products into high-level and basic categories based on unit prices.\n",
    "\n",
    "By achieving these objectives, the Power BI Dashboard will empower our client to make data-driven decisions, enhance sales strategies, optimize operations, and drive overall business growth and efficiency."
   ]
  },
  {
   "cell_type": "markdown",
   "metadata": {},
   "source": [
    "**The Hypothesis**"
   ]
  },
  {
   "cell_type": "markdown",
   "metadata": {},
   "source": [
    "  **Null Hypothesis:** There is no difference in revenue generated between different product categories.\n",
    "  \n",
    "  **Alternative Hypothesis:** Certain product categories generate significantly more revenue compared to others."
   ]
  },
  {
   "cell_type": "markdown",
   "metadata": {},
   "source": [
    "**The Analytical Questions**"
   ]
  },
  {
   "cell_type": "markdown",
   "metadata": {},
   "source": [
    "1. How much money did we make this year? \n",
    "\n",
    "2. Can we identify any seasonality in the  sales? \n",
    "\n",
    "3. What are our best and worst-selling products? \n",
    "\n",
    "4. How do sales compare to previous months or weeks? \n",
    "\n",
    "5. Which cities are our products delivered to most? \n",
    "\n",
    "6. How do product categories compare in revenue generated and quantities  ordered? \n",
    "\n",
    "7. You are required to show additional details from your findings in your data."
   ]
  },
  {
   "cell_type": "markdown",
   "metadata": {},
   "source": [
    "**Data Understanding:**\n",
    "\n",
    "The dataset provided contains the following fields:\n",
    "\n",
    "1. Order ID: Unique identifier for each order placed.\n",
    "2. Product: Name or description of the product purchased.\n",
    "4. Quantity Ordered: The number of units of the product ordered in each transaction.\n",
    "5. Price Each: The unit price of the product.\n",
    "6. Order Date: Date and time when the order was placed.\n",
    "7. Purchase Address: Address where the purchase was made or where the products were delivered."
   ]
  },
  {
   "cell_type": "markdown",
   "metadata": {},
   "source": [
    "Import the necessary modules/packages"
   ]
  },
  {
   "cell_type": "code",
   "execution_count": 1,
   "metadata": {},
   "outputs": [],
   "source": [
    "# %pip install pandas\n",
    "# %pip install matplotlib\n",
    "# %pip install seaborn\n",
    "# %pip install plotly\n",
    "# %pip install scipy\n",
    "# %pip install scikit-learn"
   ]
  },
  {
   "cell_type": "code",
   "execution_count": 2,
   "metadata": {},
   "outputs": [],
   "source": [
    "# Data manipulation packages\n",
    "import pyodbc\n",
    "from sqlalchemy import create_engine\n",
    "from dotenv import dotenv_values\n",
    "import pandas as pd\n",
    "import numpy as np\n",
    "\n",
    "#Data visualization packages\n",
    "import matplotlib.pyplot as plt\n",
    "import seaborn as sns\n",
    "import plotly.express as px"
   ]
  },
  {
   "cell_type": "markdown",
   "metadata": {},
   "source": [
    "Loading data Sales January, February, March, April, May, June 2019"
   ]
  },
  {
   "cell_type": "code",
   "execution_count": 3,
   "metadata": {},
   "outputs": [
    {
     "data": {
      "text/html": [
       "<div>\n",
       "<style scoped>\n",
       "    .dataframe tbody tr th:only-of-type {\n",
       "        vertical-align: middle;\n",
       "    }\n",
       "\n",
       "    .dataframe tbody tr th {\n",
       "        vertical-align: top;\n",
       "    }\n",
       "\n",
       "    .dataframe thead th {\n",
       "        text-align: right;\n",
       "    }\n",
       "</style>\n",
       "<table border=\"1\" class=\"dataframe\">\n",
       "  <thead>\n",
       "    <tr style=\"text-align: right;\">\n",
       "      <th></th>\n",
       "      <th>Order ID</th>\n",
       "      <th>Product</th>\n",
       "      <th>Quantity Ordered</th>\n",
       "      <th>Price Each</th>\n",
       "      <th>Order Date</th>\n",
       "      <th>Purchase Address</th>\n",
       "    </tr>\n",
       "  </thead>\n",
       "  <tbody>\n",
       "    <tr>\n",
       "      <th>0</th>\n",
       "      <td>141234</td>\n",
       "      <td>iPhone</td>\n",
       "      <td>1</td>\n",
       "      <td>700</td>\n",
       "      <td>01/22/19 21:25</td>\n",
       "      <td>944 Walnut St, Boston, MA 02215</td>\n",
       "    </tr>\n",
       "    <tr>\n",
       "      <th>1</th>\n",
       "      <td>141235</td>\n",
       "      <td>Lightning Charging Cable</td>\n",
       "      <td>1</td>\n",
       "      <td>14.95</td>\n",
       "      <td>01/28/19 14:15</td>\n",
       "      <td>185 Maple St, Portland, OR 97035</td>\n",
       "    </tr>\n",
       "    <tr>\n",
       "      <th>2</th>\n",
       "      <td>141236</td>\n",
       "      <td>Wired Headphones</td>\n",
       "      <td>2</td>\n",
       "      <td>11.99</td>\n",
       "      <td>01/17/19 13:33</td>\n",
       "      <td>538 Adams St, San Francisco, CA 94016</td>\n",
       "    </tr>\n",
       "    <tr>\n",
       "      <th>3</th>\n",
       "      <td>141237</td>\n",
       "      <td>27in FHD Monitor</td>\n",
       "      <td>1</td>\n",
       "      <td>149.99</td>\n",
       "      <td>01/05/19 20:33</td>\n",
       "      <td>738 10th St, Los Angeles, CA 90001</td>\n",
       "    </tr>\n",
       "    <tr>\n",
       "      <th>4</th>\n",
       "      <td>141238</td>\n",
       "      <td>Wired Headphones</td>\n",
       "      <td>1</td>\n",
       "      <td>11.99</td>\n",
       "      <td>01/25/19 11:59</td>\n",
       "      <td>387 10th St, Austin, TX 73301</td>\n",
       "    </tr>\n",
       "  </tbody>\n",
       "</table>\n",
       "</div>"
      ],
      "text/plain": [
       "  Order ID                   Product Quantity Ordered Price Each  \\\n",
       "0   141234                    iPhone                1        700   \n",
       "1   141235  Lightning Charging Cable                1      14.95   \n",
       "2   141236          Wired Headphones                2      11.99   \n",
       "3   141237          27in FHD Monitor                1     149.99   \n",
       "4   141238          Wired Headphones                1      11.99   \n",
       "\n",
       "       Order Date                       Purchase Address  \n",
       "0  01/22/19 21:25        944 Walnut St, Boston, MA 02215  \n",
       "1  01/28/19 14:15       185 Maple St, Portland, OR 97035  \n",
       "2  01/17/19 13:33  538 Adams St, San Francisco, CA 94016  \n",
       "3  01/05/19 20:33     738 10th St, Los Angeles, CA 90001  \n",
       "4  01/25/19 11:59          387 10th St, Austin, TX 73301  "
      ]
     },
     "execution_count": 3,
     "metadata": {},
     "output_type": "execute_result"
    }
   ],
   "source": [
    "# Load data\n",
    "df_sales_January_2019 = pd.read_csv('Power BI Capstione Data - (Jan -May)/Sales_January_2019.csv')\n",
    "df_sales_February_2019 = pd.read_csv('Power BI Capstione Data - (Jan -May)/Sales_February_2019.csv')\n",
    "df_sales_March_2019 = pd.read_csv('Power BI Capstione Data - (Jan -May)/Sales_March_2019.csv')\n",
    "df_sales_April_2019 = pd.read_csv('Power BI Capstione Data - (Jan -May)/Sales_April_2019.csv')\n",
    "df_sales_May_2019 = pd.read_csv('Power BI Capstione Data - (Jan -May)/Sales_May_2019.csv')\n",
    "df_sales_June_2019 = pd.read_csv('Power BI Capstione Data - (Jan -May)/Sales_June_2019.csv')\n",
    "# Display the first few rows of the DataFrame\n",
    "df_sales_January_2019.head()"
   ]
  },
  {
   "cell_type": "code",
   "execution_count": 4,
   "metadata": {},
   "outputs": [
    {
     "name": "stdout",
     "output_type": "stream",
     "text": [
      "<class 'pandas.core.frame.DataFrame'>\n",
      "RangeIndex: 9723 entries, 0 to 9722\n",
      "Data columns (total 6 columns):\n",
      " #   Column            Non-Null Count  Dtype \n",
      "---  ------            --------------  ----- \n",
      " 0   Order ID          9697 non-null   object\n",
      " 1   Product           9697 non-null   object\n",
      " 2   Quantity Ordered  9697 non-null   object\n",
      " 3   Price Each        9697 non-null   object\n",
      " 4   Order Date        9697 non-null   object\n",
      " 5   Purchase Address  9697 non-null   object\n",
      "dtypes: object(6)\n",
      "memory usage: 455.9+ KB\n"
     ]
    }
   ],
   "source": [
    "# View information about the DataFrame\n",
    "# This line displays information about the DataFrame, including the data types of columns and memory usage\n",
    "df_sales_January_2019.info()"
   ]
  },
  {
   "cell_type": "code",
   "execution_count": 5,
   "metadata": {},
   "outputs": [
    {
     "name": "stdout",
     "output_type": "stream",
     "text": [
      "Order ID                   float64\n",
      "Product                     object\n",
      "Quantity Ordered           float64\n",
      "Price Each                 float64\n",
      "Order Date          datetime64[ns]\n",
      "Purchase Address            object\n",
      "dtype: object\n"
     ]
    }
   ],
   "source": [
    "# Convert 'Order ID' column to numeric, coercing errors to NaN\n",
    "df_sales_January_2019['Order ID'] = pd.to_numeric(df_sales_January_2019['Order ID'], errors='coerce')\n",
    "\n",
    "# Convert 'Quantity Ordered' and 'Price Each' columns to numeric\n",
    "df_sales_January_2019['Quantity Ordered'] = pd.to_numeric(df_sales_January_2019['Quantity Ordered'], errors='coerce')\n",
    "df_sales_January_2019['Price Each'] = pd.to_numeric(df_sales_January_2019['Price Each'], errors='coerce')\n",
    "\n",
    "# Convert 'Order Date' column to datetime\n",
    "df_sales_January_2019['Order Date'] = pd.to_datetime(df_sales_January_2019['Order Date'], format='%m/%d/%y %H:%M', errors='coerce')\n",
    "\n",
    "\n",
    "# Now, check the data types after conversion\n",
    "print(df_sales_January_2019.dtypes)\n"
   ]
  },
  {
   "cell_type": "code",
   "execution_count": 6,
   "metadata": {},
   "outputs": [
    {
     "data": {
      "text/plain": [
       "Index(['Order ID', 'Product', 'Quantity Ordered', 'Price Each', 'Order Date',\n",
       "       'Purchase Address'],\n",
       "      dtype='object')"
      ]
     },
     "execution_count": 6,
     "metadata": {},
     "output_type": "execute_result"
    }
   ],
   "source": [
    "# View the column names\n",
    "df_sales_January_2019.columns"
   ]
  },
  {
   "cell_type": "code",
   "execution_count": 7,
   "metadata": {},
   "outputs": [
    {
     "name": "stdout",
     "output_type": "stream",
     "text": [
      "Number of unique values in 'Order ID': 9268\n",
      "Number of unique values in 'Product': 20\n",
      "Number of unique values in 'Quantity Ordered': 7\n",
      "Number of unique values in 'Price Each': 17\n",
      "Number of unique values in 'Order Date': 8076\n",
      "Number of unique values in 'Purchase Address': 9161\n"
     ]
    }
   ],
   "source": [
    "# Iterate over columns and print the number of unique values in each column\n",
    "for column in df_sales_January_2019.columns:\n",
    "    unique_values = df_sales_January_2019[column].nunique()\n",
    "    print(f\"Number of unique values in '{column}': {unique_values}\")"
   ]
  },
  {
   "cell_type": "code",
   "execution_count": 8,
   "metadata": {},
   "outputs": [
    {
     "name": "stdout",
     "output_type": "stream",
     "text": [
      "Unique values in 'Order ID':\n",
      "[141234. 141235. 141236. ... 150499. 150500. 150501.]\n",
      "Unique values in 'Product':\n",
      "['iPhone' 'Lightning Charging Cable' 'Wired Headphones' '27in FHD Monitor'\n",
      " 'AAA Batteries (4-pack)' '27in 4K Gaming Monitor' 'USB-C Charging Cable'\n",
      " 'Bose SoundSport Headphones' 'Apple Airpods Headphones'\n",
      " 'Macbook Pro Laptop' 'Flatscreen TV' 'Vareebadd Phone'\n",
      " 'AA Batteries (4-pack)' 'Google Phone' '20in Monitor'\n",
      " '34in Ultrawide Monitor' 'ThinkPad Laptop' 'LG Dryer'\n",
      " 'LG Washing Machine' nan 'Product']\n",
      "Unique values in 'Quantity Ordered':\n",
      "[ 1.  2.  3.  5.  4. nan  7.  6.]\n",
      "Unique values in 'Price Each':\n",
      "[ 700.     14.95   11.99  149.99    2.99  389.99   11.95   99.99  150.\n",
      " 1700.    300.    400.      3.84  600.    109.99  379.99  999.99     nan]\n",
      "Unique values in 'Order Date':\n",
      "<DatetimeArray>\n",
      "['2019-01-22 21:25:00', '2019-01-28 14:15:00', '2019-01-17 13:33:00',\n",
      " '2019-01-05 20:33:00', '2019-01-25 11:59:00', '2019-01-29 20:22:00',\n",
      " '2019-01-26 12:16:00', '2019-01-05 12:04:00', '2019-01-01 10:30:00',\n",
      " '2019-01-22 21:20:00',\n",
      " ...\n",
      " '2019-01-08 09:49:00', '2019-01-26 02:26:00', '2019-01-08 15:10:00',\n",
      " '2019-01-15 09:33:00', '2019-01-28 20:32:00', '2019-01-26 19:09:00',\n",
      " '2019-01-10 22:58:00', '2019-01-21 14:31:00', '2019-01-15 14:21:00',\n",
      " '2019-01-13 16:43:00']\n",
      "Length: 8077, dtype: datetime64[ns]\n",
      "Unique values in 'Purchase Address':\n",
      "['944 Walnut St, Boston, MA 02215' '185 Maple St, Portland, OR 97035'\n",
      " '538 Adams St, San Francisco, CA 94016' ...\n",
      " '214 Main St, Portland, OR 97035' '810 2nd St, Los Angeles, CA 90001'\n",
      " '428 Cedar St, Boston, MA 02215']\n"
     ]
    }
   ],
   "source": [
    "# Iterate over columns and view unique values\n",
    "for column in df_sales_January_2019.columns:\n",
    "    unique_values = df_sales_January_2019[column].unique()\n",
    "    print(f\"Unique values in '{column}':\")\n",
    "    print(unique_values)\n"
   ]
  },
  {
   "cell_type": "markdown",
   "metadata": {},
   "source": [
    "Observations:\n",
    "\n",
    "1. Order ID: The 'Order ID' column contains unique numerical identifiers for each order. There are no apparent issues with this column.\n",
    "2. Product: The 'Product' column contains the names of various products sold. It includes a variety of products such as iPhones, charging cables, headphones, monitors, batteries, laptops, TVs, and washing machines. However, there are two unusual entries: 'nan' and 'Product', which might indicate missing or placeholder values.\n",
    "3. Quantity Ordered: The 'Quantity Ordered' column contains the number of units ordered for each product. Most entries are numerical values representing quantities, but there are some unusual entries such as 'nan' and 'Quantity Ordered', which may indicate missing or placeholder values.\n",
    "4. Price Each: The 'Price Each' column contains the price of each product. Most entries are numerical values representing prices, but there are some unusual entries such as 'nan' and 'Price Each', which may indicate missing or placeholder values. Additionally, there are some duplicate values in a different format ('600' and '600.0').\n",
    "5. Order Date: The 'Order Date' column contains the date and time when each order was placed. Entries are in the format 'MM/DD/YY HH:mm'.\n",
    "6. Purchase Address: The 'Purchase Address' column contains the addresses where the purchases were made. Each entry includes the street address, city, and ZIP code.\n",
    "\n",
    "Overall, while most columns appear to contain relevant information, there are some anomalies in the 'Product', 'Quantity Ordered', and 'Price Each' columns that need further investigation and potential cleaning. Additionally, missing values ('nan') and placeholder values ('Product' and 'Quantity Ordered') should be addressed to ensure the integrity of the dataset."
   ]
  },
  {
   "cell_type": "code",
   "execution_count": 9,
   "metadata": {},
   "outputs": [
    {
     "data": {
      "text/plain": [
       "(9723, 6)"
      ]
     },
     "execution_count": 9,
     "metadata": {},
     "output_type": "execute_result"
    }
   ],
   "source": [
    "# View the dimensions of the DataFrame\n",
    "df_sales_January_2019.shape"
   ]
  },
  {
   "cell_type": "code",
   "execution_count": 10,
   "metadata": {},
   "outputs": [
    {
     "data": {
      "text/html": [
       "<div>\n",
       "<style scoped>\n",
       "    .dataframe tbody tr th:only-of-type {\n",
       "        vertical-align: middle;\n",
       "    }\n",
       "\n",
       "    .dataframe tbody tr th {\n",
       "        vertical-align: top;\n",
       "    }\n",
       "\n",
       "    .dataframe thead th {\n",
       "        text-align: right;\n",
       "    }\n",
       "</style>\n",
       "<table border=\"1\" class=\"dataframe\">\n",
       "  <thead>\n",
       "    <tr style=\"text-align: right;\">\n",
       "      <th></th>\n",
       "      <th>Order ID</th>\n",
       "      <th>Quantity Ordered</th>\n",
       "      <th>Price Each</th>\n",
       "      <th>Order Date</th>\n",
       "    </tr>\n",
       "  </thead>\n",
       "  <tbody>\n",
       "    <tr>\n",
       "      <th>count</th>\n",
       "      <td>9681.000000</td>\n",
       "      <td>9681.000000</td>\n",
       "      <td>9681.000000</td>\n",
       "      <td>9681</td>\n",
       "    </tr>\n",
       "    <tr>\n",
       "      <th>mean</th>\n",
       "      <td>145859.984816</td>\n",
       "      <td>1.122611</td>\n",
       "      <td>186.449092</td>\n",
       "      <td>2019-01-16 17:33:21.394484224</td>\n",
       "    </tr>\n",
       "    <tr>\n",
       "      <th>min</th>\n",
       "      <td>141234.000000</td>\n",
       "      <td>1.000000</td>\n",
       "      <td>2.990000</td>\n",
       "      <td>2019-01-01 03:07:00</td>\n",
       "    </tr>\n",
       "    <tr>\n",
       "      <th>25%</th>\n",
       "      <td>143541.000000</td>\n",
       "      <td>1.000000</td>\n",
       "      <td>11.950000</td>\n",
       "      <td>2019-01-09 01:37:00</td>\n",
       "    </tr>\n",
       "    <tr>\n",
       "      <th>50%</th>\n",
       "      <td>145852.000000</td>\n",
       "      <td>1.000000</td>\n",
       "      <td>14.950000</td>\n",
       "      <td>2019-01-16 18:53:00</td>\n",
       "    </tr>\n",
       "    <tr>\n",
       "      <th>75%</th>\n",
       "      <td>148173.000000</td>\n",
       "      <td>1.000000</td>\n",
       "      <td>150.000000</td>\n",
       "      <td>2019-01-24 13:19:00</td>\n",
       "    </tr>\n",
       "    <tr>\n",
       "      <th>max</th>\n",
       "      <td>150501.000000</td>\n",
       "      <td>7.000000</td>\n",
       "      <td>1700.000000</td>\n",
       "      <td>2019-02-01 04:02:00</td>\n",
       "    </tr>\n",
       "    <tr>\n",
       "      <th>std</th>\n",
       "      <td>2674.333362</td>\n",
       "      <td>0.442273</td>\n",
       "      <td>330.799693</td>\n",
       "      <td>NaN</td>\n",
       "    </tr>\n",
       "  </tbody>\n",
       "</table>\n",
       "</div>"
      ],
      "text/plain": [
       "            Order ID  Quantity Ordered   Price Each  \\\n",
       "count    9681.000000       9681.000000  9681.000000   \n",
       "mean   145859.984816          1.122611   186.449092   \n",
       "min    141234.000000          1.000000     2.990000   \n",
       "25%    143541.000000          1.000000    11.950000   \n",
       "50%    145852.000000          1.000000    14.950000   \n",
       "75%    148173.000000          1.000000   150.000000   \n",
       "max    150501.000000          7.000000  1700.000000   \n",
       "std      2674.333362          0.442273   330.799693   \n",
       "\n",
       "                          Order Date  \n",
       "count                           9681  \n",
       "mean   2019-01-16 17:33:21.394484224  \n",
       "min              2019-01-01 03:07:00  \n",
       "25%              2019-01-09 01:37:00  \n",
       "50%              2019-01-16 18:53:00  \n",
       "75%              2019-01-24 13:19:00  \n",
       "max              2019-02-01 04:02:00  \n",
       "std                              NaN  "
      ]
     },
     "execution_count": 10,
     "metadata": {},
     "output_type": "execute_result"
    }
   ],
   "source": [
    "# Display descriptive statistics of the DataFrame\n",
    "df_sales_January_2019.describe()"
   ]
  },
  {
   "cell_type": "markdown",
   "metadata": {},
   "source": [
    "The DataFrame df_sales_January_2019 contains sales data for January 2019. Here's a summary of its descriptive statistics:\n",
    "\n",
    "1. Order ID: There are 9697 entries. However, there are 9269 unique Order IDs, indicating some duplication or inconsistency. The most frequent entry is \"Order ID\" with a frequency of 16, suggesting potential header repetition or missing values.\n",
    "2. Product: There are 9697 entries and 20 unique products. The most common product is the \"USB-C Charging Cable\" with a frequency of 1171, indicating its popularity among customers.\n",
    "3. Quantity Ordered: There are 9697 entries, and the quantity ordered ranges from 1 to 8 units. The most common quantity ordered is 1, occurring 8795 times.\n",
    "4. Price Each: There are 9697 entries, and the price of each item ranges from $2.99 to $1700. The most common price is $11.95, occurring 1171 times.\n",
    "5. Order Date: There are 9697 entries, and 8077 unique order dates. The most frequent entry is \"Order Date\" with a frequency of 16, indicating potential inconsistency or repetition.\n",
    "6. Purchase Address: There are 9697 entries, and 9161 unique purchase addresses. The most frequent entry is \"Purchase Address\" with a frequency of 16, indicating potential inconsistency or repetition.\n",
    "\n",
    "Overall, the summary suggests that there may be inconsistencies and missing values in the dataset, particularly in the \"Order ID\" and \"Order Date\" columns. Cleaning and preprocessing may be necessary before further analysis."
   ]
  },
  {
   "cell_type": "code",
   "execution_count": 11,
   "metadata": {},
   "outputs": [
    {
     "data": {
      "text/plain": [
       "Order ID            42\n",
       "Product             26\n",
       "Quantity Ordered    42\n",
       "Price Each          42\n",
       "Order Date          42\n",
       "Purchase Address    26\n",
       "dtype: int64"
      ]
     },
     "execution_count": 11,
     "metadata": {},
     "output_type": "execute_result"
    }
   ],
   "source": [
    "# Count the number of missing values in each column\n",
    "df_sales_January_2019.isnull().sum()"
   ]
  },
  {
   "cell_type": "markdown",
   "metadata": {},
   "source": [
    " there are 26 missing values in each column of the DataFrame df_sales_January_2019. This suggests that there are consistent missing values across all columns, which may require further investigation or handling depending on the analysis or processing steps to be performed on the data."
   ]
  },
  {
   "cell_type": "code",
   "execution_count": 12,
   "metadata": {},
   "outputs": [
    {
     "data": {
      "text/plain": [
       "50"
      ]
     },
     "execution_count": 12,
     "metadata": {},
     "output_type": "execute_result"
    }
   ],
   "source": [
    "# Count the number of duplicate rows in the DataFrame\n",
    "df_sales_January_2019.duplicated().sum()"
   ]
  },
  {
   "cell_type": "code",
   "execution_count": 13,
   "metadata": {},
   "outputs": [],
   "source": [
    "# Drop duplicate rows and reset index inplace\n",
    "df_sales_January_2019.drop_duplicates(inplace=True)\n",
    "df_sales_January_2019.reset_index(drop=True, inplace=True)"
   ]
  },
  {
   "cell_type": "code",
   "execution_count": 14,
   "metadata": {},
   "outputs": [
    {
     "data": {
      "text/plain": [
       "0"
      ]
     },
     "execution_count": 14,
     "metadata": {},
     "output_type": "execute_result"
    }
   ],
   "source": [
    "# Count the number of duplicate rows in the DataFrame\n",
    "df_sales_January_2019.duplicated().sum()"
   ]
  },
  {
   "cell_type": "markdown",
   "metadata": {},
   "source": [
    " there are 50 duplicate rows in the DataFrame df_sales_January_2019. Duplicate rows may indicate errors in data collection or entry and may need to be investigated further to ensure data quality."
   ]
  },
  {
   "cell_type": "markdown",
   "metadata": {},
   "source": [
    "## Dataset of df_sales_February_2019"
   ]
  },
  {
   "cell_type": "code",
   "execution_count": 15,
   "metadata": {},
   "outputs": [
    {
     "data": {
      "text/html": [
       "<div>\n",
       "<style scoped>\n",
       "    .dataframe tbody tr th:only-of-type {\n",
       "        vertical-align: middle;\n",
       "    }\n",
       "\n",
       "    .dataframe tbody tr th {\n",
       "        vertical-align: top;\n",
       "    }\n",
       "\n",
       "    .dataframe thead th {\n",
       "        text-align: right;\n",
       "    }\n",
       "</style>\n",
       "<table border=\"1\" class=\"dataframe\">\n",
       "  <thead>\n",
       "    <tr style=\"text-align: right;\">\n",
       "      <th></th>\n",
       "      <th>Order ID</th>\n",
       "      <th>Product</th>\n",
       "      <th>Quantity Ordered</th>\n",
       "      <th>Price Each</th>\n",
       "      <th>Order Date</th>\n",
       "      <th>Purchase Address</th>\n",
       "    </tr>\n",
       "  </thead>\n",
       "  <tbody>\n",
       "    <tr>\n",
       "      <th>0</th>\n",
       "      <td>150502</td>\n",
       "      <td>iPhone</td>\n",
       "      <td>1</td>\n",
       "      <td>700</td>\n",
       "      <td>02/18/19 01:35</td>\n",
       "      <td>866 Spruce St, Portland, ME 04101</td>\n",
       "    </tr>\n",
       "    <tr>\n",
       "      <th>1</th>\n",
       "      <td>150503</td>\n",
       "      <td>AA Batteries (4-pack)</td>\n",
       "      <td>1</td>\n",
       "      <td>3.84</td>\n",
       "      <td>02/13/19 07:24</td>\n",
       "      <td>18 13th St, San Francisco, CA 94016</td>\n",
       "    </tr>\n",
       "    <tr>\n",
       "      <th>2</th>\n",
       "      <td>150504</td>\n",
       "      <td>27in 4K Gaming Monitor</td>\n",
       "      <td>1</td>\n",
       "      <td>389.99</td>\n",
       "      <td>02/18/19 09:46</td>\n",
       "      <td>52 6th St, New York City, NY 10001</td>\n",
       "    </tr>\n",
       "    <tr>\n",
       "      <th>3</th>\n",
       "      <td>150505</td>\n",
       "      <td>Lightning Charging Cable</td>\n",
       "      <td>1</td>\n",
       "      <td>14.95</td>\n",
       "      <td>02/02/19 16:47</td>\n",
       "      <td>129 Cherry St, Atlanta, GA 30301</td>\n",
       "    </tr>\n",
       "    <tr>\n",
       "      <th>4</th>\n",
       "      <td>150506</td>\n",
       "      <td>AA Batteries (4-pack)</td>\n",
       "      <td>2</td>\n",
       "      <td>3.84</td>\n",
       "      <td>02/28/19 20:32</td>\n",
       "      <td>548 Lincoln St, Seattle, WA 98101</td>\n",
       "    </tr>\n",
       "  </tbody>\n",
       "</table>\n",
       "</div>"
      ],
      "text/plain": [
       "  Order ID                   Product Quantity Ordered Price Each  \\\n",
       "0   150502                    iPhone                1        700   \n",
       "1   150503     AA Batteries (4-pack)                1       3.84   \n",
       "2   150504    27in 4K Gaming Monitor                1     389.99   \n",
       "3   150505  Lightning Charging Cable                1      14.95   \n",
       "4   150506     AA Batteries (4-pack)                2       3.84   \n",
       "\n",
       "       Order Date                     Purchase Address  \n",
       "0  02/18/19 01:35    866 Spruce St, Portland, ME 04101  \n",
       "1  02/13/19 07:24  18 13th St, San Francisco, CA 94016  \n",
       "2  02/18/19 09:46   52 6th St, New York City, NY 10001  \n",
       "3  02/02/19 16:47     129 Cherry St, Atlanta, GA 30301  \n",
       "4  02/28/19 20:32    548 Lincoln St, Seattle, WA 98101  "
      ]
     },
     "execution_count": 15,
     "metadata": {},
     "output_type": "execute_result"
    }
   ],
   "source": [
    "# Display the first few rows of the DataFrame\n",
    "df_sales_February_2019.head()"
   ]
  },
  {
   "cell_type": "code",
   "execution_count": 16,
   "metadata": {},
   "outputs": [
    {
     "name": "stdout",
     "output_type": "stream",
     "text": [
      "<class 'pandas.core.frame.DataFrame'>\n",
      "RangeIndex: 12036 entries, 0 to 12035\n",
      "Data columns (total 6 columns):\n",
      " #   Column            Non-Null Count  Dtype \n",
      "---  ------            --------------  ----- \n",
      " 0   Order ID          12004 non-null  object\n",
      " 1   Product           12004 non-null  object\n",
      " 2   Quantity Ordered  12004 non-null  object\n",
      " 3   Price Each        12004 non-null  object\n",
      " 4   Order Date        12004 non-null  object\n",
      " 5   Purchase Address  12004 non-null  object\n",
      "dtypes: object(6)\n",
      "memory usage: 564.3+ KB\n"
     ]
    }
   ],
   "source": [
    "# View information about the DataFrame\n",
    "# This line displays information about the DataFrame, including the data types of columns and memory usage\n",
    "df_sales_February_2019.info()"
   ]
  },
  {
   "cell_type": "code",
   "execution_count": 17,
   "metadata": {},
   "outputs": [
    {
     "name": "stdout",
     "output_type": "stream",
     "text": [
      "Order ID                   float64\n",
      "Product                     object\n",
      "Quantity Ordered           float64\n",
      "Price Each                 float64\n",
      "Order Date          datetime64[ns]\n",
      "Purchase Address            object\n",
      "dtype: object\n"
     ]
    }
   ],
   "source": [
    "# Convert 'Order ID' column to numeric, coercing errors to NaN\n",
    "df_sales_February_2019['Order ID'] = pd.to_numeric(df_sales_February_2019['Order ID'], errors='coerce')\n",
    "\n",
    "# Convert 'Quantity Ordered' and 'Price Each' columns to numeric\n",
    "df_sales_February_2019['Quantity Ordered'] = pd.to_numeric(df_sales_February_2019['Quantity Ordered'], errors='coerce')\n",
    "df_sales_February_2019['Price Each'] = pd.to_numeric(df_sales_February_2019['Price Each'], errors='coerce')\n",
    "\n",
    "# Convert 'Order Date' column to datetime\n",
    "df_sales_February_2019['Order Date'] = pd.to_datetime(df_sales_February_2019['Order Date'], format='%m/%d/%y %H:%M', errors='coerce')\n",
    "\n",
    "\n",
    "# Now, check the data types after conversion\n",
    "print(df_sales_February_2019.dtypes)\n"
   ]
  },
  {
   "cell_type": "code",
   "execution_count": 18,
   "metadata": {},
   "outputs": [
    {
     "data": {
      "text/plain": [
       "Index(['Order ID', 'Product', 'Quantity Ordered', 'Price Each', 'Order Date',\n",
       "       'Purchase Address'],\n",
       "      dtype='object')"
      ]
     },
     "execution_count": 18,
     "metadata": {},
     "output_type": "execute_result"
    }
   ],
   "source": [
    "# View the column names\n",
    "df_sales_February_2019.columns"
   ]
  },
  {
   "cell_type": "code",
   "execution_count": 19,
   "metadata": {},
   "outputs": [
    {
     "name": "stdout",
     "output_type": "stream",
     "text": [
      "Number of unique values in 'Order ID': 11507\n",
      "Number of unique values in 'Product': 20\n",
      "Number of unique values in 'Quantity Ordered': 7\n",
      "Number of unique values in 'Price Each': 17\n",
      "Number of unique values in 'Order Date': 9626\n",
      "Number of unique values in 'Purchase Address': 11316\n"
     ]
    }
   ],
   "source": [
    "# Iterate over columns and print the number of unique values in each column\n",
    "for column in df_sales_February_2019.columns:\n",
    "    unique_values = df_sales_February_2019[column].nunique()\n",
    "    print(f\"Number of unique values in '{column}': {unique_values}\")"
   ]
  },
  {
   "cell_type": "code",
   "execution_count": 20,
   "metadata": {},
   "outputs": [
    {
     "name": "stdout",
     "output_type": "stream",
     "text": [
      "Unique values in 'Order ID':\n",
      "[150502. 150503. 150504. ... 162006. 162007. 162008.]\n",
      "Unique values in 'Product':\n",
      "['iPhone' 'AA Batteries (4-pack)' '27in 4K Gaming Monitor'\n",
      " 'Lightning Charging Cable' 'Apple Airpods Headphones'\n",
      " 'USB-C Charging Cable' 'Bose SoundSport Headphones' '27in FHD Monitor'\n",
      " 'Wired Headphones' 'Macbook Pro Laptop' 'Flatscreen TV' '20in Monitor'\n",
      " 'LG Dryer' 'AAA Batteries (4-pack)' 'ThinkPad Laptop'\n",
      " '34in Ultrawide Monitor' nan 'Google Phone' 'Vareebadd Phone'\n",
      " 'LG Washing Machine' 'Product']\n",
      "Unique values in 'Quantity Ordered':\n",
      "[ 1.  2.  4.  3. nan  5.  7.  6.]\n",
      "Unique values in 'Price Each':\n",
      "[ 700.      3.84  389.99   14.95  150.     11.95   99.99  149.99   11.99\n",
      " 1700.    300.    109.99  600.      2.99  999.99  379.99     nan  400.  ]\n",
      "Unique values in 'Order Date':\n",
      "<DatetimeArray>\n",
      "['2019-02-18 01:35:00', '2019-02-13 07:24:00', '2019-02-18 09:46:00',\n",
      " '2019-02-02 16:47:00', '2019-02-28 20:32:00', '2019-02-24 18:50:00',\n",
      " '2019-02-21 19:26:00', '2019-02-26 19:53:00', '2019-02-17 21:48:00',\n",
      " '2019-02-22 07:36:00',\n",
      " ...\n",
      " '2019-02-01 19:24:00', '2019-02-10 12:09:00', '2019-02-22 20:09:00',\n",
      " '2019-02-28 22:15:00', '2019-02-16 19:08:00', '2019-02-16 16:44:00',\n",
      " '2019-02-06 15:32:00', '2019-02-04 20:44:00', '2019-02-24 06:31:00',\n",
      " '2019-02-24 19:09:00']\n",
      "Length: 9627, dtype: datetime64[ns]\n",
      "Unique values in 'Purchase Address':\n",
      "['866 Spruce St, Portland, ME 04101' '18 13th St, San Francisco, CA 94016'\n",
      " '52 6th St, New York City, NY 10001' ... '498 8th St, Atlanta, GA 30301'\n",
      " '715 7th St, Dallas, TX 75001' '677 West St, Los Angeles, CA 90001']\n"
     ]
    }
   ],
   "source": [
    "# Iterate over columns and view unique values\n",
    "for column in df_sales_February_2019.columns:\n",
    "    unique_values = df_sales_February_2019[column].unique()\n",
    "    print(f\"Unique values in '{column}':\")\n",
    "    print(unique_values)\n"
   ]
  },
  {
   "cell_type": "markdown",
   "metadata": {},
   "source": [
    "Observations:\n",
    "\n",
    "1. Order ID: The 'Order ID' column contains unique numerical identifiers for each order. There are no apparent issues with this column.\n",
    "2. Product: The 'Product' column contains the names of various products sold. It includes a variety of products such as iPhones, batteries, monitors, charging cables, headphones, laptops, TVs, and washing machines. However, there are two unusual entries: 'nan' and 'Product', which might indicate missing or placeholder values.\n",
    "3. Quantity Ordered: The 'Quantity Ordered' column contains the number of units ordered for each product. Most entries are numerical values representing quantities, but there are some unusual entries such as 'nan' and 'Quantity Ordered', which may indicate missing or placeholder values.\n",
    "4. Price Each: The 'Price Each' column contains the price of each product. Most entries are numerical values representing prices, but there are some unusual entries such as 'nan' and 'Price Each', which may indicate missing or placeholder values. Additionally, there are some duplicate values in a different format ('600' and '600.0').\n",
    "5. Order Date: The 'Order Date' column contains the date and time when each order was placed. Entries are in the format 'MM/DD/YY HH:mm'.\n",
    "6. Purchase Address: The 'Purchase Address' column contains the addresses where the purchases were made. Each entry includes the street address, city, state, and ZIP code.\n",
    "\n",
    "Similar to the previous observations, anomalies exist in the 'Product', 'Quantity Ordered', and 'Price Each' columns that need further investigation and cleaning. Additionally, missing values ('nan') and placeholder values ('Product' and 'Quantity Ordered') should be handled appropriately to ensure the accuracy of the dataset.\n"
   ]
  },
  {
   "cell_type": "code",
   "execution_count": 21,
   "metadata": {},
   "outputs": [
    {
     "data": {
      "text/plain": [
       "(12036, 6)"
      ]
     },
     "execution_count": 21,
     "metadata": {},
     "output_type": "execute_result"
    }
   ],
   "source": [
    "# View the dimensions of the DataFrame\n",
    "df_sales_February_2019.shape"
   ]
  },
  {
   "cell_type": "code",
   "execution_count": 22,
   "metadata": {},
   "outputs": [
    {
     "data": {
      "text/html": [
       "<div>\n",
       "<style scoped>\n",
       "    .dataframe tbody tr th:only-of-type {\n",
       "        vertical-align: middle;\n",
       "    }\n",
       "\n",
       "    .dataframe tbody tr th {\n",
       "        vertical-align: top;\n",
       "    }\n",
       "\n",
       "    .dataframe thead th {\n",
       "        text-align: right;\n",
       "    }\n",
       "</style>\n",
       "<table border=\"1\" class=\"dataframe\">\n",
       "  <thead>\n",
       "    <tr style=\"text-align: right;\">\n",
       "      <th></th>\n",
       "      <th>Order ID</th>\n",
       "      <th>Quantity Ordered</th>\n",
       "      <th>Price Each</th>\n",
       "      <th>Order Date</th>\n",
       "    </tr>\n",
       "  </thead>\n",
       "  <tbody>\n",
       "    <tr>\n",
       "      <th>count</th>\n",
       "      <td>11986.000000</td>\n",
       "      <td>11986.00000</td>\n",
       "      <td>11986.000000</td>\n",
       "      <td>11986</td>\n",
       "    </tr>\n",
       "    <tr>\n",
       "      <th>mean</th>\n",
       "      <td>156250.613382</td>\n",
       "      <td>1.12306</td>\n",
       "      <td>182.741507</td>\n",
       "      <td>2019-02-15 05:06:01.421658624</td>\n",
       "    </tr>\n",
       "    <tr>\n",
       "      <th>min</th>\n",
       "      <td>150502.000000</td>\n",
       "      <td>1.00000</td>\n",
       "      <td>2.990000</td>\n",
       "      <td>2019-02-01 01:51:00</td>\n",
       "    </tr>\n",
       "    <tr>\n",
       "      <th>25%</th>\n",
       "      <td>153374.250000</td>\n",
       "      <td>1.00000</td>\n",
       "      <td>11.950000</td>\n",
       "      <td>2019-02-08 11:25:45</td>\n",
       "    </tr>\n",
       "    <tr>\n",
       "      <th>50%</th>\n",
       "      <td>156247.500000</td>\n",
       "      <td>1.00000</td>\n",
       "      <td>14.950000</td>\n",
       "      <td>2019-02-15 04:03:30</td>\n",
       "    </tr>\n",
       "    <tr>\n",
       "      <th>75%</th>\n",
       "      <td>159123.750000</td>\n",
       "      <td>1.00000</td>\n",
       "      <td>150.000000</td>\n",
       "      <td>2019-02-22 01:17:30</td>\n",
       "    </tr>\n",
       "    <tr>\n",
       "      <th>max</th>\n",
       "      <td>162008.000000</td>\n",
       "      <td>7.00000</td>\n",
       "      <td>1700.000000</td>\n",
       "      <td>2019-03-01 05:56:00</td>\n",
       "    </tr>\n",
       "    <tr>\n",
       "      <th>std</th>\n",
       "      <td>3322.075263</td>\n",
       "      <td>0.43111</td>\n",
       "      <td>325.543296</td>\n",
       "      <td>NaN</td>\n",
       "    </tr>\n",
       "  </tbody>\n",
       "</table>\n",
       "</div>"
      ],
      "text/plain": [
       "            Order ID  Quantity Ordered    Price Each  \\\n",
       "count   11986.000000       11986.00000  11986.000000   \n",
       "mean   156250.613382           1.12306    182.741507   \n",
       "min    150502.000000           1.00000      2.990000   \n",
       "25%    153374.250000           1.00000     11.950000   \n",
       "50%    156247.500000           1.00000     14.950000   \n",
       "75%    159123.750000           1.00000    150.000000   \n",
       "max    162008.000000           7.00000   1700.000000   \n",
       "std      3322.075263           0.43111    325.543296   \n",
       "\n",
       "                          Order Date  \n",
       "count                          11986  \n",
       "mean   2019-02-15 05:06:01.421658624  \n",
       "min              2019-02-01 01:51:00  \n",
       "25%              2019-02-08 11:25:45  \n",
       "50%              2019-02-15 04:03:30  \n",
       "75%              2019-02-22 01:17:30  \n",
       "max              2019-03-01 05:56:00  \n",
       "std                              NaN  "
      ]
     },
     "execution_count": 22,
     "metadata": {},
     "output_type": "execute_result"
    }
   ],
   "source": [
    "# Display descriptive statistics of the DataFrame\n",
    "df_sales_February_2019.describe()"
   ]
  },
  {
   "cell_type": "markdown",
   "metadata": {},
   "source": [
    "1. Order ID: There are 12004 entries. However, there are 11508 unique Order IDs, indicating some duplication or inconsistency. The most frequent entry is \"Order ID\" with a frequency of 18, suggesting potential header repetition or missing values.\n",
    "2. Product: There are 12004 entries and 20 unique products. The most common product is the \"USB-C Charging Cable\" with a frequency of 1514, indicating its popularity among customers.\n",
    "3. Quantity Ordered: There are 12004 entries, and the quantity ordered ranges from 1 to 8 units. The most common quantity ordered is 1, occurring 10863 times.\n",
    "4. Price Each: There are 12004 entries, and the price of each item ranges from $2.99 to $1700. The most common price is $11.95, occurring 1514 times.\n",
    "5. Order Date: There are 12004 entries, and 9627 unique order dates. The most frequent entry is \"Order Date\" with a frequency of 18, indicating potential inconsistency or repetition.\n",
    "6. Purchase Address: There are 12004 entries, and 11316 unique purchase addresses. The most frequent entry is \"Purchase Address\" with a frequency of 18, indicating potential inconsistency or repetition.\n",
    "Similarly to the previous summary, there may be inconsistencies and missing values in the dataset, particularly in the \"Order ID\" and \"Order Date\" columns. Cleaning and preprocessing may be necessary before further analysis."
   ]
  },
  {
   "cell_type": "code",
   "execution_count": 23,
   "metadata": {},
   "outputs": [
    {
     "data": {
      "text/plain": [
       "Order ID            50\n",
       "Product             32\n",
       "Quantity Ordered    50\n",
       "Price Each          50\n",
       "Order Date          50\n",
       "Purchase Address    32\n",
       "dtype: int64"
      ]
     },
     "execution_count": 23,
     "metadata": {},
     "output_type": "execute_result"
    }
   ],
   "source": [
    "# Count the number of missing values in each column\n",
    "df_sales_February_2019.isnull().sum()"
   ]
  },
  {
   "cell_type": "markdown",
   "metadata": {},
   "source": [
    "In the dataset for February 2019 sales (df_sales_February_2019), each column contains 32 missing values. This suggests potential data entry issues or gaps in the data collection process for that month. These missing values need to be addressed to ensure the integrity and completeness of the dataset for analysis."
   ]
  },
  {
   "cell_type": "code",
   "execution_count": 24,
   "metadata": {},
   "outputs": [
    {
     "data": {
      "text/plain": [
       "66"
      ]
     },
     "execution_count": 24,
     "metadata": {},
     "output_type": "execute_result"
    }
   ],
   "source": [
    "# Count the number of duplicate rows in the DataFrame\n",
    "df_sales_February_2019.duplicated().sum()"
   ]
  },
  {
   "cell_type": "code",
   "execution_count": 25,
   "metadata": {},
   "outputs": [],
   "source": [
    "# Drop duplicate rows and reset index inplace\n",
    "df_sales_February_2019.drop_duplicates(inplace=True)\n",
    "df_sales_February_2019.reset_index(drop=True, inplace=True)"
   ]
  },
  {
   "cell_type": "code",
   "execution_count": 26,
   "metadata": {},
   "outputs": [
    {
     "data": {
      "text/plain": [
       "0"
      ]
     },
     "execution_count": 26,
     "metadata": {},
     "output_type": "execute_result"
    }
   ],
   "source": [
    "# Count the number of duplicate rows in the DataFrame\n",
    "df_sales_February_2019.duplicated().sum()"
   ]
  },
  {
   "cell_type": "markdown",
   "metadata": {},
   "source": [
    "In the DataFrame for February 2019 sales (df_sales_February_2019), there are 66 duplicate rows. These duplicates might indicate errors in data entry or repeated transactions, and they should be reviewed and potentially removed to ensure the accuracy of the dataset for analysis."
   ]
  },
  {
   "cell_type": "markdown",
   "metadata": {},
   "source": [
    "## Dataset of df_sales_March_2019"
   ]
  },
  {
   "cell_type": "code",
   "execution_count": 27,
   "metadata": {},
   "outputs": [
    {
     "data": {
      "text/html": [
       "<div>\n",
       "<style scoped>\n",
       "    .dataframe tbody tr th:only-of-type {\n",
       "        vertical-align: middle;\n",
       "    }\n",
       "\n",
       "    .dataframe tbody tr th {\n",
       "        vertical-align: top;\n",
       "    }\n",
       "\n",
       "    .dataframe thead th {\n",
       "        text-align: right;\n",
       "    }\n",
       "</style>\n",
       "<table border=\"1\" class=\"dataframe\">\n",
       "  <thead>\n",
       "    <tr style=\"text-align: right;\">\n",
       "      <th></th>\n",
       "      <th>Order ID</th>\n",
       "      <th>Product</th>\n",
       "      <th>Quantity Ordered</th>\n",
       "      <th>Price Each</th>\n",
       "      <th>Order Date</th>\n",
       "      <th>Purchase Address</th>\n",
       "    </tr>\n",
       "  </thead>\n",
       "  <tbody>\n",
       "    <tr>\n",
       "      <th>0</th>\n",
       "      <td>162009</td>\n",
       "      <td>iPhone</td>\n",
       "      <td>1</td>\n",
       "      <td>700</td>\n",
       "      <td>03/28/19 20:59</td>\n",
       "      <td>942 Church St, Austin, TX 73301</td>\n",
       "    </tr>\n",
       "    <tr>\n",
       "      <th>1</th>\n",
       "      <td>162009</td>\n",
       "      <td>Lightning Charging Cable</td>\n",
       "      <td>1</td>\n",
       "      <td>14.95</td>\n",
       "      <td>03/28/19 20:59</td>\n",
       "      <td>942 Church St, Austin, TX 73301</td>\n",
       "    </tr>\n",
       "    <tr>\n",
       "      <th>2</th>\n",
       "      <td>162009</td>\n",
       "      <td>Wired Headphones</td>\n",
       "      <td>2</td>\n",
       "      <td>11.99</td>\n",
       "      <td>03/28/19 20:59</td>\n",
       "      <td>942 Church St, Austin, TX 73301</td>\n",
       "    </tr>\n",
       "    <tr>\n",
       "      <th>3</th>\n",
       "      <td>162010</td>\n",
       "      <td>Bose SoundSport Headphones</td>\n",
       "      <td>1</td>\n",
       "      <td>99.99</td>\n",
       "      <td>03/17/19 05:39</td>\n",
       "      <td>261 10th St, San Francisco, CA 94016</td>\n",
       "    </tr>\n",
       "    <tr>\n",
       "      <th>4</th>\n",
       "      <td>162011</td>\n",
       "      <td>34in Ultrawide Monitor</td>\n",
       "      <td>1</td>\n",
       "      <td>379.99</td>\n",
       "      <td>03/10/19 00:01</td>\n",
       "      <td>764 13th St, San Francisco, CA 94016</td>\n",
       "    </tr>\n",
       "  </tbody>\n",
       "</table>\n",
       "</div>"
      ],
      "text/plain": [
       "  Order ID                     Product Quantity Ordered Price Each  \\\n",
       "0   162009                      iPhone                1        700   \n",
       "1   162009    Lightning Charging Cable                1      14.95   \n",
       "2   162009            Wired Headphones                2      11.99   \n",
       "3   162010  Bose SoundSport Headphones                1      99.99   \n",
       "4   162011      34in Ultrawide Monitor                1     379.99   \n",
       "\n",
       "       Order Date                      Purchase Address  \n",
       "0  03/28/19 20:59       942 Church St, Austin, TX 73301  \n",
       "1  03/28/19 20:59       942 Church St, Austin, TX 73301  \n",
       "2  03/28/19 20:59       942 Church St, Austin, TX 73301  \n",
       "3  03/17/19 05:39  261 10th St, San Francisco, CA 94016  \n",
       "4  03/10/19 00:01  764 13th St, San Francisco, CA 94016  "
      ]
     },
     "execution_count": 27,
     "metadata": {},
     "output_type": "execute_result"
    }
   ],
   "source": [
    "# Display the first few rows of the DataFrame\n",
    "df_sales_March_2019.head()"
   ]
  },
  {
   "cell_type": "code",
   "execution_count": 28,
   "metadata": {},
   "outputs": [
    {
     "name": "stdout",
     "output_type": "stream",
     "text": [
      "<class 'pandas.core.frame.DataFrame'>\n",
      "RangeIndex: 15226 entries, 0 to 15225\n",
      "Data columns (total 6 columns):\n",
      " #   Column            Non-Null Count  Dtype \n",
      "---  ------            --------------  ----- \n",
      " 0   Order ID          15189 non-null  object\n",
      " 1   Product           15189 non-null  object\n",
      " 2   Quantity Ordered  15189 non-null  object\n",
      " 3   Price Each        15189 non-null  object\n",
      " 4   Order Date        15189 non-null  object\n",
      " 5   Purchase Address  15189 non-null  object\n",
      "dtypes: object(6)\n",
      "memory usage: 713.8+ KB\n"
     ]
    }
   ],
   "source": [
    "# View information about the DataFrame\n",
    "# This line displays information about the DataFrame, including the data types of columns and memory usage\n",
    "df_sales_March_2019.info()"
   ]
  },
  {
   "cell_type": "code",
   "execution_count": 29,
   "metadata": {},
   "outputs": [
    {
     "name": "stdout",
     "output_type": "stream",
     "text": [
      "Order ID                   float64\n",
      "Product                     object\n",
      "Quantity Ordered           float64\n",
      "Price Each                 float64\n",
      "Order Date          datetime64[ns]\n",
      "Purchase Address            object\n",
      "dtype: object\n"
     ]
    }
   ],
   "source": [
    "# Convert 'Order ID' column to numeric, coercing errors to NaN\n",
    "df_sales_March_2019['Order ID'] = pd.to_numeric(df_sales_March_2019['Order ID'], errors='coerce')\n",
    "\n",
    "# Convert 'Quantity Ordered' and 'Price Each' columns to numeric\n",
    "df_sales_March_2019['Quantity Ordered'] = pd.to_numeric(df_sales_March_2019['Quantity Ordered'], errors='coerce')\n",
    "df_sales_March_2019['Price Each'] = pd.to_numeric(df_sales_March_2019['Price Each'], errors='coerce')\n",
    "\n",
    "# Convert 'Order Date' column to datetime\n",
    "df_sales_March_2019['Order Date'] = pd.to_datetime(df_sales_March_2019['Order Date'], format='%m/%d/%y %H:%M', errors='coerce')\n",
    "\n",
    "\n",
    "# Now, check the data types after conversion\n",
    "print(df_sales_March_2019.dtypes)"
   ]
  },
  {
   "cell_type": "code",
   "execution_count": 30,
   "metadata": {},
   "outputs": [
    {
     "data": {
      "text/plain": [
       "Index(['Order ID', 'Product', 'Quantity Ordered', 'Price Each', 'Order Date',\n",
       "       'Purchase Address'],\n",
       "      dtype='object')"
      ]
     },
     "execution_count": 30,
     "metadata": {},
     "output_type": "execute_result"
    }
   ],
   "source": [
    "# View the column names\n",
    "df_sales_March_2019.columns"
   ]
  },
  {
   "cell_type": "code",
   "execution_count": 31,
   "metadata": {},
   "outputs": [
    {
     "name": "stdout",
     "output_type": "stream",
     "text": [
      "Number of unique values in 'Order ID': 14549\n",
      "Number of unique values in 'Product': 20\n",
      "Number of unique values in 'Quantity Ordered': 7\n",
      "Number of unique values in 'Price Each': 17\n",
      "Number of unique values in 'Order Date': 11783\n",
      "Number of unique values in 'Purchase Address': 14247\n"
     ]
    }
   ],
   "source": [
    "# Iterate over columns and print the number of unique values in each column\n",
    "for column in df_sales_March_2019.columns:\n",
    "    unique_values = df_sales_March_2019[column].nunique()\n",
    "    print(f\"Number of unique values in '{column}': {unique_values}\")"
   ]
  },
  {
   "cell_type": "code",
   "execution_count": 32,
   "metadata": {},
   "outputs": [
    {
     "name": "stdout",
     "output_type": "stream",
     "text": [
      "Unique values in 'Order ID':\n",
      "[162009. 162010. 162011. ... 176555. 176556. 176557.]\n",
      "Unique values in 'Product':\n",
      "['iPhone' 'Lightning Charging Cable' 'Wired Headphones'\n",
      " 'Bose SoundSport Headphones' '34in Ultrawide Monitor'\n",
      " 'AA Batteries (4-pack)' 'USB-C Charging Cable' 'AAA Batteries (4-pack)'\n",
      " 'LG Washing Machine' 'Apple Airpods Headphones' '27in 4K Gaming Monitor'\n",
      " 'Google Phone' 'Macbook Pro Laptop' '27in FHD Monitor' 'ThinkPad Laptop'\n",
      " 'Vareebadd Phone' 'Flatscreen TV' '20in Monitor' 'Product' 'LG Dryer' nan]\n",
      "Unique values in 'Quantity Ordered':\n",
      "[ 1.  2.  5.  3.  4.  6. nan  7.]\n",
      "Unique values in 'Price Each':\n",
      "[ 700.     14.95   11.99   99.99  379.99    3.84   11.95    2.99  600.\n",
      "  150.    389.99 1700.    149.99  999.99  400.    300.    109.99     nan]\n",
      "Unique values in 'Order Date':\n",
      "<DatetimeArray>\n",
      "['2019-03-28 20:59:00', '2019-03-17 05:39:00', '2019-03-10 00:01:00',\n",
      " '2019-03-20 21:33:00', '2019-03-15 23:05:00', '2019-03-01 21:33:00',\n",
      " '2019-03-02 08:52:00', '2019-03-19 21:10:00', '2019-03-02 13:55:00',\n",
      " '2019-03-18 11:07:00',\n",
      " ...\n",
      " '2019-03-12 07:33:00', '2019-03-13 10:22:00', '2019-03-11 17:44:00',\n",
      " '2019-03-26 15:34:00', '2019-03-01 16:39:00', '2019-03-20 01:24:00',\n",
      " '2019-03-24 11:14:00', '2019-03-22 20:27:00', '2019-03-14 10:29:00',\n",
      " '2019-03-30 12:32:00']\n",
      "Length: 11784, dtype: datetime64[ns]\n",
      "Unique values in 'Purchase Address':\n",
      "['942 Church St, Austin, TX 73301' '261 10th St, San Francisco, CA 94016'\n",
      " '764 13th St, San Francisco, CA 94016' ...\n",
      " '42 4th St, San Francisco, CA 94016' '871 7th St, Los Angeles, CA 90001'\n",
      " '83 Washington St, San Francisco, CA 94016']\n"
     ]
    }
   ],
   "source": [
    "# Iterate over columns and view unique values\n",
    "for column in df_sales_March_2019.columns:\n",
    "    unique_values = df_sales_March_2019[column].unique()\n",
    "    print(f\"Unique values in '{column}':\")\n",
    "    print(unique_values)\n"
   ]
  },
  {
   "cell_type": "markdown",
   "metadata": {},
   "source": [
    "Observations:\n",
    "\n",
    "1. Order ID: The 'Order ID' column contains unique numerical identifiers for each order. There are no apparent issues with this column.\n",
    "2. Product: The 'Product' column contains the names of various products sold. It includes a variety of products such as iPhones, charging cables, headphones, monitors, batteries, laptops, TVs, and washing machines. However, there are two unusual entries: 'nan' and 'Product', which might indicate missing or placeholder values.\n",
    "3. Quantity Ordered: The 'Quantity Ordered' column contains the number of units ordered for each product. Most entries are numerical values representing quantities, but there are some unusual entries such as 'nan' and 'Quantity Ordered', which may indicate missing or placeholder values.\n",
    "4. Price Each: The 'Price Each' column contains the price of each product. Most entries are numerical values representing prices, but there are some unusual entries such as 'nan' and 'Price Each', which may indicate missing or placeholder values. Additionally, there are some duplicate values in a different format ('600' and '600.0').\n",
    "5. Order Date: The 'Order Date' column contains the date and time when each order was placed. Entries are in the format 'MM/DD/YY HH:mm'.\n",
    "6. Purchase Address: The 'Purchase Address' column contains the addresses where the purchases were made. Each entry includes the street address, city, state, and ZIP code.\n",
    "\n",
    "Similar to the previous observations, anomalies exist in the 'Product', 'Quantity Ordered', and 'Price Each' columns that need further investigation and cleaning. Additionally, missing values ('nan') and placeholder values ('Product' and 'Quantity Ordered') should be handled appropriately to ensure the accuracy of the dataset.\n"
   ]
  },
  {
   "cell_type": "code",
   "execution_count": 33,
   "metadata": {},
   "outputs": [
    {
     "data": {
      "text/plain": [
       "(15226, 6)"
      ]
     },
     "execution_count": 33,
     "metadata": {},
     "output_type": "execute_result"
    }
   ],
   "source": [
    "# View the dimensions of the DataFrame\n",
    "df_sales_March_2019.shape"
   ]
  },
  {
   "cell_type": "code",
   "execution_count": 34,
   "metadata": {},
   "outputs": [
    {
     "data": {
      "text/html": [
       "<div>\n",
       "<style scoped>\n",
       "    .dataframe tbody tr th:only-of-type {\n",
       "        vertical-align: middle;\n",
       "    }\n",
       "\n",
       "    .dataframe tbody tr th {\n",
       "        vertical-align: top;\n",
       "    }\n",
       "\n",
       "    .dataframe thead th {\n",
       "        text-align: right;\n",
       "    }\n",
       "</style>\n",
       "<table border=\"1\" class=\"dataframe\">\n",
       "  <thead>\n",
       "    <tr style=\"text-align: right;\">\n",
       "      <th></th>\n",
       "      <th>Order ID</th>\n",
       "      <th>Quantity Ordered</th>\n",
       "      <th>Price Each</th>\n",
       "      <th>Order Date</th>\n",
       "    </tr>\n",
       "  </thead>\n",
       "  <tbody>\n",
       "    <tr>\n",
       "      <th>count</th>\n",
       "      <td>15154.000000</td>\n",
       "      <td>15154.000000</td>\n",
       "      <td>15154.000000</td>\n",
       "      <td>15154</td>\n",
       "    </tr>\n",
       "    <tr>\n",
       "      <th>mean</th>\n",
       "      <td>169275.361687</td>\n",
       "      <td>1.122212</td>\n",
       "      <td>184.319097</td>\n",
       "      <td>2019-03-16 14:43:59.469446912</td>\n",
       "    </tr>\n",
       "    <tr>\n",
       "      <th>min</th>\n",
       "      <td>162009.000000</td>\n",
       "      <td>1.000000</td>\n",
       "      <td>2.990000</td>\n",
       "      <td>2019-03-01 03:15:00</td>\n",
       "    </tr>\n",
       "    <tr>\n",
       "      <th>25%</th>\n",
       "      <td>165632.250000</td>\n",
       "      <td>1.000000</td>\n",
       "      <td>11.950000</td>\n",
       "      <td>2019-03-08 19:32:00</td>\n",
       "    </tr>\n",
       "    <tr>\n",
       "      <th>50%</th>\n",
       "      <td>169277.500000</td>\n",
       "      <td>1.000000</td>\n",
       "      <td>14.950000</td>\n",
       "      <td>2019-03-16 13:35:30</td>\n",
       "    </tr>\n",
       "    <tr>\n",
       "      <th>75%</th>\n",
       "      <td>172912.750000</td>\n",
       "      <td>1.000000</td>\n",
       "      <td>150.000000</td>\n",
       "      <td>2019-03-24 09:36:15</td>\n",
       "    </tr>\n",
       "    <tr>\n",
       "      <th>max</th>\n",
       "      <td>176557.000000</td>\n",
       "      <td>7.000000</td>\n",
       "      <td>1700.000000</td>\n",
       "      <td>2019-04-01 03:21:00</td>\n",
       "    </tr>\n",
       "    <tr>\n",
       "      <th>std</th>\n",
       "      <td>4202.535663</td>\n",
       "      <td>0.441201</td>\n",
       "      <td>331.619714</td>\n",
       "      <td>NaN</td>\n",
       "    </tr>\n",
       "  </tbody>\n",
       "</table>\n",
       "</div>"
      ],
      "text/plain": [
       "            Order ID  Quantity Ordered    Price Each  \\\n",
       "count   15154.000000      15154.000000  15154.000000   \n",
       "mean   169275.361687          1.122212    184.319097   \n",
       "min    162009.000000          1.000000      2.990000   \n",
       "25%    165632.250000          1.000000     11.950000   \n",
       "50%    169277.500000          1.000000     14.950000   \n",
       "75%    172912.750000          1.000000    150.000000   \n",
       "max    176557.000000          7.000000   1700.000000   \n",
       "std      4202.535663          0.441201    331.619714   \n",
       "\n",
       "                          Order Date  \n",
       "count                          15154  \n",
       "mean   2019-03-16 14:43:59.469446912  \n",
       "min              2019-03-01 03:15:00  \n",
       "25%              2019-03-08 19:32:00  \n",
       "50%              2019-03-16 13:35:30  \n",
       "75%              2019-03-24 09:36:15  \n",
       "max              2019-04-01 03:21:00  \n",
       "std                              NaN  "
      ]
     },
     "execution_count": 34,
     "metadata": {},
     "output_type": "execute_result"
    }
   ],
   "source": [
    "# Display descriptive statistics of the DataFrame\n",
    "df_sales_March_2019.describe()"
   ]
  },
  {
   "cell_type": "markdown",
   "metadata": {},
   "source": [
    "In the DataFrame for March 2019 sales (df_sales_March_2019), the descriptive statistics are as follows:\n",
    "\n",
    "1. Order ID: There are 15,189 entries. The number of unique order IDs is 14,550. The top value is \"Order ID,\" occurring 35 times.\n",
    "Product: There are 15,189 entries. The number of unique products is 20. The most frequent product is \"USB-C Charging Cable,\" occurring 1,770 times.\n",
    "2. Quantity Ordered: There are 15,189 entries. The number of unique quantities ordered is 8. The most frequent quantity ordered is 1, occurring 13,779 times.\n",
    "3. Price Each: There are 15,189 entries. The number of unique prices is 19. The top price is $11.95, occurring 1,770 times.\n",
    "Order Date: There are 15,189 entries. The number of unique order dates is 11,784. The top value is \"Order Date,\" occurring 35 times.\n",
    "4. Purchase Address: There are 15,189 entries. The number of unique purchase addresses is 14,247. The top value is \"Purchase Address,\" occurring 35 times.\n",
    "These statistics provide an overview of the data distribution and can help identify any anomalies or inconsistencies in the dataset."
   ]
  },
  {
   "cell_type": "code",
   "execution_count": 35,
   "metadata": {},
   "outputs": [
    {
     "data": {
      "text/plain": [
       "Order ID            72\n",
       "Product             37\n",
       "Quantity Ordered    72\n",
       "Price Each          72\n",
       "Order Date          72\n",
       "Purchase Address    37\n",
       "dtype: int64"
      ]
     },
     "execution_count": 35,
     "metadata": {},
     "output_type": "execute_result"
    }
   ],
   "source": [
    "# Count the number of missing values in each column\n",
    "df_sales_March_2019.isnull().sum()"
   ]
  },
  {
   "cell_type": "markdown",
   "metadata": {},
   "source": [
    "In the DataFrame for March 2019 sales (df_sales_March_2019), there are 37 missing values in each column: Order ID, Product, Quantity Ordered, Price Each, Order Date, and Purchase Address. These missing values need to be handled appropriately before further analysis or processing."
   ]
  },
  {
   "cell_type": "code",
   "execution_count": 36,
   "metadata": {},
   "outputs": [
    {
     "data": {
      "text/plain": [
       "95"
      ]
     },
     "execution_count": 36,
     "metadata": {},
     "output_type": "execute_result"
    }
   ],
   "source": [
    "# Count the number of duplicate rows in the DataFrame\n",
    "df_sales_March_2019.duplicated().sum()"
   ]
  },
  {
   "cell_type": "code",
   "execution_count": 37,
   "metadata": {},
   "outputs": [],
   "source": [
    "# Drop duplicate rows and reset index inplace\n",
    "df_sales_March_2019.drop_duplicates(inplace=True)\n",
    "df_sales_March_2019.reset_index(drop=True, inplace=True)"
   ]
  },
  {
   "cell_type": "code",
   "execution_count": 38,
   "metadata": {},
   "outputs": [
    {
     "data": {
      "text/plain": [
       "0"
      ]
     },
     "execution_count": 38,
     "metadata": {},
     "output_type": "execute_result"
    }
   ],
   "source": [
    "# Count the number of duplicate rows in the DataFrame\n",
    "df_sales_March_2019.duplicated().sum()"
   ]
  },
  {
   "cell_type": "markdown",
   "metadata": {},
   "source": [
    "The number of duplicate rows in the DataFrame for March 2019 sales (df_sales_March_2019) is 95."
   ]
  },
  {
   "cell_type": "markdown",
   "metadata": {},
   "source": [
    "## Data set of df_sales_April_2019"
   ]
  },
  {
   "cell_type": "code",
   "execution_count": 39,
   "metadata": {},
   "outputs": [
    {
     "data": {
      "text/html": [
       "<div>\n",
       "<style scoped>\n",
       "    .dataframe tbody tr th:only-of-type {\n",
       "        vertical-align: middle;\n",
       "    }\n",
       "\n",
       "    .dataframe tbody tr th {\n",
       "        vertical-align: top;\n",
       "    }\n",
       "\n",
       "    .dataframe thead th {\n",
       "        text-align: right;\n",
       "    }\n",
       "</style>\n",
       "<table border=\"1\" class=\"dataframe\">\n",
       "  <thead>\n",
       "    <tr style=\"text-align: right;\">\n",
       "      <th></th>\n",
       "      <th>Order ID</th>\n",
       "      <th>Product</th>\n",
       "      <th>Quantity Ordered</th>\n",
       "      <th>Price Each</th>\n",
       "      <th>Order Date</th>\n",
       "      <th>Purchase Address</th>\n",
       "    </tr>\n",
       "  </thead>\n",
       "  <tbody>\n",
       "    <tr>\n",
       "      <th>0</th>\n",
       "      <td>176558</td>\n",
       "      <td>USB-C Charging Cable</td>\n",
       "      <td>2</td>\n",
       "      <td>11.95</td>\n",
       "      <td>04/19/19 08:46</td>\n",
       "      <td>917 1st St, Dallas, TX 75001</td>\n",
       "    </tr>\n",
       "    <tr>\n",
       "      <th>1</th>\n",
       "      <td>NaN</td>\n",
       "      <td>NaN</td>\n",
       "      <td>NaN</td>\n",
       "      <td>NaN</td>\n",
       "      <td>NaN</td>\n",
       "      <td>NaN</td>\n",
       "    </tr>\n",
       "    <tr>\n",
       "      <th>2</th>\n",
       "      <td>176559</td>\n",
       "      <td>Bose SoundSport Headphones</td>\n",
       "      <td>1</td>\n",
       "      <td>99.99</td>\n",
       "      <td>04/07/19 22:30</td>\n",
       "      <td>682 Chestnut St, Boston, MA 02215</td>\n",
       "    </tr>\n",
       "    <tr>\n",
       "      <th>3</th>\n",
       "      <td>176560</td>\n",
       "      <td>Google Phone</td>\n",
       "      <td>1</td>\n",
       "      <td>600</td>\n",
       "      <td>04/12/19 14:38</td>\n",
       "      <td>669 Spruce St, Los Angeles, CA 90001</td>\n",
       "    </tr>\n",
       "    <tr>\n",
       "      <th>4</th>\n",
       "      <td>176560</td>\n",
       "      <td>Wired Headphones</td>\n",
       "      <td>1</td>\n",
       "      <td>11.99</td>\n",
       "      <td>04/12/19 14:38</td>\n",
       "      <td>669 Spruce St, Los Angeles, CA 90001</td>\n",
       "    </tr>\n",
       "  </tbody>\n",
       "</table>\n",
       "</div>"
      ],
      "text/plain": [
       "  Order ID                     Product Quantity Ordered Price Each  \\\n",
       "0   176558        USB-C Charging Cable                2      11.95   \n",
       "1      NaN                         NaN              NaN        NaN   \n",
       "2   176559  Bose SoundSport Headphones                1      99.99   \n",
       "3   176560                Google Phone                1        600   \n",
       "4   176560            Wired Headphones                1      11.99   \n",
       "\n",
       "       Order Date                      Purchase Address  \n",
       "0  04/19/19 08:46          917 1st St, Dallas, TX 75001  \n",
       "1             NaN                                   NaN  \n",
       "2  04/07/19 22:30     682 Chestnut St, Boston, MA 02215  \n",
       "3  04/12/19 14:38  669 Spruce St, Los Angeles, CA 90001  \n",
       "4  04/12/19 14:38  669 Spruce St, Los Angeles, CA 90001  "
      ]
     },
     "execution_count": 39,
     "metadata": {},
     "output_type": "execute_result"
    }
   ],
   "source": [
    "# Display the first few rows of the DataFrame\n",
    "df_sales_April_2019.head()"
   ]
  },
  {
   "cell_type": "code",
   "execution_count": 40,
   "metadata": {},
   "outputs": [
    {
     "name": "stdout",
     "output_type": "stream",
     "text": [
      "<class 'pandas.core.frame.DataFrame'>\n",
      "RangeIndex: 18383 entries, 0 to 18382\n",
      "Data columns (total 6 columns):\n",
      " #   Column            Non-Null Count  Dtype \n",
      "---  ------            --------------  ----- \n",
      " 0   Order ID          18324 non-null  object\n",
      " 1   Product           18324 non-null  object\n",
      " 2   Quantity Ordered  18324 non-null  object\n",
      " 3   Price Each        18324 non-null  object\n",
      " 4   Order Date        18324 non-null  object\n",
      " 5   Purchase Address  18324 non-null  object\n",
      "dtypes: object(6)\n",
      "memory usage: 861.8+ KB\n"
     ]
    }
   ],
   "source": [
    "# View information about the DataFrame\n",
    "# This line displays information about the DataFrame, including the data types of columns and memory usage\n",
    "df_sales_April_2019.info()"
   ]
  },
  {
   "cell_type": "code",
   "execution_count": 41,
   "metadata": {},
   "outputs": [
    {
     "name": "stdout",
     "output_type": "stream",
     "text": [
      "Order ID                   float64\n",
      "Product                     object\n",
      "Quantity Ordered           float64\n",
      "Price Each                 float64\n",
      "Order Date          datetime64[ns]\n",
      "Purchase Address            object\n",
      "dtype: object\n"
     ]
    }
   ],
   "source": [
    "# Convert 'Order ID' column to numeric, coercing errors to NaN\n",
    "df_sales_April_2019['Order ID'] = pd.to_numeric(df_sales_April_2019['Order ID'], errors='coerce')\n",
    "\n",
    "# Convert 'Quantity Ordered' and 'Price Each' columns to numeric\n",
    "df_sales_April_2019['Quantity Ordered'] = pd.to_numeric(df_sales_April_2019['Quantity Ordered'], errors='coerce')\n",
    "df_sales_April_2019['Price Each'] = pd.to_numeric(df_sales_April_2019['Price Each'], errors='coerce')\n",
    "\n",
    "# Convert 'Order Date' column to datetime\n",
    "df_sales_April_2019['Order Date'] = pd.to_datetime(df_sales_April_2019['Order Date'], format='%m/%d/%y %H:%M', errors='coerce')\n",
    "\n",
    "\n",
    "# Now, check the data types after conversion\n",
    "print(df_sales_April_2019.dtypes)"
   ]
  },
  {
   "cell_type": "code",
   "execution_count": 42,
   "metadata": {},
   "outputs": [
    {
     "data": {
      "text/plain": [
       "Index(['Order ID', 'Product', 'Quantity Ordered', 'Price Each', 'Order Date',\n",
       "       'Purchase Address'],\n",
       "      dtype='object')"
      ]
     },
     "execution_count": 42,
     "metadata": {},
     "output_type": "execute_result"
    }
   ],
   "source": [
    "# View the column names\n",
    "df_sales_April_2019.columns"
   ]
  },
  {
   "cell_type": "code",
   "execution_count": 43,
   "metadata": {},
   "outputs": [
    {
     "name": "stdout",
     "output_type": "stream",
     "text": [
      "Number of unique values in 'Order ID': 17537\n",
      "Number of unique values in 'Product': 20\n",
      "Number of unique values in 'Quantity Ordered': 7\n",
      "Number of unique values in 'Price Each': 17\n",
      "Number of unique values in 'Order Date': 13583\n",
      "Number of unique values in 'Purchase Address': 17120\n"
     ]
    }
   ],
   "source": [
    "# Iterate over columns and print the number of unique values in each column\n",
    "for column in df_sales_April_2019.columns:\n",
    "    unique_values = df_sales_April_2019[column].nunique()\n",
    "    print(f\"Number of unique values in '{column}': {unique_values}\")"
   ]
  },
  {
   "cell_type": "code",
   "execution_count": 44,
   "metadata": {},
   "outputs": [
    {
     "name": "stdout",
     "output_type": "stream",
     "text": [
      "Unique values in 'Order ID':\n",
      "[176558.     nan 176559. ... 194092. 194093. 194094.]\n",
      "Unique values in 'Product':\n",
      "['USB-C Charging Cable' nan 'Bose SoundSport Headphones' 'Google Phone'\n",
      " 'Wired Headphones' 'Macbook Pro Laptop' 'Lightning Charging Cable'\n",
      " '27in 4K Gaming Monitor' 'AA Batteries (4-pack)'\n",
      " 'Apple Airpods Headphones' 'AAA Batteries (4-pack)' 'iPhone'\n",
      " 'Flatscreen TV' '27in FHD Monitor' '20in Monitor' 'LG Dryer'\n",
      " 'ThinkPad Laptop' 'Vareebadd Phone' 'LG Washing Machine'\n",
      " '34in Ultrawide Monitor' 'Product']\n",
      "Unique values in 'Quantity Ordered':\n",
      "[ 2. nan  1.  3.  5.  4.  7.  6.]\n",
      "Unique values in 'Price Each':\n",
      "[  11.95     nan   99.99  600.     11.99 1700.     14.95  389.99    3.84\n",
      "  150.      2.99  700.    300.    149.99  109.99  999.99  400.    379.99]\n",
      "Unique values in 'Order Date':\n",
      "<DatetimeArray>\n",
      "['2019-04-19 08:46:00',                 'NaT', '2019-04-07 22:30:00',\n",
      " '2019-04-12 14:38:00', '2019-04-30 09:27:00', '2019-04-29 13:03:00',\n",
      " '2019-04-02 07:46:00', '2019-04-12 10:58:00', '2019-04-24 10:38:00',\n",
      " '2019-04-08 14:05:00',\n",
      " ...\n",
      " '2019-04-27 15:12:00', '2019-04-27 13:37:00', '2019-04-23 22:33:00',\n",
      " '2019-04-26 22:11:00', '2019-04-17 20:12:00', '2019-04-26 11:44:00',\n",
      " '2019-04-09 17:15:00', '2019-04-15 16:02:00', '2019-04-14 15:09:00',\n",
      " '2019-04-18 11:08:00']\n",
      "Length: 13584, dtype: datetime64[ns]\n",
      "Unique values in 'Purchase Address':\n",
      "['917 1st St, Dallas, TX 75001' nan '682 Chestnut St, Boston, MA 02215'\n",
      " ... '347 Sunset St, San Francisco, CA 94016'\n",
      " '835 Lake St, Portland, OR 97035' '354 North St, Boston, MA 02215']\n"
     ]
    }
   ],
   "source": [
    "# Iterate over columns and view unique values\n",
    "for column in df_sales_April_2019:\n",
    "    unique_values = df_sales_April_2019[column].unique()\n",
    "    print(f\"Unique values in '{column}':\")\n",
    "    print(unique_values)\n"
   ]
  },
  {
   "cell_type": "markdown",
   "metadata": {},
   "source": [
    "Observations:\n",
    "\n",
    "1. Order ID: The 'Order ID' column contains unique numerical identifiers for each order. However, there are some 'nan' values present in this column, indicating missing values.\n",
    "2. Product: The 'Product' column contains the names of various products sold. Similar to previous observations, there are 'nan' and 'Product' entries, indicating missing or placeholder values.\n",
    "3. Quantity Ordered: The 'Quantity Ordered' column contains the number of units ordered for each product. Similar to previous observations, there are 'nan' and 'Quantity Ordered' entries, indicating missing or placeholder values.\n",
    "4. Price Each: The 'Price Each' column contains the price of each product. Similar to previous observations, there are 'nan' and 'Price Each' entries, indicating missing or placeholder values. Additionally, there are some duplicate values in a different format ('600' and '600.0').\n",
    "5. Order Date: The 'Order Date' column contains the date and time when each order was placed. Similar to previous observations, there are 'nan' entries, indicating missing values.\n",
    "6. Purchase Address: The 'Purchase Address' column contains the addresses where the purchases were made. Similar to previous observations, there are 'nan' entries, indicating missing values.\n",
    "\n",
    "As before, the anomalies in the 'Product', 'Quantity Ordered', 'Price Each', 'Order Date', and 'Purchase Address' columns need further investigation and cleaning to ensure the accuracy of the dataset. Additionally, missing values should be handled appropriately to maintain data integrity."
   ]
  },
  {
   "cell_type": "code",
   "execution_count": 45,
   "metadata": {},
   "outputs": [
    {
     "data": {
      "text/plain": [
       "(18383, 6)"
      ]
     },
     "execution_count": 45,
     "metadata": {},
     "output_type": "execute_result"
    }
   ],
   "source": [
    "# View the dimensions of the DataFrame\n",
    "df_sales_April_2019.shape"
   ]
  },
  {
   "cell_type": "code",
   "execution_count": 46,
   "metadata": {},
   "outputs": [
    {
     "data": {
      "text/html": [
       "<div>\n",
       "<style scoped>\n",
       "    .dataframe tbody tr th:only-of-type {\n",
       "        vertical-align: middle;\n",
       "    }\n",
       "\n",
       "    .dataframe tbody tr th {\n",
       "        vertical-align: top;\n",
       "    }\n",
       "\n",
       "    .dataframe thead th {\n",
       "        text-align: right;\n",
       "    }\n",
       "</style>\n",
       "<table border=\"1\" class=\"dataframe\">\n",
       "  <thead>\n",
       "    <tr style=\"text-align: right;\">\n",
       "      <th></th>\n",
       "      <th>Order ID</th>\n",
       "      <th>Quantity Ordered</th>\n",
       "      <th>Price Each</th>\n",
       "      <th>Order Date</th>\n",
       "    </tr>\n",
       "  </thead>\n",
       "  <tbody>\n",
       "    <tr>\n",
       "      <th>count</th>\n",
       "      <td>18289.000000</td>\n",
       "      <td>18289.00000</td>\n",
       "      <td>18289.000000</td>\n",
       "      <td>18289</td>\n",
       "    </tr>\n",
       "    <tr>\n",
       "      <th>mean</th>\n",
       "      <td>185328.816720</td>\n",
       "      <td>1.12461</td>\n",
       "      <td>184.431026</td>\n",
       "      <td>2019-04-16 03:16:12.443545344</td>\n",
       "    </tr>\n",
       "    <tr>\n",
       "      <th>min</th>\n",
       "      <td>176558.000000</td>\n",
       "      <td>1.00000</td>\n",
       "      <td>2.990000</td>\n",
       "      <td>2019-04-01 03:09:00</td>\n",
       "    </tr>\n",
       "    <tr>\n",
       "      <th>25%</th>\n",
       "      <td>180952.000000</td>\n",
       "      <td>1.00000</td>\n",
       "      <td>11.950000</td>\n",
       "      <td>2019-04-08 17:09:00</td>\n",
       "    </tr>\n",
       "    <tr>\n",
       "      <th>50%</th>\n",
       "      <td>185328.000000</td>\n",
       "      <td>1.00000</td>\n",
       "      <td>14.950000</td>\n",
       "      <td>2019-04-16 00:47:00</td>\n",
       "    </tr>\n",
       "    <tr>\n",
       "      <th>75%</th>\n",
       "      <td>189706.000000</td>\n",
       "      <td>1.00000</td>\n",
       "      <td>150.000000</td>\n",
       "      <td>2019-04-23 15:18:00</td>\n",
       "    </tr>\n",
       "    <tr>\n",
       "      <th>max</th>\n",
       "      <td>194094.000000</td>\n",
       "      <td>7.00000</td>\n",
       "      <td>1700.000000</td>\n",
       "      <td>2019-05-01 04:25:00</td>\n",
       "    </tr>\n",
       "    <tr>\n",
       "      <th>std</th>\n",
       "      <td>5061.520829</td>\n",
       "      <td>0.43641</td>\n",
       "      <td>330.913377</td>\n",
       "      <td>NaN</td>\n",
       "    </tr>\n",
       "  </tbody>\n",
       "</table>\n",
       "</div>"
      ],
      "text/plain": [
       "            Order ID  Quantity Ordered    Price Each  \\\n",
       "count   18289.000000       18289.00000  18289.000000   \n",
       "mean   185328.816720           1.12461    184.431026   \n",
       "min    176558.000000           1.00000      2.990000   \n",
       "25%    180952.000000           1.00000     11.950000   \n",
       "50%    185328.000000           1.00000     14.950000   \n",
       "75%    189706.000000           1.00000    150.000000   \n",
       "max    194094.000000           7.00000   1700.000000   \n",
       "std      5061.520829           0.43641    330.913377   \n",
       "\n",
       "                          Order Date  \n",
       "count                          18289  \n",
       "mean   2019-04-16 03:16:12.443545344  \n",
       "min              2019-04-01 03:09:00  \n",
       "25%              2019-04-08 17:09:00  \n",
       "50%              2019-04-16 00:47:00  \n",
       "75%              2019-04-23 15:18:00  \n",
       "max              2019-05-01 04:25:00  \n",
       "std                              NaN  "
      ]
     },
     "execution_count": 46,
     "metadata": {},
     "output_type": "execute_result"
    }
   ],
   "source": [
    "# Display descriptive statistics of the DataFrame\n",
    "df_sales_April_2019.describe()"
   ]
  },
  {
   "cell_type": "markdown",
   "metadata": {},
   "source": [
    "The summary statistics for the April 2019 sales data are as follows:\n",
    "\n",
    "1. Order ID: There are 18,324 entries. The number of unique order IDs is 17,538. The most frequent entry is \"Order ID\" with a frequency of 35.\n",
    "2. Product: There are 18,324 entries. There are 20 unique products. The most frequent product is \"Lightning Charging Cable\" with a frequency of 2,201.\n",
    "3. Quantity Ordered: There are 18,324 entries. There are 8 unique quantities ordered. The most frequent quantity ordered is 1, with a frequency of 16,558.\n",
    "4. Price Each: There are 18,324 entries. There are 19 unique prices. The most frequent price is $14.95, with a frequency of 2,201.\n",
    "5. Order Date: There are 18,324 entries. There are 13,584 unique order dates. The most frequent entry is \"Order Date\" with a frequency of 35.\n",
    "6. Purchase Address: There are 18,324 entries. There are 17,120 unique purchase addresses. The most frequent entry is \"Purchase Address\" with a frequency of 35."
   ]
  },
  {
   "cell_type": "code",
   "execution_count": 47,
   "metadata": {},
   "outputs": [
    {
     "data": {
      "text/plain": [
       "Order ID            94\n",
       "Product             59\n",
       "Quantity Ordered    94\n",
       "Price Each          94\n",
       "Order Date          94\n",
       "Purchase Address    59\n",
       "dtype: int64"
      ]
     },
     "execution_count": 47,
     "metadata": {},
     "output_type": "execute_result"
    }
   ],
   "source": [
    "# Count the number of missing values in each column\n",
    "df_sales_April_2019.isnull().sum()"
   ]
  },
  {
   "cell_type": "markdown",
   "metadata": {},
   "source": [
    "The April 2019 sales data has 59 missing values in each of the columns: 'Order ID', 'Product', 'Quantity Ordered', 'Price Each', 'Order Date', and 'Purchase Address'."
   ]
  },
  {
   "cell_type": "code",
   "execution_count": 48,
   "metadata": {},
   "outputs": [
    {
     "data": {
      "text/plain": [
       "114"
      ]
     },
     "execution_count": 48,
     "metadata": {},
     "output_type": "execute_result"
    }
   ],
   "source": [
    "# Count the number of duplicate rows in the DataFrame\n",
    "df_sales_April_2019.duplicated().sum()"
   ]
  },
  {
   "cell_type": "code",
   "execution_count": 49,
   "metadata": {},
   "outputs": [],
   "source": [
    "# Drop duplicate rows and reset index inplace\n",
    "df_sales_April_2019.drop_duplicates(inplace=True)\n",
    "df_sales_April_2019.reset_index(drop=True, inplace=True)"
   ]
  },
  {
   "cell_type": "code",
   "execution_count": 50,
   "metadata": {},
   "outputs": [
    {
     "data": {
      "text/plain": [
       "0"
      ]
     },
     "execution_count": 50,
     "metadata": {},
     "output_type": "execute_result"
    }
   ],
   "source": [
    "# Count the number of duplicate rows in the DataFrame\n",
    "df_sales_April_2019.duplicated().sum()"
   ]
  },
  {
   "cell_type": "markdown",
   "metadata": {},
   "source": [
    "\n",
    "There are 114 duplicate rows in the April 2019 sales data DataFrame."
   ]
  },
  {
   "cell_type": "markdown",
   "metadata": {},
   "source": [
    "## Dataset of df_sales_April_2019"
   ]
  },
  {
   "cell_type": "code",
   "execution_count": 51,
   "metadata": {},
   "outputs": [
    {
     "data": {
      "text/html": [
       "<div>\n",
       "<style scoped>\n",
       "    .dataframe tbody tr th:only-of-type {\n",
       "        vertical-align: middle;\n",
       "    }\n",
       "\n",
       "    .dataframe tbody tr th {\n",
       "        vertical-align: top;\n",
       "    }\n",
       "\n",
       "    .dataframe thead th {\n",
       "        text-align: right;\n",
       "    }\n",
       "</style>\n",
       "<table border=\"1\" class=\"dataframe\">\n",
       "  <thead>\n",
       "    <tr style=\"text-align: right;\">\n",
       "      <th></th>\n",
       "      <th>Order ID</th>\n",
       "      <th>Product</th>\n",
       "      <th>Quantity Ordered</th>\n",
       "      <th>Price Each</th>\n",
       "      <th>Order Date</th>\n",
       "      <th>Purchase Address</th>\n",
       "    </tr>\n",
       "  </thead>\n",
       "  <tbody>\n",
       "    <tr>\n",
       "      <th>0</th>\n",
       "      <td>194095</td>\n",
       "      <td>Wired Headphones</td>\n",
       "      <td>1</td>\n",
       "      <td>11.99</td>\n",
       "      <td>05/16/19 17:14</td>\n",
       "      <td>669 2nd St, New York City, NY 10001</td>\n",
       "    </tr>\n",
       "    <tr>\n",
       "      <th>1</th>\n",
       "      <td>194096</td>\n",
       "      <td>AA Batteries (4-pack)</td>\n",
       "      <td>1</td>\n",
       "      <td>3.84</td>\n",
       "      <td>05/19/19 14:43</td>\n",
       "      <td>844 Walnut St, Dallas, TX 75001</td>\n",
       "    </tr>\n",
       "    <tr>\n",
       "      <th>2</th>\n",
       "      <td>194097</td>\n",
       "      <td>27in FHD Monitor</td>\n",
       "      <td>1</td>\n",
       "      <td>149.99</td>\n",
       "      <td>05/24/19 11:36</td>\n",
       "      <td>164 Madison St, New York City, NY 10001</td>\n",
       "    </tr>\n",
       "    <tr>\n",
       "      <th>3</th>\n",
       "      <td>194098</td>\n",
       "      <td>Wired Headphones</td>\n",
       "      <td>1</td>\n",
       "      <td>11.99</td>\n",
       "      <td>05/02/19 20:40</td>\n",
       "      <td>622 Meadow St, Dallas, TX 75001</td>\n",
       "    </tr>\n",
       "    <tr>\n",
       "      <th>4</th>\n",
       "      <td>194099</td>\n",
       "      <td>AAA Batteries (4-pack)</td>\n",
       "      <td>2</td>\n",
       "      <td>2.99</td>\n",
       "      <td>05/11/19 22:55</td>\n",
       "      <td>17 Church St, Seattle, WA 98101</td>\n",
       "    </tr>\n",
       "  </tbody>\n",
       "</table>\n",
       "</div>"
      ],
      "text/plain": [
       "  Order ID                 Product Quantity Ordered Price Each  \\\n",
       "0   194095        Wired Headphones                1      11.99   \n",
       "1   194096   AA Batteries (4-pack)                1       3.84   \n",
       "2   194097        27in FHD Monitor                1     149.99   \n",
       "3   194098        Wired Headphones                1      11.99   \n",
       "4   194099  AAA Batteries (4-pack)                2       2.99   \n",
       "\n",
       "       Order Date                         Purchase Address  \n",
       "0  05/16/19 17:14      669 2nd St, New York City, NY 10001  \n",
       "1  05/19/19 14:43          844 Walnut St, Dallas, TX 75001  \n",
       "2  05/24/19 11:36  164 Madison St, New York City, NY 10001  \n",
       "3  05/02/19 20:40          622 Meadow St, Dallas, TX 75001  \n",
       "4  05/11/19 22:55          17 Church St, Seattle, WA 98101  "
      ]
     },
     "execution_count": 51,
     "metadata": {},
     "output_type": "execute_result"
    }
   ],
   "source": [
    "# Display the first few rows of the DataFrame\n",
    "df_sales_May_2019.head()"
   ]
  },
  {
   "cell_type": "code",
   "execution_count": 52,
   "metadata": {},
   "outputs": [
    {
     "name": "stdout",
     "output_type": "stream",
     "text": [
      "<class 'pandas.core.frame.DataFrame'>\n",
      "RangeIndex: 16635 entries, 0 to 16634\n",
      "Data columns (total 6 columns):\n",
      " #   Column            Non-Null Count  Dtype \n",
      "---  ------            --------------  ----- \n",
      " 0   Order ID          16587 non-null  object\n",
      " 1   Product           16587 non-null  object\n",
      " 2   Quantity Ordered  16587 non-null  object\n",
      " 3   Price Each        16587 non-null  object\n",
      " 4   Order Date        16587 non-null  object\n",
      " 5   Purchase Address  16587 non-null  object\n",
      "dtypes: object(6)\n",
      "memory usage: 779.9+ KB\n"
     ]
    }
   ],
   "source": [
    "# View information about the DataFrame\n",
    "# This line displays information about the DataFrame, including the data types of columns and memory usage\n",
    "df_sales_May_2019.info()"
   ]
  },
  {
   "cell_type": "code",
   "execution_count": 53,
   "metadata": {},
   "outputs": [
    {
     "name": "stdout",
     "output_type": "stream",
     "text": [
      "Order ID                   float64\n",
      "Product                     object\n",
      "Quantity Ordered           float64\n",
      "Price Each                 float64\n",
      "Order Date          datetime64[ns]\n",
      "Purchase Address            object\n",
      "dtype: object\n"
     ]
    }
   ],
   "source": [
    "# Convert 'Order ID' column to numeric, coercing errors to NaN\n",
    "df_sales_May_2019['Order ID'] = pd.to_numeric(df_sales_May_2019['Order ID'], errors='coerce')\n",
    "\n",
    "# Convert 'Quantity Ordered' and 'Price Each' columns to numeric\n",
    "df_sales_May_2019['Quantity Ordered'] = pd.to_numeric(df_sales_May_2019['Quantity Ordered'], errors='coerce')\n",
    "df_sales_May_2019['Price Each'] = pd.to_numeric(df_sales_May_2019['Price Each'], errors='coerce')\n",
    "\n",
    "# Convert 'Order Date' column to datetime\n",
    "df_sales_May_2019['Order Date'] = pd.to_datetime(df_sales_May_2019['Order Date'], format='%m/%d/%y %H:%M', errors='coerce')\n",
    "\n",
    "\n",
    "# Now, check the data types after conversion\n",
    "print(df_sales_May_2019.dtypes)"
   ]
  },
  {
   "cell_type": "code",
   "execution_count": 54,
   "metadata": {},
   "outputs": [
    {
     "data": {
      "text/plain": [
       "Index(['Order ID', 'Product', 'Quantity Ordered', 'Price Each', 'Order Date',\n",
       "       'Purchase Address'],\n",
       "      dtype='object')"
      ]
     },
     "execution_count": 54,
     "metadata": {},
     "output_type": "execute_result"
    }
   ],
   "source": [
    "# View the column names\n",
    "df_sales_May_2019.columns"
   ]
  },
  {
   "cell_type": "code",
   "execution_count": 55,
   "metadata": {},
   "outputs": [
    {
     "name": "stdout",
     "output_type": "stream",
     "text": [
      "Number of unique values in 'Order ID': 15826\n",
      "Number of unique values in 'Product': 20\n",
      "Number of unique values in 'Quantity Ordered': 7\n",
      "Number of unique values in 'Price Each': 17\n",
      "Number of unique values in 'Order Date': 12664\n",
      "Number of unique values in 'Purchase Address': 15461\n"
     ]
    }
   ],
   "source": [
    "# Iterate over columns and print the number of unique values in each column\n",
    "for column in df_sales_May_2019.columns:\n",
    "    unique_values = df_sales_May_2019[column].nunique()\n",
    "    print(f\"Number of unique values in '{column}': {unique_values}\")"
   ]
  },
  {
   "cell_type": "code",
   "execution_count": 56,
   "metadata": {},
   "outputs": [
    {
     "name": "stdout",
     "output_type": "stream",
     "text": [
      "Unique values in 'Order ID':\n",
      "[194095. 194096. 194097. ... 209918. 209919. 209920.]\n",
      "Unique values in 'Product':\n",
      "['Wired Headphones' 'AA Batteries (4-pack)' '27in FHD Monitor'\n",
      " 'AAA Batteries (4-pack)' 'iPhone' 'USB-C Charging Cable'\n",
      " 'Lightning Charging Cable' 'ThinkPad Laptop' '34in Ultrawide Monitor'\n",
      " 'Google Phone' 'Apple Airpods Headphones' 'LG Dryer'\n",
      " 'Bose SoundSport Headphones' 'Flatscreen TV' '27in 4K Gaming Monitor' nan\n",
      " 'Macbook Pro Laptop' '20in Monitor' 'Vareebadd Phone'\n",
      " 'LG Washing Machine' 'Product']\n",
      "Unique values in 'Quantity Ordered':\n",
      "[ 1.  2.  3. nan  4.  5.  6.  7.]\n",
      "Unique values in 'Price Each':\n",
      "[  11.99    3.84  149.99    2.99  700.     11.95   14.95  999.99  379.99\n",
      "  600.    150.     99.99  300.    389.99     nan 1700.    109.99  400.  ]\n",
      "Unique values in 'Order Date':\n",
      "<DatetimeArray>\n",
      "['2019-05-16 17:14:00', '2019-05-19 14:43:00', '2019-05-24 11:36:00',\n",
      " '2019-05-02 20:40:00', '2019-05-11 22:55:00', '2019-05-10 19:44:00',\n",
      " '2019-05-11 22:44:00', '2019-05-07 12:49:00', '2019-05-24 18:28:00',\n",
      " '2019-05-04 18:38:00',\n",
      " ...\n",
      " '2019-05-13 13:50:00', '2019-05-09 08:37:00', '2019-05-13 19:46:00',\n",
      " '2019-05-01 15:30:00', '2019-05-11 11:51:00', '2019-05-02 19:57:00',\n",
      " '2019-05-08 19:15:00', '2019-05-24 22:02:00', '2019-05-04 12:46:00',\n",
      " '2019-05-18 23:07:00']\n",
      "Length: 12665, dtype: datetime64[ns]\n",
      "Unique values in 'Purchase Address':\n",
      "['669 2nd St, New York City, NY 10001' '844 Walnut St, Dallas, TX 75001'\n",
      " '164 Madison St, New York City, NY 10001' ...\n",
      " '868 Hickory St, Boston, MA 02215' '204 Adams St, Seattle, WA 98101'\n",
      " '43 5th St, Atlanta, GA 30301']\n"
     ]
    }
   ],
   "source": [
    "# Iterate over columns and view unique values\n",
    "for column in df_sales_May_2019:\n",
    "    unique_values = df_sales_May_2019[column].unique()\n",
    "    print(f\"Unique values in '{column}':\")\n",
    "    print(unique_values)\n"
   ]
  },
  {
   "cell_type": "markdown",
   "metadata": {},
   "source": [
    "Observations:\n",
    "\n",
    "1. Order ID: The 'Order ID' column contains unique numerical identifiers for each order. There are no apparent issues with this column.\n",
    "2. Product: The 'Product' column contains the names of various products sold. However, there are two unusual entries: 'nan' and 'Product', which might indicate missing or placeholder values.\n",
    "3. Quantity Ordered: The 'Quantity Ordered' column contains the number of units ordered for each product. Most entries are numerical values representing quantities, but there are some unusual entries such as 'nan' and 'Quantity Ordered', which may indicate missing or placeholder values.\n",
    "4. Price Each: The 'Price Each' column contains the price of each product. Most entries are numerical values representing prices, but there are some unusual entries such as 'nan' and 'Price Each', which may indicate missing or placeholder values. Additionally, there are some duplicate values in a different format ('600' and '600.0').\n",
    "5. Order Date: The 'Order Date' column contains the date and time when each order was placed. Entries are in the format 'MM/DD/YY HH:mm'.\n",
    "6. Purchase Address: The 'Purchase Address' column contains the addresses where the purchases were made. Each entry includes the street address, city, state, and ZIP code.\n",
    "\n",
    "Similar to the previous observations, anomalies exist in the 'Product', 'Quantity Ordered', and 'Price Each' columns that need further investigation and cleaning. Additionally, missing values ('nan') and placeholder values ('Product' and 'Quantity Ordered') should be handled appropriately to ensure the accuracy of the dataset."
   ]
  },
  {
   "cell_type": "code",
   "execution_count": 57,
   "metadata": {},
   "outputs": [
    {
     "data": {
      "text/plain": [
       "(16635, 6)"
      ]
     },
     "execution_count": 57,
     "metadata": {},
     "output_type": "execute_result"
    }
   ],
   "source": [
    "# View the dimensions of the DataFrame\n",
    "df_sales_May_2019.shape"
   ]
  },
  {
   "cell_type": "code",
   "execution_count": 58,
   "metadata": {},
   "outputs": [
    {
     "data": {
      "text/html": [
       "<div>\n",
       "<style scoped>\n",
       "    .dataframe tbody tr th:only-of-type {\n",
       "        vertical-align: middle;\n",
       "    }\n",
       "\n",
       "    .dataframe tbody tr th {\n",
       "        vertical-align: top;\n",
       "    }\n",
       "\n",
       "    .dataframe thead th {\n",
       "        text-align: right;\n",
       "    }\n",
       "</style>\n",
       "<table border=\"1\" class=\"dataframe\">\n",
       "  <thead>\n",
       "    <tr style=\"text-align: right;\">\n",
       "      <th></th>\n",
       "      <th>Order ID</th>\n",
       "      <th>Quantity Ordered</th>\n",
       "      <th>Price Each</th>\n",
       "      <th>Order Date</th>\n",
       "    </tr>\n",
       "  </thead>\n",
       "  <tbody>\n",
       "    <tr>\n",
       "      <th>count</th>\n",
       "      <td>16554.000000</td>\n",
       "      <td>16554.000000</td>\n",
       "      <td>16554.000000</td>\n",
       "      <td>16554</td>\n",
       "    </tr>\n",
       "    <tr>\n",
       "      <th>mean</th>\n",
       "      <td>201999.950465</td>\n",
       "      <td>1.127039</td>\n",
       "      <td>188.902815</td>\n",
       "      <td>2019-05-16 15:37:57.285248256</td>\n",
       "    </tr>\n",
       "    <tr>\n",
       "      <th>min</th>\n",
       "      <td>194095.000000</td>\n",
       "      <td>1.000000</td>\n",
       "      <td>2.990000</td>\n",
       "      <td>2019-05-01 02:50:00</td>\n",
       "    </tr>\n",
       "    <tr>\n",
       "      <th>25%</th>\n",
       "      <td>198042.000000</td>\n",
       "      <td>1.000000</td>\n",
       "      <td>11.950000</td>\n",
       "      <td>2019-05-08 21:49:15</td>\n",
       "    </tr>\n",
       "    <tr>\n",
       "      <th>50%</th>\n",
       "      <td>201997.500000</td>\n",
       "      <td>1.000000</td>\n",
       "      <td>14.950000</td>\n",
       "      <td>2019-05-16 14:53:00</td>\n",
       "    </tr>\n",
       "    <tr>\n",
       "      <th>75%</th>\n",
       "      <td>205955.750000</td>\n",
       "      <td>1.000000</td>\n",
       "      <td>150.000000</td>\n",
       "      <td>2019-05-24 08:34:00</td>\n",
       "    </tr>\n",
       "    <tr>\n",
       "      <th>max</th>\n",
       "      <td>209920.000000</td>\n",
       "      <td>7.000000</td>\n",
       "      <td>1700.000000</td>\n",
       "      <td>2019-06-01 03:26:00</td>\n",
       "    </tr>\n",
       "    <tr>\n",
       "      <th>std</th>\n",
       "      <td>4570.749762</td>\n",
       "      <td>0.448511</td>\n",
       "      <td>342.102464</td>\n",
       "      <td>NaN</td>\n",
       "    </tr>\n",
       "  </tbody>\n",
       "</table>\n",
       "</div>"
      ],
      "text/plain": [
       "            Order ID  Quantity Ordered    Price Each  \\\n",
       "count   16554.000000      16554.000000  16554.000000   \n",
       "mean   201999.950465          1.127039    188.902815   \n",
       "min    194095.000000          1.000000      2.990000   \n",
       "25%    198042.000000          1.000000     11.950000   \n",
       "50%    201997.500000          1.000000     14.950000   \n",
       "75%    205955.750000          1.000000    150.000000   \n",
       "max    209920.000000          7.000000   1700.000000   \n",
       "std      4570.749762          0.448511    342.102464   \n",
       "\n",
       "                          Order Date  \n",
       "count                          16554  \n",
       "mean   2019-05-16 15:37:57.285248256  \n",
       "min              2019-05-01 02:50:00  \n",
       "25%              2019-05-08 21:49:15  \n",
       "50%              2019-05-16 14:53:00  \n",
       "75%              2019-05-24 08:34:00  \n",
       "max              2019-06-01 03:26:00  \n",
       "std                              NaN  "
      ]
     },
     "execution_count": 58,
     "metadata": {},
     "output_type": "execute_result"
    }
   ],
   "source": [
    "# Display descriptive statistics of the DataFrame\n",
    "df_sales_May_2019.describe()"
   ]
  },
  {
   "cell_type": "markdown",
   "metadata": {},
   "source": [
    "The descriptive statistics of the May 2019 sales data indicate that:\n",
    "\n",
    "There are 16,587 records in the DataFrame.\n",
    "1. The 'Order ID' column has 15,827 unique values, indicating some duplication in this column.\n",
    "2. The 'Product' column has 20 unique values.\n",
    "3. The 'Quantity Ordered' column has 8 unique values.\n",
    "4. The 'Price Each' column has 22 unique values.\n",
    "5. The 'Order Date' column has 12,665 unique values, suggesting variability in the order dates.\n",
    "6. The 'Purchase Address' column has 15,461 unique values.\n",
    "The most frequent value in the 'Product' column is 'Lightning Charging Cable', with 1,932 occurrences.\n",
    "The most frequent value in the 'Quantity Ordered' column is '1', with 14,977 occurrences.\n",
    "The most frequent value in the 'Price Each' column is '14.95', with 1,932 occurrences.\n",
    "The most frequent value in the 'Order Date' column is 'Order Date', with 33 occurrences.\n",
    "The most frequent value in the 'Purchase Address' column is 'Purchase Address', with 33 occurrences."
   ]
  },
  {
   "cell_type": "code",
   "execution_count": 59,
   "metadata": {},
   "outputs": [
    {
     "data": {
      "text/plain": [
       "Order ID            81\n",
       "Product             48\n",
       "Quantity Ordered    81\n",
       "Price Each          81\n",
       "Order Date          81\n",
       "Purchase Address    48\n",
       "dtype: int64"
      ]
     },
     "execution_count": 59,
     "metadata": {},
     "output_type": "execute_result"
    }
   ],
   "source": [
    "# Count the number of missing values in each column\n",
    "df_sales_May_2019.isnull().sum()"
   ]
  },
  {
   "cell_type": "markdown",
   "metadata": {},
   "source": [
    "In the May 2019 sales data, there are 48 missing values in each of the following columns: 'Order ID', 'Product', 'Quantity Ordered', 'Price Each', 'Order Date', and 'Purchase Address'."
   ]
  },
  {
   "cell_type": "code",
   "execution_count": 60,
   "metadata": {},
   "outputs": [
    {
     "data": {
      "text/plain": [
       "93"
      ]
     },
     "execution_count": 60,
     "metadata": {},
     "output_type": "execute_result"
    }
   ],
   "source": [
    "# Count the number of duplicate rows in the DataFrame\n",
    "df_sales_May_2019.duplicated().sum()"
   ]
  },
  {
   "cell_type": "code",
   "execution_count": 61,
   "metadata": {},
   "outputs": [],
   "source": [
    "# Drop duplicate rows and reset index inplace\n",
    "df_sales_May_2019.drop_duplicates(inplace=True)\n",
    "df_sales_May_2019.reset_index(drop=True, inplace=True)"
   ]
  },
  {
   "cell_type": "code",
   "execution_count": 62,
   "metadata": {},
   "outputs": [
    {
     "data": {
      "text/plain": [
       "0"
      ]
     },
     "execution_count": 62,
     "metadata": {},
     "output_type": "execute_result"
    }
   ],
   "source": [
    "# Count the number of duplicate rows in the DataFrame\n",
    "df_sales_May_2019.duplicated().sum()"
   ]
  },
  {
   "cell_type": "markdown",
   "metadata": {},
   "source": [
    "In the May 2019 sales data, there are 93 duplicate rows."
   ]
  },
  {
   "cell_type": "markdown",
   "metadata": {},
   "source": [
    "## Dataset of df_sales_June_2019"
   ]
  },
  {
   "cell_type": "code",
   "execution_count": 63,
   "metadata": {},
   "outputs": [
    {
     "data": {
      "text/html": [
       "<div>\n",
       "<style scoped>\n",
       "    .dataframe tbody tr th:only-of-type {\n",
       "        vertical-align: middle;\n",
       "    }\n",
       "\n",
       "    .dataframe tbody tr th {\n",
       "        vertical-align: top;\n",
       "    }\n",
       "\n",
       "    .dataframe thead th {\n",
       "        text-align: right;\n",
       "    }\n",
       "</style>\n",
       "<table border=\"1\" class=\"dataframe\">\n",
       "  <thead>\n",
       "    <tr style=\"text-align: right;\">\n",
       "      <th></th>\n",
       "      <th>Order ID</th>\n",
       "      <th>Product</th>\n",
       "      <th>Quantity Ordered</th>\n",
       "      <th>Price Each</th>\n",
       "      <th>Order Date</th>\n",
       "      <th>Purchase Address</th>\n",
       "    </tr>\n",
       "  </thead>\n",
       "  <tbody>\n",
       "    <tr>\n",
       "      <th>0</th>\n",
       "      <td>209921</td>\n",
       "      <td>USB-C Charging Cable</td>\n",
       "      <td>1</td>\n",
       "      <td>11.95</td>\n",
       "      <td>06/23/19 19:34</td>\n",
       "      <td>950 Walnut St, Portland, ME 04101</td>\n",
       "    </tr>\n",
       "    <tr>\n",
       "      <th>1</th>\n",
       "      <td>209922</td>\n",
       "      <td>Macbook Pro Laptop</td>\n",
       "      <td>1</td>\n",
       "      <td>1700.0</td>\n",
       "      <td>06/30/19 10:05</td>\n",
       "      <td>80 4th St, San Francisco, CA 94016</td>\n",
       "    </tr>\n",
       "    <tr>\n",
       "      <th>2</th>\n",
       "      <td>209923</td>\n",
       "      <td>ThinkPad Laptop</td>\n",
       "      <td>1</td>\n",
       "      <td>999.99</td>\n",
       "      <td>06/24/19 20:18</td>\n",
       "      <td>402 Jackson St, Los Angeles, CA 90001</td>\n",
       "    </tr>\n",
       "    <tr>\n",
       "      <th>3</th>\n",
       "      <td>209924</td>\n",
       "      <td>27in FHD Monitor</td>\n",
       "      <td>1</td>\n",
       "      <td>149.99</td>\n",
       "      <td>06/05/19 10:21</td>\n",
       "      <td>560 10th St, Seattle, WA 98101</td>\n",
       "    </tr>\n",
       "    <tr>\n",
       "      <th>4</th>\n",
       "      <td>209925</td>\n",
       "      <td>Bose SoundSport Headphones</td>\n",
       "      <td>1</td>\n",
       "      <td>99.99</td>\n",
       "      <td>06/25/19 18:58</td>\n",
       "      <td>545 2nd St, San Francisco, CA 94016</td>\n",
       "    </tr>\n",
       "  </tbody>\n",
       "</table>\n",
       "</div>"
      ],
      "text/plain": [
       "  Order ID                     Product Quantity Ordered Price Each  \\\n",
       "0   209921        USB-C Charging Cable                1      11.95   \n",
       "1   209922          Macbook Pro Laptop                1     1700.0   \n",
       "2   209923             ThinkPad Laptop                1     999.99   \n",
       "3   209924            27in FHD Monitor                1     149.99   \n",
       "4   209925  Bose SoundSport Headphones                1      99.99   \n",
       "\n",
       "       Order Date                       Purchase Address  \n",
       "0  06/23/19 19:34      950 Walnut St, Portland, ME 04101  \n",
       "1  06/30/19 10:05     80 4th St, San Francisco, CA 94016  \n",
       "2  06/24/19 20:18  402 Jackson St, Los Angeles, CA 90001  \n",
       "3  06/05/19 10:21         560 10th St, Seattle, WA 98101  \n",
       "4  06/25/19 18:58    545 2nd St, San Francisco, CA 94016  "
      ]
     },
     "execution_count": 63,
     "metadata": {},
     "output_type": "execute_result"
    }
   ],
   "source": [
    "# Display the first few rows of the DataFrame\n",
    "df_sales_June_2019.head()"
   ]
  },
  {
   "cell_type": "code",
   "execution_count": 64,
   "metadata": {},
   "outputs": [
    {
     "name": "stdout",
     "output_type": "stream",
     "text": [
      "<class 'pandas.core.frame.DataFrame'>\n",
      "RangeIndex: 13622 entries, 0 to 13621\n",
      "Data columns (total 6 columns):\n",
      " #   Column            Non-Null Count  Dtype \n",
      "---  ------            --------------  ----- \n",
      " 0   Order ID          13579 non-null  object\n",
      " 1   Product           13579 non-null  object\n",
      " 2   Quantity Ordered  13579 non-null  object\n",
      " 3   Price Each        13579 non-null  object\n",
      " 4   Order Date        13579 non-null  object\n",
      " 5   Purchase Address  13579 non-null  object\n",
      "dtypes: object(6)\n",
      "memory usage: 638.7+ KB\n"
     ]
    }
   ],
   "source": [
    "# View information about the DataFrame\n",
    "# This line displays information about the DataFrame, including the data types of columns and memory usage\n",
    "df_sales_June_2019.info()"
   ]
  },
  {
   "cell_type": "code",
   "execution_count": 65,
   "metadata": {},
   "outputs": [
    {
     "name": "stdout",
     "output_type": "stream",
     "text": [
      "Order ID                   float64\n",
      "Product                     object\n",
      "Quantity Ordered           float64\n",
      "Price Each                 float64\n",
      "Order Date          datetime64[ns]\n",
      "Purchase Address            object\n",
      "dtype: object\n"
     ]
    }
   ],
   "source": [
    "# Convert 'Order ID' column to numeric, coercing errors to NaN\n",
    "df_sales_June_2019['Order ID'] = pd.to_numeric(df_sales_June_2019['Order ID'], errors='coerce')\n",
    "\n",
    "# Convert 'Quantity Ordered' and 'Price Each' columns to numeric\n",
    "df_sales_June_2019['Quantity Ordered'] = pd.to_numeric(df_sales_June_2019['Quantity Ordered'], errors='coerce')\n",
    "df_sales_June_2019['Price Each'] = pd.to_numeric(df_sales_June_2019['Price Each'], errors='coerce')\n",
    "\n",
    "# Convert 'Order Date' column to datetime\n",
    "df_sales_June_2019['Order Date'] = pd.to_datetime(df_sales_June_2019['Order Date'], format='%m/%d/%y %H:%M', errors='coerce')\n",
    "\n",
    "\n",
    "# Now, check the data types after conversion\n",
    "print(df_sales_June_2019.dtypes)"
   ]
  },
  {
   "cell_type": "code",
   "execution_count": 66,
   "metadata": {},
   "outputs": [
    {
     "data": {
      "text/plain": [
       "Index(['Order ID', 'Product', 'Quantity Ordered', 'Price Each', 'Order Date',\n",
       "       'Purchase Address'],\n",
       "      dtype='object')"
      ]
     },
     "execution_count": 66,
     "metadata": {},
     "output_type": "execute_result"
    }
   ],
   "source": [
    "# View the column names\n",
    "df_sales_June_2019.columns"
   ]
  },
  {
   "cell_type": "code",
   "execution_count": 67,
   "metadata": {},
   "outputs": [
    {
     "name": "stdout",
     "output_type": "stream",
     "text": [
      "Number of unique values in 'Order ID': 12989\n",
      "Number of unique values in 'Product': 20\n",
      "Number of unique values in 'Quantity Ordered': 7\n",
      "Number of unique values in 'Price Each': 17\n",
      "Number of unique values in 'Order Date': 10741\n",
      "Number of unique values in 'Purchase Address': 12720\n"
     ]
    }
   ],
   "source": [
    "# Iterate over columns and print the number of unique values in each column\n",
    "for column in df_sales_June_2019:\n",
    "    unique_values = df_sales_June_2019[column].nunique()\n",
    "    print(f\"Number of unique values in '{column}': {unique_values}\")"
   ]
  },
  {
   "cell_type": "code",
   "execution_count": 68,
   "metadata": {},
   "outputs": [
    {
     "name": "stdout",
     "output_type": "stream",
     "text": [
      "Unique values in 'Order ID':\n",
      "[209921. 209922. 209923. ... 222907. 222908. 222909.]\n",
      "Unique values in 'Product':\n",
      "['USB-C Charging Cable' 'Macbook Pro Laptop' 'ThinkPad Laptop'\n",
      " '27in FHD Monitor' 'Bose SoundSport Headphones'\n",
      " 'Apple Airpods Headphones' 'Lightning Charging Cable' 'Wired Headphones'\n",
      " 'Flatscreen TV' 'AA Batteries (4-pack)' 'AAA Batteries (4-pack)'\n",
      " '34in Ultrawide Monitor' 'iPhone' 'Google Phone' '27in 4K Gaming Monitor'\n",
      " '20in Monitor' 'Product' 'LG Dryer' 'Vareebadd Phone'\n",
      " 'LG Washing Machine' nan]\n",
      "Unique values in 'Quantity Ordered':\n",
      "[ 1.  3.  2. nan  5.  4.  9.  6.]\n",
      "Unique values in 'Price Each':\n",
      "[  11.95 1700.    999.99  149.99   99.99  150.     14.95   11.99  300.\n",
      "    3.84    2.99  379.99  700.    600.    389.99  109.99     nan  400.  ]\n",
      "Unique values in 'Order Date':\n",
      "<DatetimeArray>\n",
      "['2019-06-23 19:34:00', '2019-06-30 10:05:00', '2019-06-24 20:18:00',\n",
      " '2019-06-05 10:21:00', '2019-06-25 18:58:00', '2019-06-28 20:04:00',\n",
      " '2019-06-28 00:07:00', '2019-06-16 21:30:00', '2019-06-28 10:56:00',\n",
      " '2019-06-02 11:22:00',\n",
      " ...\n",
      " '2019-06-13 19:54:00', '2019-06-01 23:58:00', '2019-06-18 16:34:00',\n",
      " '2019-06-19 20:00:00', '2019-06-11 04:00:00', '2019-06-10 17:43:00',\n",
      " '2019-06-07 22:21:00', '2019-06-09 22:07:00', '2019-06-26 18:35:00',\n",
      " '2019-06-25 14:33:00']\n",
      "Length: 10742, dtype: datetime64[ns]\n",
      "Unique values in 'Purchase Address':\n",
      "['950 Walnut St, Portland, ME 04101' '80 4th St, San Francisco, CA 94016'\n",
      " '402 Jackson St, Los Angeles, CA 90001' ...\n",
      " '319 Ridge St, San Francisco, CA 94016'\n",
      " '916 Main St, San Francisco, CA 94016' '209 11th St, Atlanta, GA 30301']\n"
     ]
    }
   ],
   "source": [
    "# Iterate over columns and view unique values\n",
    "for column in df_sales_June_2019:\n",
    "    unique_values = df_sales_June_2019[column].unique()\n",
    "    print(f\"Unique values in '{column}':\")\n",
    "    print(unique_values)"
   ]
  },
  {
   "cell_type": "markdown",
   "metadata": {},
   "source": [
    "Observations:\n",
    "\n",
    "1. Order ID: The 'Order ID' column contains unique numerical identifiers for each order. There are no apparent issues with this column.\n",
    "2. Product: The 'Product' column contains the names of various products sold. However, there are two unusual entries: 'nan' and 'Product', which might indicate missing or placeholder values.\n",
    "3. Quantity Ordered: The 'Quantity Ordered' column contains the number of units ordered for each product. Most entries are numerical values representing quantities, but there are some unusual entries such as 'nan' and 'Quantity Ordered', which may indicate missing or placeholder values.\n",
    "4. Price Each: The 'Price Each' column contains the price of each product. Most entries are numerical values representing prices, but there are some unusual entries such as 'nan' and 'Price Each', which may indicate missing or placeholder values. Additionally, there are some duplicate values in a different format ('600' and '600.0').\n",
    "5. Order Date: The 'Order Date' column contains the date and time when each order was placed. Entries are in the format 'MM/DD/YY HH:mm'.\n",
    "6. Purchase Address: The 'Purchase Address' column contains the addresses where the purchases were made. Each entry includes the street address, city, state, and ZIP code.\n",
    "\n",
    "Similar to the previous observations, anomalies exist in the 'Product', 'Quantity Ordered', and 'Price Each' columns that need further investigation and cleaning. Additionally, missing values ('nan') and placeholder values ('Product' and 'Quantity Ordered') should be handled appropriately to ensure the accuracy of the dataset."
   ]
  },
  {
   "cell_type": "code",
   "execution_count": 69,
   "metadata": {},
   "outputs": [
    {
     "data": {
      "text/plain": [
       "(13622, 6)"
      ]
     },
     "execution_count": 69,
     "metadata": {},
     "output_type": "execute_result"
    }
   ],
   "source": [
    "# View the dimensions of the DataFrame\n",
    "df_sales_June_2019.shape"
   ]
  },
  {
   "cell_type": "code",
   "execution_count": 70,
   "metadata": {},
   "outputs": [
    {
     "data": {
      "text/html": [
       "<div>\n",
       "<style scoped>\n",
       "    .dataframe tbody tr th:only-of-type {\n",
       "        vertical-align: middle;\n",
       "    }\n",
       "\n",
       "    .dataframe tbody tr th {\n",
       "        vertical-align: top;\n",
       "    }\n",
       "\n",
       "    .dataframe thead th {\n",
       "        text-align: right;\n",
       "    }\n",
       "</style>\n",
       "<table border=\"1\" class=\"dataframe\">\n",
       "  <thead>\n",
       "    <tr style=\"text-align: right;\">\n",
       "      <th></th>\n",
       "      <th>Order ID</th>\n",
       "      <th>Quantity Ordered</th>\n",
       "      <th>Price Each</th>\n",
       "      <th>Order Date</th>\n",
       "    </tr>\n",
       "  </thead>\n",
       "  <tbody>\n",
       "    <tr>\n",
       "      <th>count</th>\n",
       "      <td>13556.000000</td>\n",
       "      <td>13556.000000</td>\n",
       "      <td>13556.000000</td>\n",
       "      <td>13556</td>\n",
       "    </tr>\n",
       "    <tr>\n",
       "      <th>mean</th>\n",
       "      <td>216411.627693</td>\n",
       "      <td>1.125332</td>\n",
       "      <td>189.030435</td>\n",
       "      <td>2019-06-16 03:27:25.104750848</td>\n",
       "    </tr>\n",
       "    <tr>\n",
       "      <th>min</th>\n",
       "      <td>209921.000000</td>\n",
       "      <td>1.000000</td>\n",
       "      <td>2.990000</td>\n",
       "      <td>2019-06-01 04:52:00</td>\n",
       "    </tr>\n",
       "    <tr>\n",
       "      <th>25%</th>\n",
       "      <td>213161.750000</td>\n",
       "      <td>1.000000</td>\n",
       "      <td>11.950000</td>\n",
       "      <td>2019-06-08 16:25:30</td>\n",
       "    </tr>\n",
       "    <tr>\n",
       "      <th>50%</th>\n",
       "      <td>216406.500000</td>\n",
       "      <td>1.000000</td>\n",
       "      <td>14.950000</td>\n",
       "      <td>2019-06-15 23:16:00</td>\n",
       "    </tr>\n",
       "    <tr>\n",
       "      <th>75%</th>\n",
       "      <td>219655.250000</td>\n",
       "      <td>1.000000</td>\n",
       "      <td>150.000000</td>\n",
       "      <td>2019-06-23 14:36:45</td>\n",
       "    </tr>\n",
       "    <tr>\n",
       "      <th>max</th>\n",
       "      <td>222909.000000</td>\n",
       "      <td>9.000000</td>\n",
       "      <td>1700.000000</td>\n",
       "      <td>2019-07-01 03:09:00</td>\n",
       "    </tr>\n",
       "    <tr>\n",
       "      <th>std</th>\n",
       "      <td>3753.481273</td>\n",
       "      <td>0.429463</td>\n",
       "      <td>336.863776</td>\n",
       "      <td>NaN</td>\n",
       "    </tr>\n",
       "  </tbody>\n",
       "</table>\n",
       "</div>"
      ],
      "text/plain": [
       "            Order ID  Quantity Ordered    Price Each  \\\n",
       "count   13556.000000      13556.000000  13556.000000   \n",
       "mean   216411.627693          1.125332    189.030435   \n",
       "min    209921.000000          1.000000      2.990000   \n",
       "25%    213161.750000          1.000000     11.950000   \n",
       "50%    216406.500000          1.000000     14.950000   \n",
       "75%    219655.250000          1.000000    150.000000   \n",
       "max    222909.000000          9.000000   1700.000000   \n",
       "std      3753.481273          0.429463    336.863776   \n",
       "\n",
       "                          Order Date  \n",
       "count                          13556  \n",
       "mean   2019-06-16 03:27:25.104750848  \n",
       "min              2019-06-01 04:52:00  \n",
       "25%              2019-06-08 16:25:30  \n",
       "50%              2019-06-15 23:16:00  \n",
       "75%              2019-06-23 14:36:45  \n",
       "max              2019-07-01 03:09:00  \n",
       "std                              NaN  "
      ]
     },
     "execution_count": 70,
     "metadata": {},
     "output_type": "execute_result"
    }
   ],
   "source": [
    "# Display descriptive statistics of the DataFrame\n",
    "df_sales_June_2019.describe()"
   ]
  },
  {
   "cell_type": "markdown",
   "metadata": {},
   "source": [
    "\n",
    "In the June 2019 sales data:\n",
    "\n",
    "1. The Order ID column has 23 occurrences of the top value \"Order ID\".\n",
    "2. The Product column has 20 unique values.\n",
    "3. The Quantity Ordered column has 8 unique values.\n",
    "4. The Price Each column has 23 unique values.\n",
    "5. The Order Date column has 10,742 unique values.\n",
    "6. The Purchase Address column has 12,720 unique values."
   ]
  },
  {
   "cell_type": "code",
   "execution_count": 71,
   "metadata": {},
   "outputs": [
    {
     "data": {
      "text/plain": [
       "Order ID            66\n",
       "Product             43\n",
       "Quantity Ordered    66\n",
       "Price Each          66\n",
       "Order Date          66\n",
       "Purchase Address    43\n",
       "dtype: int64"
      ]
     },
     "execution_count": 71,
     "metadata": {},
     "output_type": "execute_result"
    }
   ],
   "source": [
    "# Count the number of missing values in each column\n",
    "df_sales_June_2019.isnull().sum()"
   ]
  },
  {
   "cell_type": "markdown",
   "metadata": {},
   "source": [
    "In the June 2019 sales data, there are 43 missing values in each of the following columns: Order ID, Product, Quantity Ordered, Price Each, Order Date, and Purchase Address."
   ]
  },
  {
   "cell_type": "code",
   "execution_count": 72,
   "metadata": {},
   "outputs": [
    {
     "data": {
      "text/plain": [
       "83"
      ]
     },
     "execution_count": 72,
     "metadata": {},
     "output_type": "execute_result"
    }
   ],
   "source": [
    "# Count the number of duplicate rows in the DataFrame\n",
    "df_sales_June_2019.duplicated().sum()"
   ]
  },
  {
   "cell_type": "code",
   "execution_count": 73,
   "metadata": {},
   "outputs": [],
   "source": [
    "# Drop duplicate rows and reset index inplace\n",
    "df_sales_June_2019.drop_duplicates(inplace=True)\n",
    "df_sales_June_2019.reset_index(drop=True, inplace=True)"
   ]
  },
  {
   "cell_type": "code",
   "execution_count": 74,
   "metadata": {},
   "outputs": [
    {
     "data": {
      "text/plain": [
       "0"
      ]
     },
     "execution_count": 74,
     "metadata": {},
     "output_type": "execute_result"
    }
   ],
   "source": [
    "# Count the number of duplicate rows in the DataFrame\n",
    "df_sales_June_2019.duplicated().sum()"
   ]
  },
  {
   "cell_type": "markdown",
   "metadata": {},
   "source": [
    "There are 83 duplicate rows in the June 2019 sales data DataFrame."
   ]
  },
  {
   "cell_type": "code",
   "execution_count": 75,
   "metadata": {},
   "outputs": [],
   "source": [
    "# Load environment variables from .env file into a dictionary\n",
    "environment_variables = dotenv_values('.env')"
   ]
  },
  {
   "cell_type": "code",
   "execution_count": 76,
   "metadata": {},
   "outputs": [],
   "source": [
    "# Get the values for the credentials you set in the '.env' file\n",
    "server = environment_variables.get(\"servername\")\n",
    "database = environment_variables.get(\"databasename\")\n",
    "username = environment_variables.get(\"user\")\n",
    "password = environment_variables.get(\"password\")"
   ]
  },
  {
   "cell_type": "code",
   "execution_count": 77,
   "metadata": {},
   "outputs": [],
   "source": [
    "# Define connection string with appropriate parameters\n",
    "connection_string = f\"DRIVER={{ODBC Driver 18 for SQL Server}};SERVER={server};DATABASE={database};UID={username};PWD={password};MARS_Connection=yes;MinProtocolVersion=TLSv1.2;\"\n"
   ]
  },
  {
   "cell_type": "code",
   "execution_count": 78,
   "metadata": {},
   "outputs": [],
   "source": [
    "# Establish a connection to the database using the provided connection string.\n",
    "connection= pyodbc.connect(connection_string)"
   ]
  },
  {
   "cell_type": "markdown",
   "metadata": {},
   "source": [
    "Loading server data"
   ]
  },
  {
   "cell_type": "markdown",
   "metadata": {},
   "source": [
    "## Dataset of dbo.Sales_July_2019 on server"
   ]
  },
  {
   "cell_type": "code",
   "execution_count": 79,
   "metadata": {},
   "outputs": [
    {
     "name": "stderr",
     "output_type": "stream",
     "text": [
      "C:\\Users\\Sami\\AppData\\Local\\Temp\\ipykernel_20812\\3596020920.py:5: UserWarning: pandas only supports SQLAlchemy connectable (engine/connection) or database string URI or sqlite3 DBAPI2 connection. Other DBAPI2 objects are not tested. Please consider using SQLAlchemy.\n",
      "  dap_july = pd.read_sql(query, connection)\n"
     ]
    },
    {
     "data": {
      "text/html": [
       "<div>\n",
       "<style scoped>\n",
       "    .dataframe tbody tr th:only-of-type {\n",
       "        vertical-align: middle;\n",
       "    }\n",
       "\n",
       "    .dataframe tbody tr th {\n",
       "        vertical-align: top;\n",
       "    }\n",
       "\n",
       "    .dataframe thead th {\n",
       "        text-align: right;\n",
       "    }\n",
       "</style>\n",
       "<table border=\"1\" class=\"dataframe\">\n",
       "  <thead>\n",
       "    <tr style=\"text-align: right;\">\n",
       "      <th></th>\n",
       "      <th>Order_ID</th>\n",
       "      <th>Product</th>\n",
       "      <th>Quantity_Ordered</th>\n",
       "      <th>Price_Each</th>\n",
       "      <th>Order_Date</th>\n",
       "      <th>Purchase_Address</th>\n",
       "    </tr>\n",
       "  </thead>\n",
       "  <tbody>\n",
       "    <tr>\n",
       "      <th>0</th>\n",
       "      <td>222910.0</td>\n",
       "      <td>Apple Airpods Headphones</td>\n",
       "      <td>1.0</td>\n",
       "      <td>150.00</td>\n",
       "      <td>2026-07-19 16:51:00</td>\n",
       "      <td>389 South St, Atlanta, GA 30301</td>\n",
       "    </tr>\n",
       "    <tr>\n",
       "      <th>1</th>\n",
       "      <td>222911.0</td>\n",
       "      <td>Flatscreen TV</td>\n",
       "      <td>1.0</td>\n",
       "      <td>300.00</td>\n",
       "      <td>2005-07-19 08:55:00</td>\n",
       "      <td>590 4th St, Seattle, WA 98101</td>\n",
       "    </tr>\n",
       "    <tr>\n",
       "      <th>2</th>\n",
       "      <td>222912.0</td>\n",
       "      <td>AA Batteries (4-pack)</td>\n",
       "      <td>1.0</td>\n",
       "      <td>3.84</td>\n",
       "      <td>2029-07-19 12:41:00</td>\n",
       "      <td>861 Hill St, Atlanta, GA 30301</td>\n",
       "    </tr>\n",
       "    <tr>\n",
       "      <th>3</th>\n",
       "      <td>222913.0</td>\n",
       "      <td>AA Batteries (4-pack)</td>\n",
       "      <td>1.0</td>\n",
       "      <td>3.84</td>\n",
       "      <td>2028-07-19 10:15:00</td>\n",
       "      <td>190 Ridge St, Atlanta, GA 30301</td>\n",
       "    </tr>\n",
       "    <tr>\n",
       "      <th>4</th>\n",
       "      <td>222914.0</td>\n",
       "      <td>AAA Batteries (4-pack)</td>\n",
       "      <td>5.0</td>\n",
       "      <td>2.99</td>\n",
       "      <td>2031-07-19 02:13:00</td>\n",
       "      <td>824 Forest St, Seattle, WA 98101</td>\n",
       "    </tr>\n",
       "  </tbody>\n",
       "</table>\n",
       "</div>"
      ],
      "text/plain": [
       "   Order_ID                   Product  Quantity_Ordered  Price_Each  \\\n",
       "0  222910.0  Apple Airpods Headphones               1.0      150.00   \n",
       "1  222911.0             Flatscreen TV               1.0      300.00   \n",
       "2  222912.0     AA Batteries (4-pack)               1.0        3.84   \n",
       "3  222913.0     AA Batteries (4-pack)               1.0        3.84   \n",
       "4  222914.0    AAA Batteries (4-pack)               5.0        2.99   \n",
       "\n",
       "           Order_Date                  Purchase_Address  \n",
       "0 2026-07-19 16:51:00   389 South St, Atlanta, GA 30301  \n",
       "1 2005-07-19 08:55:00     590 4th St, Seattle, WA 98101  \n",
       "2 2029-07-19 12:41:00    861 Hill St, Atlanta, GA 30301  \n",
       "3 2028-07-19 10:15:00   190 Ridge St, Atlanta, GA 30301  \n",
       "4 2031-07-19 02:13:00  824 Forest St, Seattle, WA 98101  "
      ]
     },
     "execution_count": 79,
     "metadata": {},
     "output_type": "execute_result"
    }
   ],
   "source": [
    "# SQL query to fetch data from 'dbo.LP1_startup_funding2020' table\n",
    "query = \"Select * from dbo.Sales_July_2019\"\n",
    "\n",
    "# Read data from the SQL query result\n",
    "dap_july = pd.read_sql(query, connection)\n",
    "\n",
    "# Display the first few rows of the DataFrame\n",
    "dap_july.head()\n"
   ]
  },
  {
   "cell_type": "code",
   "execution_count": 80,
   "metadata": {},
   "outputs": [
    {
     "name": "stdout",
     "output_type": "stream",
     "text": [
      "<class 'pandas.core.frame.DataFrame'>\n",
      "RangeIndex: 14371 entries, 0 to 14370\n",
      "Data columns (total 6 columns):\n",
      " #   Column            Non-Null Count  Dtype         \n",
      "---  ------            --------------  -----         \n",
      " 0   Order_ID          14291 non-null  float64       \n",
      " 1   Product           14326 non-null  object        \n",
      " 2   Quantity_Ordered  14291 non-null  float64       \n",
      " 3   Price_Each        14291 non-null  float64       \n",
      " 4   Order_Date        14291 non-null  datetime64[ns]\n",
      " 5   Purchase_Address  14326 non-null  object        \n",
      "dtypes: datetime64[ns](1), float64(3), object(2)\n",
      "memory usage: 673.8+ KB\n"
     ]
    }
   ],
   "source": [
    "# View information about the DataFrame\n",
    "# This line displays information about the DataFrame, including the data types of columns and memory usage\n",
    "dap_july.info()"
   ]
  },
  {
   "cell_type": "code",
   "execution_count": 81,
   "metadata": {},
   "outputs": [],
   "source": [
    "# Define the new column names\n",
    "new_column_names = {\n",
    "    'Order_ID': 'Order ID',\n",
    "    'Quantity_Ordered': 'Quantity Ordered',\n",
    "    'Price_Each': 'Price Each',\n",
    "    'Order_Date': 'Order Date',\n",
    "    'Purchase_Address': 'Purchase Address'\n",
    "}\n",
    "\n",
    "# Rename the columns\n",
    "dap_july.rename(columns=new_column_names, inplace=True)\n"
   ]
  },
  {
   "cell_type": "code",
   "execution_count": 82,
   "metadata": {},
   "outputs": [
    {
     "name": "stdout",
     "output_type": "stream",
     "text": [
      "Order ID                   float64\n",
      "Product                     object\n",
      "Quantity Ordered           float64\n",
      "Price Each                 float64\n",
      "Order Date          datetime64[ns]\n",
      "Purchase Address            object\n",
      "dtype: object\n"
     ]
    }
   ],
   "source": [
    "# Convert 'Order Date' column to datetime\n",
    "dap_july['Order Date'] = pd.to_datetime(dap_july['Order Date'], format='%m/%d/%y %H:%M', errors='coerce')\n",
    "\n",
    "\n",
    "# Now, check the data types after conversion\n",
    "print(dap_july.dtypes)"
   ]
  },
  {
   "cell_type": "code",
   "execution_count": 83,
   "metadata": {},
   "outputs": [
    {
     "data": {
      "text/plain": [
       "Index(['Order ID', 'Product', 'Quantity Ordered', 'Price Each', 'Order Date',\n",
       "       'Purchase Address'],\n",
       "      dtype='object')"
      ]
     },
     "execution_count": 83,
     "metadata": {},
     "output_type": "execute_result"
    }
   ],
   "source": [
    "# View the column names\n",
    "dap_july.columns"
   ]
  },
  {
   "cell_type": "code",
   "execution_count": 84,
   "metadata": {},
   "outputs": [
    {
     "name": "stdout",
     "output_type": "stream",
     "text": [
      "Number of unique values in 'Order ID': 13760\n",
      "Number of unique values in 'Product': 20\n",
      "Number of unique values in 'Quantity Ordered': 9\n",
      "Number of unique values in 'Price Each': 17\n",
      "Number of unique values in 'Order Date': 11348\n",
      "Number of unique values in 'Purchase Address': 13472\n"
     ]
    }
   ],
   "source": [
    "# Iterate over columns and print the number of unique values in each column\n",
    "for column in dap_july:\n",
    "    unique_values = dap_july[column].nunique()\n",
    "    print(f\"Number of unique values in '{column}': {unique_values}\")"
   ]
  },
  {
   "cell_type": "code",
   "execution_count": 85,
   "metadata": {},
   "outputs": [
    {
     "name": "stdout",
     "output_type": "stream",
     "text": [
      "Unique values in 'Order ID':\n",
      "[222910. 222911. 222912. ... 236667. 236668. 236669.]\n",
      "Unique values in 'Product':\n",
      "['Apple Airpods Headphones' 'Flatscreen TV' 'AA Batteries (4-pack)'\n",
      " 'AAA Batteries (4-pack)' 'Bose SoundSport Headphones' 'Google Phone'\n",
      " 'LG Dryer' 'USB-C Charging Cable' 'Lightning Charging Cable'\n",
      " '34in Ultrawide Monitor' 'Wired Headphones' 'Vareebadd Phone'\n",
      " '27in FHD Monitor' '20in Monitor' 'ThinkPad Laptop'\n",
      " '27in 4K Gaming Monitor' 'Macbook Pro Laptop' 'iPhone' None\n",
      " 'LG Washing Machine' 'Product']\n",
      "Unique values in 'Quantity Ordered':\n",
      "[ 1.  5.  2.  3. nan  4.  6.  7.  8.  9.]\n",
      "Unique values in 'Price Each':\n",
      "[ 150.          300.            3.83999991    2.99000001   99.98999786\n",
      "  600.           11.94999981   14.94999981  379.98999023   11.98999977\n",
      "  400.          149.99000549  109.98999786  999.98999023  389.98999023\n",
      " 1700.          700.                   nan]\n",
      "Unique values in 'Order Date':\n",
      "<DatetimeArray>\n",
      "['2026-07-19 16:51:00', '2005-07-19 08:55:00', '2029-07-19 12:41:00',\n",
      " '2028-07-19 10:15:00', '2031-07-19 02:13:00', '2003-07-19 18:30:00',\n",
      " '2021-07-19 22:39:00', '2017-07-19 13:44:00', '2014-07-19 21:16:00',\n",
      " '2014-07-19 13:24:00',\n",
      " ...\n",
      " '2016-07-19 22:25:00', '2013-07-19 21:36:00', '2013-07-19 11:47:00',\n",
      " '2001-07-19 18:34:00', '2023-07-19 12:38:00', '2004-07-19 10:54:00',\n",
      " '2003-07-19 08:18:00', '2031-07-19 20:11:00', '2030-07-19 19:28:00',\n",
      " '2010-07-19 01:50:00']\n",
      "Length: 11349, dtype: datetime64[ns]\n",
      "Unique values in 'Purchase Address':\n",
      "['389 South St, Atlanta, GA 30301' '590 4th St, Seattle, WA 98101'\n",
      " '861 Hill St, Atlanta, GA 30301' ... '249 Cherry St, Dallas, TX 75001'\n",
      " '727 Wilson St, Austin, TX 73301' '743 9th St, New York City, NY 10001']\n"
     ]
    }
   ],
   "source": [
    "# Iterate over columns and view unique values\n",
    "for column in dap_july.columns:\n",
    "    unique_values = dap_july[column].unique()\n",
    "    print(f\"Unique values in '{column}':\")\n",
    "    print(unique_values)"
   ]
  },
  {
   "cell_type": "markdown",
   "metadata": {},
   "source": [
    "Observations:\n",
    "\n",
    "1. Order_ID: The 'Order_ID' column contains unique numerical identifiers for each order. There are no apparent issues with this column.\n",
    "2. Product: The 'Product' column contains the names of various products sold. However, there are two unusual entries: 'None' and 'Product', which might indicate missing or placeholder values.\n",
    "3. Quantity_Ordered: The 'Quantity_Ordered' column contains the number of units ordered for each product. Most entries are numerical values representing quantities, but there are some missing values (NaN) present.\n",
    "4. Price_Each: The 'Price_Each' column contains the price of each product. Most entries are numerical values representing prices, but there are some missing values (NaN) present.\n",
    "5. Order_Date: The 'Order_Date' column contains the date and time when each order was placed. Entries seem to be in datetime format, but there might be some inconsistencies in the date format.\n",
    "6. Purchase_Address: The 'Purchase_Address' column contains the addresses where the purchases were made. Each entry includes the street address, city, state, and ZIP code.\n",
    "\n",
    "There seem to be some inconsistencies in the data, such as different date formats in the 'Order_Date' column and missing values in the 'Quantity_Ordered' and 'Price_Each' columns. Additionally, the 'Product' column contains 'None' and 'Product' entries, which need to be addressed. Further data cleaning and preprocessing may be necessary to ensure the integrity of the dataset."
   ]
  },
  {
   "cell_type": "code",
   "execution_count": 86,
   "metadata": {},
   "outputs": [
    {
     "data": {
      "text/plain": [
       "(14371, 6)"
      ]
     },
     "execution_count": 86,
     "metadata": {},
     "output_type": "execute_result"
    }
   ],
   "source": [
    "# View the dimensions of the DataFrame\n",
    "dap_july.shape"
   ]
  },
  {
   "cell_type": "code",
   "execution_count": 87,
   "metadata": {},
   "outputs": [
    {
     "data": {
      "text/html": [
       "<div>\n",
       "<style scoped>\n",
       "    .dataframe tbody tr th:only-of-type {\n",
       "        vertical-align: middle;\n",
       "    }\n",
       "\n",
       "    .dataframe tbody tr th {\n",
       "        vertical-align: top;\n",
       "    }\n",
       "\n",
       "    .dataframe thead th {\n",
       "        text-align: right;\n",
       "    }\n",
       "</style>\n",
       "<table border=\"1\" class=\"dataframe\">\n",
       "  <thead>\n",
       "    <tr style=\"text-align: right;\">\n",
       "      <th></th>\n",
       "      <th>Order ID</th>\n",
       "      <th>Quantity Ordered</th>\n",
       "      <th>Price Each</th>\n",
       "      <th>Order Date</th>\n",
       "    </tr>\n",
       "  </thead>\n",
       "  <tbody>\n",
       "    <tr>\n",
       "      <th>count</th>\n",
       "      <td>14291.000000</td>\n",
       "      <td>14291.000000</td>\n",
       "      <td>14291.000000</td>\n",
       "      <td>14291</td>\n",
       "    </tr>\n",
       "    <tr>\n",
       "      <th>mean</th>\n",
       "      <td>229788.516269</td>\n",
       "      <td>1.124414</td>\n",
       "      <td>184.149922</td>\n",
       "      <td>2016-06-30 03:38:13.947239424</td>\n",
       "    </tr>\n",
       "    <tr>\n",
       "      <th>min</th>\n",
       "      <td>222910.000000</td>\n",
       "      <td>1.000000</td>\n",
       "      <td>2.990000</td>\n",
       "      <td>2001-07-19 06:08:00</td>\n",
       "    </tr>\n",
       "    <tr>\n",
       "      <th>25%</th>\n",
       "      <td>226347.500000</td>\n",
       "      <td>1.000000</td>\n",
       "      <td>11.950000</td>\n",
       "      <td>2008-07-19 17:59:30</td>\n",
       "    </tr>\n",
       "    <tr>\n",
       "      <th>50%</th>\n",
       "      <td>229783.000000</td>\n",
       "      <td>1.000000</td>\n",
       "      <td>14.950000</td>\n",
       "      <td>2016-07-19 12:54:00</td>\n",
       "    </tr>\n",
       "    <tr>\n",
       "      <th>75%</th>\n",
       "      <td>233228.500000</td>\n",
       "      <td>1.000000</td>\n",
       "      <td>150.000000</td>\n",
       "      <td>2024-07-19 10:33:00</td>\n",
       "    </tr>\n",
       "    <tr>\n",
       "      <th>max</th>\n",
       "      <td>236669.000000</td>\n",
       "      <td>9.000000</td>\n",
       "      <td>1700.000000</td>\n",
       "      <td>2031-07-19 23:43:00</td>\n",
       "    </tr>\n",
       "    <tr>\n",
       "      <th>std</th>\n",
       "      <td>3970.663121</td>\n",
       "      <td>0.460838</td>\n",
       "      <td>332.954499</td>\n",
       "      <td>NaN</td>\n",
       "    </tr>\n",
       "  </tbody>\n",
       "</table>\n",
       "</div>"
      ],
      "text/plain": [
       "            Order ID  Quantity Ordered    Price Each  \\\n",
       "count   14291.000000      14291.000000  14291.000000   \n",
       "mean   229788.516269          1.124414    184.149922   \n",
       "min    222910.000000          1.000000      2.990000   \n",
       "25%    226347.500000          1.000000     11.950000   \n",
       "50%    229783.000000          1.000000     14.950000   \n",
       "75%    233228.500000          1.000000    150.000000   \n",
       "max    236669.000000          9.000000   1700.000000   \n",
       "std      3970.663121          0.460838    332.954499   \n",
       "\n",
       "                          Order Date  \n",
       "count                          14291  \n",
       "mean   2016-06-30 03:38:13.947239424  \n",
       "min              2001-07-19 06:08:00  \n",
       "25%              2008-07-19 17:59:30  \n",
       "50%              2016-07-19 12:54:00  \n",
       "75%              2024-07-19 10:33:00  \n",
       "max              2031-07-19 23:43:00  \n",
       "std                              NaN  "
      ]
     },
     "execution_count": 87,
     "metadata": {},
     "output_type": "execute_result"
    }
   ],
   "source": [
    "# Display descriptive statistics of the DataFrame\n",
    "dap_july.describe()"
   ]
  },
  {
   "cell_type": "markdown",
   "metadata": {},
   "source": [
    "In July, the sales data indicates the following:\n",
    "\n",
    "1. Order_ID: The orders range from 222910 to 236669, with an average of around 229788. The standard deviation is approximately 3970.66, suggesting a moderate dispersion around the mean.\n",
    "2. Quantity_Ordered: On average, each order consists of approximately 1.12 items, with a standard deviation of around 0.46. The minimum quantity ordered is 1, while the maximum is 9.\n",
    "3. Price_Each: The average price per item sold is approximately $184.15, with a considerable standard deviation of $332.95. Prices range from $2.99 to $1700.00."
   ]
  },
  {
   "cell_type": "code",
   "execution_count": 88,
   "metadata": {},
   "outputs": [
    {
     "data": {
      "text/plain": [
       "Order ID            80\n",
       "Product             45\n",
       "Quantity Ordered    80\n",
       "Price Each          80\n",
       "Order Date          80\n",
       "Purchase Address    45\n",
       "dtype: int64"
      ]
     },
     "execution_count": 88,
     "metadata": {},
     "output_type": "execute_result"
    }
   ],
   "source": [
    "# Count the number of missing values in each column\n",
    "dap_july.isnull().sum()"
   ]
  },
  {
   "cell_type": "markdown",
   "metadata": {},
   "source": [
    "In July, there are 80 missing values in the 'Order_ID', 'Quantity_Ordered', 'Price_Each', and 'Order_Date' columns. Additionally, there are 45 missing values in the 'Product' and 'Purchase_Address' columns."
   ]
  },
  {
   "cell_type": "code",
   "execution_count": 89,
   "metadata": {},
   "outputs": [
    {
     "data": {
      "text/plain": [
       "96"
      ]
     },
     "execution_count": 89,
     "metadata": {},
     "output_type": "execute_result"
    }
   ],
   "source": [
    "# Count the number of duplicate rows in the DataFrame\n",
    "dap_july.duplicated().sum()"
   ]
  },
  {
   "cell_type": "code",
   "execution_count": 90,
   "metadata": {},
   "outputs": [],
   "source": [
    "# Drop duplicate rows and reset index inplace\n",
    "dap_july.drop_duplicates(inplace=True)\n",
    "dap_july.reset_index(drop=True, inplace=True)"
   ]
  },
  {
   "cell_type": "code",
   "execution_count": 91,
   "metadata": {},
   "outputs": [
    {
     "data": {
      "text/plain": [
       "0"
      ]
     },
     "execution_count": 91,
     "metadata": {},
     "output_type": "execute_result"
    }
   ],
   "source": [
    "# Count the number of duplicate rows in the DataFrame\n",
    "dap_july.duplicated().sum()"
   ]
  },
  {
   "cell_type": "markdown",
   "metadata": {},
   "source": [
    "In July, there are 96 duplicate rows in the DataFrame."
   ]
  },
  {
   "cell_type": "markdown",
   "metadata": {},
   "source": [
    "## Dataset of dbo.Sales_August_2019 on server"
   ]
  },
  {
   "cell_type": "code",
   "execution_count": 92,
   "metadata": {},
   "outputs": [
    {
     "name": "stderr",
     "output_type": "stream",
     "text": [
      "C:\\Users\\Sami\\AppData\\Local\\Temp\\ipykernel_20812\\949500391.py:3: UserWarning: pandas only supports SQLAlchemy connectable (engine/connection) or database string URI or sqlite3 DBAPI2 connection. Other DBAPI2 objects are not tested. Please consider using SQLAlchemy.\n",
      "  dap_august = pd.read_sql(query, connection)\n"
     ]
    },
    {
     "data": {
      "text/html": [
       "<div>\n",
       "<style scoped>\n",
       "    .dataframe tbody tr th:only-of-type {\n",
       "        vertical-align: middle;\n",
       "    }\n",
       "\n",
       "    .dataframe tbody tr th {\n",
       "        vertical-align: top;\n",
       "    }\n",
       "\n",
       "    .dataframe thead th {\n",
       "        text-align: right;\n",
       "    }\n",
       "</style>\n",
       "<table border=\"1\" class=\"dataframe\">\n",
       "  <thead>\n",
       "    <tr style=\"text-align: right;\">\n",
       "      <th></th>\n",
       "      <th>Order_ID</th>\n",
       "      <th>Product</th>\n",
       "      <th>Quantity_Ordered</th>\n",
       "      <th>Price_Each</th>\n",
       "      <th>Order_Date</th>\n",
       "      <th>Purchase_Address</th>\n",
       "    </tr>\n",
       "  </thead>\n",
       "  <tbody>\n",
       "    <tr>\n",
       "      <th>0</th>\n",
       "      <td>236670.0</td>\n",
       "      <td>Wired Headphones</td>\n",
       "      <td>2.0</td>\n",
       "      <td>11.990000</td>\n",
       "      <td>2031-08-19 22:21:00</td>\n",
       "      <td>359 Spruce St, Seattle, WA 98101</td>\n",
       "    </tr>\n",
       "    <tr>\n",
       "      <th>1</th>\n",
       "      <td>236671.0</td>\n",
       "      <td>Bose SoundSport Headphones</td>\n",
       "      <td>1.0</td>\n",
       "      <td>99.989998</td>\n",
       "      <td>2015-08-19 15:11:00</td>\n",
       "      <td>492 Ridge St, Dallas, TX 75001</td>\n",
       "    </tr>\n",
       "    <tr>\n",
       "      <th>2</th>\n",
       "      <td>236672.0</td>\n",
       "      <td>iPhone</td>\n",
       "      <td>1.0</td>\n",
       "      <td>700.000000</td>\n",
       "      <td>2006-08-19 14:40:00</td>\n",
       "      <td>149 7th St, Portland, OR 97035</td>\n",
       "    </tr>\n",
       "    <tr>\n",
       "      <th>3</th>\n",
       "      <td>236673.0</td>\n",
       "      <td>AA Batteries (4-pack)</td>\n",
       "      <td>2.0</td>\n",
       "      <td>3.840000</td>\n",
       "      <td>2029-08-19 20:59:00</td>\n",
       "      <td>631 2nd St, Los Angeles, CA 90001</td>\n",
       "    </tr>\n",
       "    <tr>\n",
       "      <th>4</th>\n",
       "      <td>236674.0</td>\n",
       "      <td>AA Batteries (4-pack)</td>\n",
       "      <td>2.0</td>\n",
       "      <td>3.840000</td>\n",
       "      <td>2015-08-19 19:53:00</td>\n",
       "      <td>736 14th St, New York City, NY 10001</td>\n",
       "    </tr>\n",
       "  </tbody>\n",
       "</table>\n",
       "</div>"
      ],
      "text/plain": [
       "   Order_ID                     Product  Quantity_Ordered  Price_Each  \\\n",
       "0  236670.0            Wired Headphones               2.0   11.990000   \n",
       "1  236671.0  Bose SoundSport Headphones               1.0   99.989998   \n",
       "2  236672.0                      iPhone               1.0  700.000000   \n",
       "3  236673.0       AA Batteries (4-pack)               2.0    3.840000   \n",
       "4  236674.0       AA Batteries (4-pack)               2.0    3.840000   \n",
       "\n",
       "           Order_Date                      Purchase_Address  \n",
       "0 2031-08-19 22:21:00      359 Spruce St, Seattle, WA 98101  \n",
       "1 2015-08-19 15:11:00        492 Ridge St, Dallas, TX 75001  \n",
       "2 2006-08-19 14:40:00        149 7th St, Portland, OR 97035  \n",
       "3 2029-08-19 20:59:00     631 2nd St, Los Angeles, CA 90001  \n",
       "4 2015-08-19 19:53:00  736 14th St, New York City, NY 10001  "
      ]
     },
     "execution_count": 92,
     "metadata": {},
     "output_type": "execute_result"
    }
   ],
   "source": [
    "query = \"Select * from dbo.Sales_August_2019\"\n",
    "\n",
    "dap_august = pd.read_sql(query, connection)\n",
    "\n",
    "dap_august.head()\n"
   ]
  },
  {
   "cell_type": "code",
   "execution_count": 93,
   "metadata": {},
   "outputs": [
    {
     "name": "stdout",
     "output_type": "stream",
     "text": [
      "<class 'pandas.core.frame.DataFrame'>\n",
      "RangeIndex: 12011 entries, 0 to 12010\n",
      "Data columns (total 6 columns):\n",
      " #   Column            Non-Null Count  Dtype         \n",
      "---  ------            --------------  -----         \n",
      " 0   Order_ID          11957 non-null  float64       \n",
      " 1   Product           11983 non-null  object        \n",
      " 2   Quantity_Ordered  11957 non-null  float64       \n",
      " 3   Price_Each        11957 non-null  float64       \n",
      " 4   Order_Date        11957 non-null  datetime64[ns]\n",
      " 5   Purchase_Address  11983 non-null  object        \n",
      "dtypes: datetime64[ns](1), float64(3), object(2)\n",
      "memory usage: 563.1+ KB\n"
     ]
    }
   ],
   "source": [
    "# View information about the DataFrame\n",
    "# This line displays information about the DataFrame, including the data types of columns and memory usage\n",
    "dap_august.info()"
   ]
  },
  {
   "cell_type": "code",
   "execution_count": 94,
   "metadata": {},
   "outputs": [],
   "source": [
    "# Define the new column names\n",
    "new_column_names = {\n",
    "    'Order_ID': 'Order ID',\n",
    "    'Quantity_Ordered': 'Quantity Ordered',\n",
    "    'Price_Each': 'Price Each',\n",
    "    'Order_Date': 'Order Date',\n",
    "    'Purchase_Address': 'Purchase Address'\n",
    "}\n",
    "\n",
    "# Rename the columns\n",
    "dap_august.rename(columns=new_column_names, inplace=True)\n"
   ]
  },
  {
   "cell_type": "code",
   "execution_count": 95,
   "metadata": {},
   "outputs": [
    {
     "name": "stdout",
     "output_type": "stream",
     "text": [
      "Order ID                   float64\n",
      "Product                     object\n",
      "Quantity Ordered           float64\n",
      "Price Each                 float64\n",
      "Order Date          datetime64[ns]\n",
      "Purchase Address            object\n",
      "dtype: object\n"
     ]
    }
   ],
   "source": [
    "# Convert 'Order Date' column to datetime\n",
    "dap_august['Order Date'] = pd.to_datetime(dap_august['Order Date'], format='%m/%d/%y %H:%M', errors='coerce')\n",
    "\n",
    "\n",
    "# Now, check the data types after conversion\n",
    "print(dap_august.dtypes)"
   ]
  },
  {
   "cell_type": "code",
   "execution_count": 96,
   "metadata": {},
   "outputs": [
    {
     "data": {
      "text/plain": [
       "Index(['Order ID', 'Product', 'Quantity Ordered', 'Price Each', 'Order Date',\n",
       "       'Purchase Address'],\n",
       "      dtype='object')"
      ]
     },
     "execution_count": 96,
     "metadata": {},
     "output_type": "execute_result"
    }
   ],
   "source": [
    "# View the column names\n",
    "dap_august.columns"
   ]
  },
  {
   "cell_type": "code",
   "execution_count": 97,
   "metadata": {},
   "outputs": [
    {
     "name": "stdout",
     "output_type": "stream",
     "text": [
      "Number of unique values in 'Order ID': 11481\n",
      "Number of unique values in 'Product': 20\n",
      "Number of unique values in 'Quantity Ordered': 8\n",
      "Number of unique values in 'Price Each': 17\n",
      "Number of unique values in 'Order Date': 9732\n",
      "Number of unique values in 'Purchase Address': 11296\n"
     ]
    }
   ],
   "source": [
    "# Iterate over columns and print the number of unique values in each column\n",
    "for column in dap_august.columns:\n",
    "    unique_values = dap_august[column].nunique()\n",
    "    print(f\"Number of unique values in '{column}': {unique_values}\")"
   ]
  },
  {
   "cell_type": "code",
   "execution_count": 98,
   "metadata": {},
   "outputs": [
    {
     "name": "stdout",
     "output_type": "stream",
     "text": [
      "Unique values in 'Order ID':\n",
      "[236670. 236671. 236672. ... 248148. 248149. 248150.]\n",
      "Unique values in 'Product':\n",
      "['Wired Headphones' 'Bose SoundSport Headphones' 'iPhone'\n",
      " 'AA Batteries (4-pack)' '34in Ultrawide Monitor' '20in Monitor'\n",
      " 'Macbook Pro Laptop' 'LG Washing Machine' '27in FHD Monitor'\n",
      " 'Lightning Charging Cable' 'Apple Airpods Headphones'\n",
      " 'AAA Batteries (4-pack)' 'USB-C Charging Cable' '27in 4K Gaming Monitor'\n",
      " 'ThinkPad Laptop' 'Flatscreen TV' 'Google Phone' 'Vareebadd Phone'\n",
      " 'Product' None 'LG Dryer']\n",
      "Unique values in 'Quantity Ordered':\n",
      "[ 2.  1.  3.  4. nan  6.  7.  5.  8.]\n",
      "Unique values in 'Price Each':\n",
      "[  11.98999977   99.98999786  700.            3.83999991  379.98999023\n",
      "  109.98999786 1700.          600.          149.99000549   14.94999981\n",
      "  150.            2.99000001   11.94999981  389.98999023  999.98999023\n",
      "  300.          400.                   nan]\n",
      "Unique values in 'Order Date':\n",
      "<DatetimeArray>\n",
      "['2031-08-19 22:21:00', '2015-08-19 15:11:00', '2006-08-19 14:40:00',\n",
      " '2029-08-19 20:59:00', '2015-08-19 19:53:00', '2002-08-19 23:54:00',\n",
      " '2004-08-19 19:52:00', '2013-08-19 07:16:00', '2025-08-19 20:11:00',\n",
      " '2007-08-19 15:43:00',\n",
      " ...\n",
      " '2010-08-19 23:39:00', '2027-08-19 18:43:00', '2007-08-19 10:09:00',\n",
      " '2004-08-19 20:45:00', '2022-08-19 15:10:00', '2029-08-19 22:19:00',\n",
      " '2031-08-19 16:26:00', '2002-08-19 07:25:00', '2008-08-19 12:10:00',\n",
      " '2016-08-19 08:13:00']\n",
      "Length: 9733, dtype: datetime64[ns]\n",
      "Unique values in 'Purchase Address':\n",
      "['359 Spruce St, Seattle, WA 98101' '492 Ridge St, Dallas, TX 75001'\n",
      " '149 7th St, Portland, OR 97035' ... '568 13th St, Seattle, WA 98101'\n",
      " '495 Walnut St, San Francisco, CA 94016'\n",
      " '738 Park St, Los Angeles, CA 90001']\n"
     ]
    }
   ],
   "source": [
    "# Iterate over columns and view unique values\n",
    "for column in dap_august.columns:\n",
    "    unique_values = dap_august[column].unique()\n",
    "    print(f\"Unique values in '{column}':\")\n",
    "    print(unique_values)"
   ]
  },
  {
   "cell_type": "markdown",
   "metadata": {},
   "source": [
    "Observations:\n",
    "\n",
    "1. Order_ID: The 'Order_ID' column contains unique numerical identifiers for each order. There are no apparent issues with this column.\n",
    "2. Product: The 'Product' column contains the names of various products sold. However, there are two unusual entries: 'None' and 'Product', which might indicate missing or placeholder values.\n",
    "3. Quantity_Ordered: The 'Quantity_Ordered' column contains the number of units ordered for each product. Most entries are numerical values representing quantities, but there are some missing values (NaN) present.\n",
    "4. Price_Each: The 'Price_Each' column contains the price of each product. Most entries are numerical values representing prices, but there are some missing values (NaN) present.\n",
    "5. Order_Date: The 'Order_Date' column contains the date and time when each order was placed. Entries seem to be in datetime format.\n",
    "6. Purchase_Address: The 'Purchase_Address' column contains the addresses where the purchases were made. Each entry includes the street address, city, state, and ZIP code.\n",
    "\n",
    "The data seems to have similar issues as before, with missing values in the 'Quantity_Ordered' and 'Price_Each' columns, and inconsistent entries in the 'Product' column. Additionally, there appear to be no missing values in the 'Order_ID', 'Order_Date', and 'Purchase_Address' columns. Further cleaning and preprocessing may be necessary to ensure the integrity of the dataset."
   ]
  },
  {
   "cell_type": "code",
   "execution_count": 99,
   "metadata": {},
   "outputs": [
    {
     "data": {
      "text/plain": [
       "(12011, 6)"
      ]
     },
     "execution_count": 99,
     "metadata": {},
     "output_type": "execute_result"
    }
   ],
   "source": [
    "# View the dimensions of the DataFrame\n",
    "dap_august.shape"
   ]
  },
  {
   "cell_type": "code",
   "execution_count": 100,
   "metadata": {},
   "outputs": [
    {
     "data": {
      "text/html": [
       "<div>\n",
       "<style scoped>\n",
       "    .dataframe tbody tr th:only-of-type {\n",
       "        vertical-align: middle;\n",
       "    }\n",
       "\n",
       "    .dataframe tbody tr th {\n",
       "        vertical-align: top;\n",
       "    }\n",
       "\n",
       "    .dataframe thead th {\n",
       "        text-align: right;\n",
       "    }\n",
       "</style>\n",
       "<table border=\"1\" class=\"dataframe\">\n",
       "  <thead>\n",
       "    <tr style=\"text-align: right;\">\n",
       "      <th></th>\n",
       "      <th>Order ID</th>\n",
       "      <th>Quantity Ordered</th>\n",
       "      <th>Price Each</th>\n",
       "      <th>Order Date</th>\n",
       "    </tr>\n",
       "  </thead>\n",
       "  <tbody>\n",
       "    <tr>\n",
       "      <th>count</th>\n",
       "      <td>11957.000000</td>\n",
       "      <td>11957.000000</td>\n",
       "      <td>11957.000000</td>\n",
       "      <td>11957</td>\n",
       "    </tr>\n",
       "    <tr>\n",
       "      <th>mean</th>\n",
       "      <td>242420.339299</td>\n",
       "      <td>1.124195</td>\n",
       "      <td>186.526442</td>\n",
       "      <td>2016-09-18 18:41:02.534080512</td>\n",
       "    </tr>\n",
       "    <tr>\n",
       "      <th>min</th>\n",
       "      <td>236670.000000</td>\n",
       "      <td>1.000000</td>\n",
       "      <td>2.990000</td>\n",
       "      <td>2001-08-19 04:50:00</td>\n",
       "    </tr>\n",
       "    <tr>\n",
       "      <th>25%</th>\n",
       "      <td>239551.000000</td>\n",
       "      <td>1.000000</td>\n",
       "      <td>11.950000</td>\n",
       "      <td>2008-08-19 21:03:00</td>\n",
       "    </tr>\n",
       "    <tr>\n",
       "      <th>50%</th>\n",
       "      <td>242427.000000</td>\n",
       "      <td>1.000000</td>\n",
       "      <td>14.950000</td>\n",
       "      <td>2016-08-19 14:48:00</td>\n",
       "    </tr>\n",
       "    <tr>\n",
       "      <th>75%</th>\n",
       "      <td>245281.000000</td>\n",
       "      <td>1.000000</td>\n",
       "      <td>150.000000</td>\n",
       "      <td>2024-08-19 13:25:00</td>\n",
       "    </tr>\n",
       "    <tr>\n",
       "      <th>max</th>\n",
       "      <td>248150.000000</td>\n",
       "      <td>8.000000</td>\n",
       "      <td>1700.000000</td>\n",
       "      <td>2031-08-19 23:57:00</td>\n",
       "    </tr>\n",
       "    <tr>\n",
       "      <th>std</th>\n",
       "      <td>3313.683368</td>\n",
       "      <td>0.449580</td>\n",
       "      <td>332.301934</td>\n",
       "      <td>NaN</td>\n",
       "    </tr>\n",
       "  </tbody>\n",
       "</table>\n",
       "</div>"
      ],
      "text/plain": [
       "            Order ID  Quantity Ordered    Price Each  \\\n",
       "count   11957.000000      11957.000000  11957.000000   \n",
       "mean   242420.339299          1.124195    186.526442   \n",
       "min    236670.000000          1.000000      2.990000   \n",
       "25%    239551.000000          1.000000     11.950000   \n",
       "50%    242427.000000          1.000000     14.950000   \n",
       "75%    245281.000000          1.000000    150.000000   \n",
       "max    248150.000000          8.000000   1700.000000   \n",
       "std      3313.683368          0.449580    332.301934   \n",
       "\n",
       "                          Order Date  \n",
       "count                          11957  \n",
       "mean   2016-09-18 18:41:02.534080512  \n",
       "min              2001-08-19 04:50:00  \n",
       "25%              2008-08-19 21:03:00  \n",
       "50%              2016-08-19 14:48:00  \n",
       "75%              2024-08-19 13:25:00  \n",
       "max              2031-08-19 23:57:00  \n",
       "std                              NaN  "
      ]
     },
     "execution_count": 100,
     "metadata": {},
     "output_type": "execute_result"
    }
   ],
   "source": [
    "# Display descriptive statistics of the DataFrame\n",
    "dap_august.describe()"
   ]
  },
  {
   "cell_type": "markdown",
   "metadata": {},
   "source": [
    "In this summary:\n",
    "\n",
    "1. The Order_ID, Quantity_Ordered, and Price_Each columns have a count of 11,957 entries each.\n",
    "2. The mean quantity ordered is approximately 1.12, with a standard deviation of about 0.45.\n",
    "3. The mean price per item is around $186.53, with a standard deviation of approximately $332.30.\n",
    "4. The minimum Order_ID is 236,670, and the maximum is 248,150.\n",
    "5. The minimum quantity ordered is 1, and the maximum is 8.\n",
    "6. The prices range from $2.99 to $1700."
   ]
  },
  {
   "cell_type": "code",
   "execution_count": 101,
   "metadata": {},
   "outputs": [
    {
     "data": {
      "text/plain": [
       "Order ID            54\n",
       "Product             28\n",
       "Quantity Ordered    54\n",
       "Price Each          54\n",
       "Order Date          54\n",
       "Purchase Address    28\n",
       "dtype: int64"
      ]
     },
     "execution_count": 101,
     "metadata": {},
     "output_type": "execute_result"
    }
   ],
   "source": [
    "# Count the number of missing values in each column\n",
    "dap_august.isnull().sum()"
   ]
  },
  {
   "cell_type": "markdown",
   "metadata": {},
   "source": [
    "The DataFrame dap_august has missing values in the following columns:\n",
    "\n",
    "1. Order_ID: 54 missing values\n",
    "2. Product: 28 missing values\n",
    "3. Quantity_Ordered: 54 missing values\n",
    "4. Price_Each: 54 missing values\n",
    "5. Order_Date: 54 missing values\n",
    "6. Purchase_Address: 28 missing values"
   ]
  },
  {
   "cell_type": "code",
   "execution_count": 102,
   "metadata": {},
   "outputs": [
    {
     "data": {
      "text/plain": [
       "70"
      ]
     },
     "execution_count": 102,
     "metadata": {},
     "output_type": "execute_result"
    }
   ],
   "source": [
    "# Count the number of duplicate rows in the DataFrame\n",
    "dap_august.duplicated().sum()"
   ]
  },
  {
   "cell_type": "code",
   "execution_count": 103,
   "metadata": {},
   "outputs": [],
   "source": [
    "# Drop duplicate rows and reset index inplace\n",
    "dap_august.drop_duplicates(inplace=True)\n",
    "dap_august.reset_index(drop=True, inplace=True)"
   ]
  },
  {
   "cell_type": "code",
   "execution_count": 104,
   "metadata": {},
   "outputs": [
    {
     "data": {
      "text/plain": [
       "0"
      ]
     },
     "execution_count": 104,
     "metadata": {},
     "output_type": "execute_result"
    }
   ],
   "source": [
    "# Count the number of duplicate rows in the DataFrame\n",
    "dap_august.duplicated().sum()"
   ]
  },
  {
   "cell_type": "markdown",
   "metadata": {},
   "source": [
    "There are 70 duplicate rows in the DataFrame dap_august."
   ]
  },
  {
   "cell_type": "markdown",
   "metadata": {},
   "source": [
    "## Dataset of dbo.Sales_September_2019 on server"
   ]
  },
  {
   "cell_type": "code",
   "execution_count": 105,
   "metadata": {},
   "outputs": [
    {
     "name": "stderr",
     "output_type": "stream",
     "text": [
      "C:\\Users\\Sami\\AppData\\Local\\Temp\\ipykernel_20812\\4226239043.py:3: UserWarning: pandas only supports SQLAlchemy connectable (engine/connection) or database string URI or sqlite3 DBAPI2 connection. Other DBAPI2 objects are not tested. Please consider using SQLAlchemy.\n",
      "  dap_sept = pd.read_sql(query, connection)\n"
     ]
    },
    {
     "data": {
      "text/html": [
       "<div>\n",
       "<style scoped>\n",
       "    .dataframe tbody tr th:only-of-type {\n",
       "        vertical-align: middle;\n",
       "    }\n",
       "\n",
       "    .dataframe tbody tr th {\n",
       "        vertical-align: top;\n",
       "    }\n",
       "\n",
       "    .dataframe thead th {\n",
       "        text-align: right;\n",
       "    }\n",
       "</style>\n",
       "<table border=\"1\" class=\"dataframe\">\n",
       "  <thead>\n",
       "    <tr style=\"text-align: right;\">\n",
       "      <th></th>\n",
       "      <th>Order_ID</th>\n",
       "      <th>Product</th>\n",
       "      <th>Quantity_Ordered</th>\n",
       "      <th>Price_Each</th>\n",
       "      <th>Order_Date</th>\n",
       "      <th>Purchase_Address</th>\n",
       "    </tr>\n",
       "  </thead>\n",
       "  <tbody>\n",
       "    <tr>\n",
       "      <th>0</th>\n",
       "      <td>248151.0</td>\n",
       "      <td>AA Batteries (4-pack)</td>\n",
       "      <td>4.0</td>\n",
       "      <td>3.840000</td>\n",
       "      <td>2017-09-19 14:44:00</td>\n",
       "      <td>380 North St, Los Angeles, CA 90001</td>\n",
       "    </tr>\n",
       "    <tr>\n",
       "      <th>1</th>\n",
       "      <td>248152.0</td>\n",
       "      <td>USB-C Charging Cable</td>\n",
       "      <td>2.0</td>\n",
       "      <td>11.950000</td>\n",
       "      <td>2029-09-19 10:19:00</td>\n",
       "      <td>511 8th St, Austin, TX 73301</td>\n",
       "    </tr>\n",
       "    <tr>\n",
       "      <th>2</th>\n",
       "      <td>248153.0</td>\n",
       "      <td>USB-C Charging Cable</td>\n",
       "      <td>1.0</td>\n",
       "      <td>11.950000</td>\n",
       "      <td>2016-09-19 17:48:00</td>\n",
       "      <td>151 Johnson St, Los Angeles, CA 90001</td>\n",
       "    </tr>\n",
       "    <tr>\n",
       "      <th>3</th>\n",
       "      <td>248154.0</td>\n",
       "      <td>27in FHD Monitor</td>\n",
       "      <td>1.0</td>\n",
       "      <td>149.990005</td>\n",
       "      <td>2027-09-19 07:52:00</td>\n",
       "      <td>355 Hickory St, Seattle, WA 98101</td>\n",
       "    </tr>\n",
       "    <tr>\n",
       "      <th>4</th>\n",
       "      <td>248155.0</td>\n",
       "      <td>USB-C Charging Cable</td>\n",
       "      <td>1.0</td>\n",
       "      <td>11.950000</td>\n",
       "      <td>2001-09-19 19:03:00</td>\n",
       "      <td>125 5th St, Atlanta, GA 30301</td>\n",
       "    </tr>\n",
       "  </tbody>\n",
       "</table>\n",
       "</div>"
      ],
      "text/plain": [
       "   Order_ID                Product  Quantity_Ordered  Price_Each  \\\n",
       "0  248151.0  AA Batteries (4-pack)               4.0    3.840000   \n",
       "1  248152.0   USB-C Charging Cable               2.0   11.950000   \n",
       "2  248153.0   USB-C Charging Cable               1.0   11.950000   \n",
       "3  248154.0       27in FHD Monitor               1.0  149.990005   \n",
       "4  248155.0   USB-C Charging Cable               1.0   11.950000   \n",
       "\n",
       "           Order_Date                       Purchase_Address  \n",
       "0 2017-09-19 14:44:00    380 North St, Los Angeles, CA 90001  \n",
       "1 2029-09-19 10:19:00           511 8th St, Austin, TX 73301  \n",
       "2 2016-09-19 17:48:00  151 Johnson St, Los Angeles, CA 90001  \n",
       "3 2027-09-19 07:52:00      355 Hickory St, Seattle, WA 98101  \n",
       "4 2001-09-19 19:03:00          125 5th St, Atlanta, GA 30301  "
      ]
     },
     "execution_count": 105,
     "metadata": {},
     "output_type": "execute_result"
    }
   ],
   "source": [
    "query= \"Select * from dbo.Sales_September_2019\"\n",
    "\n",
    "dap_sept = pd.read_sql(query, connection)\n",
    "\n",
    "dap_sept.head()\n",
    "\n"
   ]
  },
  {
   "cell_type": "code",
   "execution_count": 106,
   "metadata": {},
   "outputs": [
    {
     "name": "stdout",
     "output_type": "stream",
     "text": [
      "<class 'pandas.core.frame.DataFrame'>\n",
      "RangeIndex: 11686 entries, 0 to 11685\n",
      "Data columns (total 6 columns):\n",
      " #   Column            Non-Null Count  Dtype         \n",
      "---  ------            --------------  -----         \n",
      " 0   Order_ID          11629 non-null  float64       \n",
      " 1   Product           11646 non-null  object        \n",
      " 2   Quantity_Ordered  11629 non-null  float64       \n",
      " 3   Price_Each        11629 non-null  float64       \n",
      " 4   Order_Date        11629 non-null  datetime64[ns]\n",
      " 5   Purchase_Address  11646 non-null  object        \n",
      "dtypes: datetime64[ns](1), float64(3), object(2)\n",
      "memory usage: 547.9+ KB\n"
     ]
    }
   ],
   "source": [
    "# View information about the DataFrame\n",
    "# This line displays information about the DataFrame, including the data types of columns and memory usage\n",
    "dap_sept.info()"
   ]
  },
  {
   "cell_type": "code",
   "execution_count": 107,
   "metadata": {},
   "outputs": [],
   "source": [
    "# Define the new column names\n",
    "new_column_names = {\n",
    "    'Order_ID': 'Order ID',\n",
    "    'Quantity_Ordered': 'Quantity Ordered',\n",
    "    'Price_Each': 'Price Each',\n",
    "    'Order_Date': 'Order Date',\n",
    "    'Purchase_Address': 'Purchase Address'\n",
    "}\n",
    "\n",
    "# Rename the columns\n",
    "dap_sept.rename(columns=new_column_names, inplace=True)\n"
   ]
  },
  {
   "cell_type": "code",
   "execution_count": 108,
   "metadata": {},
   "outputs": [
    {
     "name": "stdout",
     "output_type": "stream",
     "text": [
      "Order ID                   float64\n",
      "Product                     object\n",
      "Quantity Ordered           float64\n",
      "Price Each                 float64\n",
      "Order Date          datetime64[ns]\n",
      "Purchase Address            object\n",
      "dtype: object\n"
     ]
    }
   ],
   "source": [
    "# Convert 'Order Date' column to datetime\n",
    "dap_sept['Order Date'] = pd.to_datetime(dap_sept['Order Date'], format='%m/%d/%y %H:%M', errors='coerce')\n",
    "\n",
    "\n",
    "# Now, check the data types after conversion\n",
    "print(dap_sept.dtypes)"
   ]
  },
  {
   "cell_type": "code",
   "execution_count": 109,
   "metadata": {},
   "outputs": [
    {
     "data": {
      "text/plain": [
       "Index(['Order ID', 'Product', 'Quantity Ordered', 'Price Each', 'Order Date',\n",
       "       'Purchase Address'],\n",
       "      dtype='object')"
      ]
     },
     "execution_count": 109,
     "metadata": {},
     "output_type": "execute_result"
    }
   ],
   "source": [
    "# View the column names\n",
    "dap_sept.columns"
   ]
  },
  {
   "cell_type": "code",
   "execution_count": 110,
   "metadata": {},
   "outputs": [
    {
     "name": "stdout",
     "output_type": "stream",
     "text": [
      "Number of unique values in 'Order ID': 11207\n",
      "Number of unique values in 'Product': 20\n",
      "Number of unique values in 'Quantity Ordered': 6\n",
      "Number of unique values in 'Price Each': 17\n",
      "Number of unique values in 'Order Date': 9494\n",
      "Number of unique values in 'Purchase Address': 11032\n"
     ]
    }
   ],
   "source": [
    "# Iterate over columns and print the number of unique values in each column\n",
    "for column in dap_sept:\n",
    "    unique_values = dap_sept[column].nunique()\n",
    "    print(f\"Number of unique values in '{column}': {unique_values}\")"
   ]
  },
  {
   "cell_type": "code",
   "execution_count": 111,
   "metadata": {},
   "outputs": [
    {
     "name": "stdout",
     "output_type": "stream",
     "text": [
      "Unique values in 'Order ID':\n",
      "[248151. 248152. 248153. ... 259355. 259356. 259357.]\n",
      "Unique values in 'Product':\n",
      "['AA Batteries (4-pack)' 'USB-C Charging Cable' '27in FHD Monitor'\n",
      " '34in Ultrawide Monitor' 'Lightning Charging Cable' 'Vareebadd Phone'\n",
      " 'Wired Headphones' 'AAA Batteries (4-pack)' 'Apple Airpods Headphones'\n",
      " 'Google Phone' '20in Monitor' 'Bose SoundSport Headphones' 'iPhone'\n",
      " 'ThinkPad Laptop' 'Macbook Pro Laptop' 'Flatscreen TV'\n",
      " '27in 4K Gaming Monitor' None 'LG Dryer' 'LG Washing Machine' 'Product']\n",
      "Unique values in 'Quantity Ordered':\n",
      "[ 4.  2.  1.  3. nan  5.  6.]\n",
      "Unique values in 'Price Each':\n",
      "[   3.83999991   11.94999981  149.99000549  379.98999023   14.94999981\n",
      "  400.           11.98999977    2.99000001  150.          600.\n",
      "  109.98999786   99.98999786  700.          999.98999023 1700.\n",
      "  300.          389.98999023           nan]\n",
      "Unique values in 'Order Date':\n",
      "<DatetimeArray>\n",
      "['2017-09-19 14:44:00', '2029-09-19 10:19:00', '2016-09-19 17:48:00',\n",
      " '2027-09-19 07:52:00', '2001-09-19 19:03:00', '2013-09-19 14:59:00',\n",
      " '2007-09-19 09:59:00', '2002-09-19 14:16:00', '2006-09-19 16:45:00',\n",
      " '2001-09-19 22:03:00',\n",
      " ...\n",
      " '2007-09-19 20:09:00', '2014-09-19 19:30:00', '2010-09-19 23:33:00',\n",
      " '2029-09-19 17:24:00', '2030-09-19 21:03:00', '2007-09-19 15:49:00',\n",
      " '2001-09-19 16:00:00', '2023-09-19 07:39:00', '2019-09-19 17:30:00',\n",
      " '2030-09-19 00:18:00']\n",
      "Length: 9495, dtype: datetime64[ns]\n",
      "Unique values in 'Purchase Address':\n",
      "['380 North St, Los Angeles, CA 90001' '511 8th St, Austin, TX 73301'\n",
      " '151 Johnson St, Los Angeles, CA 90001' ...\n",
      " '220 12th St, San Francisco, CA 94016'\n",
      " '511 Forest St, San Francisco, CA 94016'\n",
      " '250 Meadow St, San Francisco, CA 94016']\n"
     ]
    }
   ],
   "source": [
    "# Iterate over columns and view unique values\n",
    "for column in dap_sept.columns:\n",
    "    unique_values = dap_sept[column].unique()\n",
    "    print(f\"Unique values in '{column}':\")\n",
    "    print(unique_values)"
   ]
  },
  {
   "cell_type": "markdown",
   "metadata": {},
   "source": [
    "Observations:\n",
    "\n",
    "1. Order_ID: The 'Order_ID' column contains unique numerical identifiers for each order. There are no apparent issues with this column.\n",
    "2. Product: The 'Product' column contains the names of various products sold. However, there are two unusual entries: 'None' and 'Product', which might indicate missing or placeholder values.\n",
    "3. Quantity_Ordered: The 'Quantity_Ordered' column contains the number of units ordered for each product. Most entries are numerical values representing quantities, but there are some missing values (NaN) present.\n",
    "4. Price_Each: The 'Price_Each' column contains the price of each product. Most entries are numerical values representing prices, but there are some missing values (NaN) present.\n",
    "5. Order_Date: The 'Order_Date' column contains the date and time when each order was placed. Entries seem to be in datetime format.\n",
    "6. Purchase_Address: The 'Purchase_Address' column contains the addresses where the purchases were made. Each entry includes the street address, city, state, and ZIP code.\n",
    "\n",
    "Similar to previous observations, the data requires cleaning and preprocessing to address missing values and inconsistent entries in the 'Product' column. The 'Order_ID', 'Order_Date', and 'Purchase_Address' columns seem to have no missing values. Further data cleaning and preprocessing may be necessary to ensure the integrity of the dataset."
   ]
  },
  {
   "cell_type": "code",
   "execution_count": 112,
   "metadata": {},
   "outputs": [
    {
     "data": {
      "text/plain": [
       "(11686, 6)"
      ]
     },
     "execution_count": 112,
     "metadata": {},
     "output_type": "execute_result"
    }
   ],
   "source": [
    "# View the dimensions of the DataFrame\n",
    "dap_sept.shape"
   ]
  },
  {
   "cell_type": "code",
   "execution_count": 113,
   "metadata": {},
   "outputs": [
    {
     "data": {
      "text/html": [
       "<div>\n",
       "<style scoped>\n",
       "    .dataframe tbody tr th:only-of-type {\n",
       "        vertical-align: middle;\n",
       "    }\n",
       "\n",
       "    .dataframe tbody tr th {\n",
       "        vertical-align: top;\n",
       "    }\n",
       "\n",
       "    .dataframe thead th {\n",
       "        text-align: right;\n",
       "    }\n",
       "</style>\n",
       "<table border=\"1\" class=\"dataframe\">\n",
       "  <thead>\n",
       "    <tr style=\"text-align: right;\">\n",
       "      <th></th>\n",
       "      <th>Order ID</th>\n",
       "      <th>Quantity Ordered</th>\n",
       "      <th>Price Each</th>\n",
       "      <th>Order Date</th>\n",
       "    </tr>\n",
       "  </thead>\n",
       "  <tbody>\n",
       "    <tr>\n",
       "      <th>count</th>\n",
       "      <td>11629.000000</td>\n",
       "      <td>11629.000000</td>\n",
       "      <td>11629.000000</td>\n",
       "      <td>11629</td>\n",
       "    </tr>\n",
       "    <tr>\n",
       "      <th>mean</th>\n",
       "      <td>253751.814429</td>\n",
       "      <td>1.128128</td>\n",
       "      <td>179.400006</td>\n",
       "      <td>2016-03-16 06:13:42.839453184</td>\n",
       "    </tr>\n",
       "    <tr>\n",
       "      <th>min</th>\n",
       "      <td>248151.000000</td>\n",
       "      <td>1.000000</td>\n",
       "      <td>2.990000</td>\n",
       "      <td>2001-09-19 05:10:00</td>\n",
       "    </tr>\n",
       "    <tr>\n",
       "      <th>25%</th>\n",
       "      <td>250947.000000</td>\n",
       "      <td>1.000000</td>\n",
       "      <td>11.950000</td>\n",
       "      <td>2008-09-19 17:16:00</td>\n",
       "    </tr>\n",
       "    <tr>\n",
       "      <th>50%</th>\n",
       "      <td>253751.000000</td>\n",
       "      <td>1.000000</td>\n",
       "      <td>14.950000</td>\n",
       "      <td>2015-09-19 21:53:00</td>\n",
       "    </tr>\n",
       "    <tr>\n",
       "      <th>75%</th>\n",
       "      <td>256552.000000</td>\n",
       "      <td>1.000000</td>\n",
       "      <td>150.000000</td>\n",
       "      <td>2023-09-19 14:42:00</td>\n",
       "    </tr>\n",
       "    <tr>\n",
       "      <th>max</th>\n",
       "      <td>259357.000000</td>\n",
       "      <td>6.000000</td>\n",
       "      <td>1700.000000</td>\n",
       "      <td>2030-09-19 23:59:00</td>\n",
       "    </tr>\n",
       "    <tr>\n",
       "      <th>std</th>\n",
       "      <td>3235.175359</td>\n",
       "      <td>0.435077</td>\n",
       "      <td>328.595041</td>\n",
       "      <td>NaN</td>\n",
       "    </tr>\n",
       "  </tbody>\n",
       "</table>\n",
       "</div>"
      ],
      "text/plain": [
       "            Order ID  Quantity Ordered    Price Each  \\\n",
       "count   11629.000000      11629.000000  11629.000000   \n",
       "mean   253751.814429          1.128128    179.400006   \n",
       "min    248151.000000          1.000000      2.990000   \n",
       "25%    250947.000000          1.000000     11.950000   \n",
       "50%    253751.000000          1.000000     14.950000   \n",
       "75%    256552.000000          1.000000    150.000000   \n",
       "max    259357.000000          6.000000   1700.000000   \n",
       "std      3235.175359          0.435077    328.595041   \n",
       "\n",
       "                          Order Date  \n",
       "count                          11629  \n",
       "mean   2016-03-16 06:13:42.839453184  \n",
       "min              2001-09-19 05:10:00  \n",
       "25%              2008-09-19 17:16:00  \n",
       "50%              2015-09-19 21:53:00  \n",
       "75%              2023-09-19 14:42:00  \n",
       "max              2030-09-19 23:59:00  \n",
       "std                              NaN  "
      ]
     },
     "execution_count": 113,
     "metadata": {},
     "output_type": "execute_result"
    }
   ],
   "source": [
    "# Display descriptive statistics of the DataFrame\n",
    "dap_sept.describe()"
   ]
  },
  {
   "cell_type": "markdown",
   "metadata": {},
   "source": [
    "The dataset consists of 11,629 entries.\n",
    "\n",
    "For the Order_ID column:\n",
    "\n",
    "1. The minimum order ID is 248,151, and the maximum order ID is 259,357.\n",
    "The mean order ID is approximately 253,751.81, with a standard deviation of approximately 3,235.18.\n",
    "The median (50th percentile) order ID is 253,751.\n",
    "For the Quantity_Ordered column:\n",
    "\n",
    "2. The minimum quantity ordered is 1, and the maximum quantity ordered is 6.\n",
    "The mean quantity ordered is approximately 1.13, with a standard deviation of approximately 0.44.\n",
    "The median (50th percentile) quantity ordered is 1.\n",
    "For the Price_Each column:\n",
    "\n",
    "3. The minimum price is $2.99, and the maximum price is $1700.00.\n",
    "The mean price is approximately $179.40, with a standard deviation of approximately $328.60.\n",
    "The median (50th percentile) price is $14.95."
   ]
  },
  {
   "cell_type": "code",
   "execution_count": 114,
   "metadata": {},
   "outputs": [
    {
     "data": {
      "text/plain": [
       "Order ID            57\n",
       "Product             40\n",
       "Quantity Ordered    57\n",
       "Price Each          57\n",
       "Order Date          57\n",
       "Purchase Address    40\n",
       "dtype: int64"
      ]
     },
     "execution_count": 114,
     "metadata": {},
     "output_type": "execute_result"
    }
   ],
   "source": [
    "# Count the number of missing values in each column\n",
    "dap_sept.isnull().sum()"
   ]
  },
  {
   "cell_type": "markdown",
   "metadata": {},
   "source": [
    "The dataset for September contains missing values in multiple columns:\n",
    "\n",
    "1. Order_ID: There are 57 missing values.\n",
    "2. Product: There are 40 missing values.\n",
    "3. Quantity_Ordered: There are 57 missing values.\n",
    "4. Price_Each: There are 57 missing values.\n",
    "5. Order_Date: There are 57 missing values.\n",
    "6. Purchase_Address: There are 40 missing values."
   ]
  },
  {
   "cell_type": "code",
   "execution_count": 115,
   "metadata": {},
   "outputs": [
    {
     "data": {
      "text/plain": [
       "73"
      ]
     },
     "execution_count": 115,
     "metadata": {},
     "output_type": "execute_result"
    }
   ],
   "source": [
    "# Count the number of duplicate rows in the DataFrame\n",
    "dap_sept.duplicated().sum()"
   ]
  },
  {
   "cell_type": "code",
   "execution_count": 116,
   "metadata": {},
   "outputs": [],
   "source": [
    "# Drop duplicate rows and reset index inplace\n",
    "dap_sept.drop_duplicates(inplace=True)\n",
    "dap_sept.reset_index(drop=True, inplace=True)"
   ]
  },
  {
   "cell_type": "code",
   "execution_count": 117,
   "metadata": {},
   "outputs": [
    {
     "data": {
      "text/plain": [
       "0"
      ]
     },
     "execution_count": 117,
     "metadata": {},
     "output_type": "execute_result"
    }
   ],
   "source": [
    "# Count the number of duplicate rows in the DataFrame\n",
    "dap_sept.duplicated().sum()"
   ]
  },
  {
   "cell_type": "markdown",
   "metadata": {},
   "source": [
    "There are 73 duplicate rows in the September dataset."
   ]
  },
  {
   "cell_type": "markdown",
   "metadata": {},
   "source": [
    "## Dataset of dbo.Sales_October_2019 on server"
   ]
  },
  {
   "cell_type": "code",
   "execution_count": 118,
   "metadata": {},
   "outputs": [
    {
     "name": "stderr",
     "output_type": "stream",
     "text": [
      "C:\\Users\\Sami\\AppData\\Local\\Temp\\ipykernel_20812\\2242588360.py:3: UserWarning: pandas only supports SQLAlchemy connectable (engine/connection) or database string URI or sqlite3 DBAPI2 connection. Other DBAPI2 objects are not tested. Please consider using SQLAlchemy.\n",
      "  dap_oct = pd.read_sql(query, connection)\n"
     ]
    },
    {
     "data": {
      "text/html": [
       "<div>\n",
       "<style scoped>\n",
       "    .dataframe tbody tr th:only-of-type {\n",
       "        vertical-align: middle;\n",
       "    }\n",
       "\n",
       "    .dataframe tbody tr th {\n",
       "        vertical-align: top;\n",
       "    }\n",
       "\n",
       "    .dataframe thead th {\n",
       "        text-align: right;\n",
       "    }\n",
       "</style>\n",
       "<table border=\"1\" class=\"dataframe\">\n",
       "  <thead>\n",
       "    <tr style=\"text-align: right;\">\n",
       "      <th></th>\n",
       "      <th>Order_ID</th>\n",
       "      <th>Product</th>\n",
       "      <th>Quantity_Ordered</th>\n",
       "      <th>Price_Each</th>\n",
       "      <th>Order_Date</th>\n",
       "      <th>Purchase_Address</th>\n",
       "    </tr>\n",
       "  </thead>\n",
       "  <tbody>\n",
       "    <tr>\n",
       "      <th>0</th>\n",
       "      <td>259358.0</td>\n",
       "      <td>34in Ultrawide Monitor</td>\n",
       "      <td>1.0</td>\n",
       "      <td>379.989990</td>\n",
       "      <td>2028-10-19 10:56:00</td>\n",
       "      <td>609 Cherry St, Dallas, TX 75001</td>\n",
       "    </tr>\n",
       "    <tr>\n",
       "      <th>1</th>\n",
       "      <td>259359.0</td>\n",
       "      <td>27in 4K Gaming Monitor</td>\n",
       "      <td>1.0</td>\n",
       "      <td>389.989990</td>\n",
       "      <td>2028-10-19 17:26:00</td>\n",
       "      <td>225 5th St, Los Angeles, CA 90001</td>\n",
       "    </tr>\n",
       "    <tr>\n",
       "      <th>2</th>\n",
       "      <td>259360.0</td>\n",
       "      <td>AAA Batteries (4-pack)</td>\n",
       "      <td>2.0</td>\n",
       "      <td>2.990000</td>\n",
       "      <td>2024-10-19 17:20:00</td>\n",
       "      <td>967 12th St, New York City, NY 10001</td>\n",
       "    </tr>\n",
       "    <tr>\n",
       "      <th>3</th>\n",
       "      <td>259361.0</td>\n",
       "      <td>27in FHD Monitor</td>\n",
       "      <td>1.0</td>\n",
       "      <td>149.990005</td>\n",
       "      <td>2014-10-19 22:26:00</td>\n",
       "      <td>628 Jefferson St, New York City, NY 10001</td>\n",
       "    </tr>\n",
       "    <tr>\n",
       "      <th>4</th>\n",
       "      <td>259362.0</td>\n",
       "      <td>Wired Headphones</td>\n",
       "      <td>1.0</td>\n",
       "      <td>11.990000</td>\n",
       "      <td>2007-10-19 16:10:00</td>\n",
       "      <td>534 14th St, Los Angeles, CA 90001</td>\n",
       "    </tr>\n",
       "  </tbody>\n",
       "</table>\n",
       "</div>"
      ],
      "text/plain": [
       "   Order_ID                 Product  Quantity_Ordered  Price_Each  \\\n",
       "0  259358.0  34in Ultrawide Monitor               1.0  379.989990   \n",
       "1  259359.0  27in 4K Gaming Monitor               1.0  389.989990   \n",
       "2  259360.0  AAA Batteries (4-pack)               2.0    2.990000   \n",
       "3  259361.0        27in FHD Monitor               1.0  149.990005   \n",
       "4  259362.0        Wired Headphones               1.0   11.990000   \n",
       "\n",
       "           Order_Date                           Purchase_Address  \n",
       "0 2028-10-19 10:56:00            609 Cherry St, Dallas, TX 75001  \n",
       "1 2028-10-19 17:26:00          225 5th St, Los Angeles, CA 90001  \n",
       "2 2024-10-19 17:20:00       967 12th St, New York City, NY 10001  \n",
       "3 2014-10-19 22:26:00  628 Jefferson St, New York City, NY 10001  \n",
       "4 2007-10-19 16:10:00         534 14th St, Los Angeles, CA 90001  "
      ]
     },
     "execution_count": 118,
     "metadata": {},
     "output_type": "execute_result"
    }
   ],
   "source": [
    "query= \"Select * from dbo.Sales_October_2019\"\n",
    "\n",
    "dap_oct = pd.read_sql(query, connection)\n",
    "\n",
    "dap_oct.head()\n",
    "\n"
   ]
  },
  {
   "cell_type": "code",
   "execution_count": 119,
   "metadata": {},
   "outputs": [
    {
     "name": "stdout",
     "output_type": "stream",
     "text": [
      "<class 'pandas.core.frame.DataFrame'>\n",
      "RangeIndex: 20379 entries, 0 to 20378\n",
      "Data columns (total 6 columns):\n",
      " #   Column            Non-Null Count  Dtype         \n",
      "---  ------            --------------  -----         \n",
      " 0   Order_ID          20284 non-null  float64       \n",
      " 1   Product           20317 non-null  object        \n",
      " 2   Quantity_Ordered  20284 non-null  float64       \n",
      " 3   Price_Each        20284 non-null  float64       \n",
      " 4   Order_Date        20284 non-null  datetime64[ns]\n",
      " 5   Purchase_Address  20317 non-null  object        \n",
      "dtypes: datetime64[ns](1), float64(3), object(2)\n",
      "memory usage: 955.4+ KB\n"
     ]
    }
   ],
   "source": [
    "# View information about the DataFrame\n",
    "# This line displays information about the DataFrame, including the data types of columns and memory usage\n",
    "dap_oct.info()"
   ]
  },
  {
   "cell_type": "code",
   "execution_count": 120,
   "metadata": {},
   "outputs": [],
   "source": [
    "# Define the new column names\n",
    "new_column_names = {\n",
    "    'Order_ID': 'Order ID',\n",
    "    'Quantity_Ordered': 'Quantity Ordered',\n",
    "    'Price_Each': 'Price Each',\n",
    "    'Order_Date': 'Order Date',\n",
    "    'Purchase_Address': 'Purchase Address'\n",
    "}\n",
    "\n",
    "# Rename the columns\n",
    "dap_oct.rename(columns=new_column_names, inplace=True)\n"
   ]
  },
  {
   "cell_type": "code",
   "execution_count": 121,
   "metadata": {},
   "outputs": [
    {
     "name": "stdout",
     "output_type": "stream",
     "text": [
      "Order ID                   float64\n",
      "Product                     object\n",
      "Quantity Ordered           float64\n",
      "Price Each                 float64\n",
      "Order Date          datetime64[ns]\n",
      "Purchase Address            object\n",
      "dtype: object\n"
     ]
    }
   ],
   "source": [
    "# Convert 'Order Date' column to datetime\n",
    "dap_oct['Order Date'] = pd.to_datetime(dap_oct['Order Date'], format='%m/%d/%y %H:%M', errors='coerce')\n",
    "\n",
    "\n",
    "# Now, check the data types after conversion\n",
    "print(dap_oct.dtypes)"
   ]
  },
  {
   "cell_type": "code",
   "execution_count": 122,
   "metadata": {},
   "outputs": [
    {
     "data": {
      "text/plain": [
       "Index(['Order ID', 'Product', 'Quantity Ordered', 'Price Each', 'Order Date',\n",
       "       'Purchase Address'],\n",
       "      dtype='object')"
      ]
     },
     "execution_count": 122,
     "metadata": {},
     "output_type": "execute_result"
    }
   ],
   "source": [
    "# View the column names\n",
    "dap_oct.columns"
   ]
  },
  {
   "cell_type": "code",
   "execution_count": 123,
   "metadata": {},
   "outputs": [
    {
     "name": "stdout",
     "output_type": "stream",
     "text": [
      "Number of unique values in 'Order ID': 19439\n",
      "Number of unique values in 'Product': 20\n",
      "Number of unique values in 'Quantity Ordered': 8\n",
      "Number of unique values in 'Price Each': 17\n",
      "Number of unique values in 'Order Date': 14847\n",
      "Number of unique values in 'Purchase Address': 18918\n"
     ]
    }
   ],
   "source": [
    "# Iterate over columns and print the number of unique values in each column\n",
    "for column in dap_oct.columns:\n",
    "    unique_values = dap_oct[column].nunique()\n",
    "    print(f\"Number of unique values in '{column}': {unique_values}\")"
   ]
  },
  {
   "cell_type": "code",
   "execution_count": 124,
   "metadata": {},
   "outputs": [
    {
     "name": "stdout",
     "output_type": "stream",
     "text": [
      "Unique values in 'Order ID':\n",
      "[259358. 259359. 259360. ... 278794. 278795. 278796.]\n",
      "Unique values in 'Product':\n",
      "['34in Ultrawide Monitor' '27in 4K Gaming Monitor'\n",
      " 'AAA Batteries (4-pack)' '27in FHD Monitor' 'Wired Headphones'\n",
      " 'Lightning Charging Cable' 'Apple Airpods Headphones'\n",
      " 'USB-C Charging Cable' '20in Monitor' 'iPhone'\n",
      " 'Bose SoundSport Headphones' 'ThinkPad Laptop' 'AA Batteries (4-pack)'\n",
      " 'Google Phone' 'Vareebadd Phone' 'Flatscreen TV' 'Macbook Pro Laptop'\n",
      " 'LG Dryer' None 'LG Washing Machine' 'Product']\n",
      "Unique values in 'Quantity Ordered':\n",
      "[ 1.  2.  3.  4.  5. nan  8.  6.  7.]\n",
      "Unique values in 'Price Each':\n",
      "[ 379.98999023  389.98999023    2.99000001  149.99000549   11.98999977\n",
      "   14.94999981  150.           11.94999981  109.98999786  700.\n",
      "   99.98999786  999.98999023    3.83999991  600.          400.\n",
      "  300.         1700.                   nan]\n",
      "Unique values in 'Order Date':\n",
      "<DatetimeArray>\n",
      "['2028-10-19 10:56:00', '2028-10-19 17:26:00', '2024-10-19 17:20:00',\n",
      " '2014-10-19 22:26:00', '2007-10-19 16:10:00', '2001-10-19 18:55:00',\n",
      " '2029-10-19 11:02:00', '2029-10-19 11:19:00', '2020-10-19 11:52:00',\n",
      " '2016-10-19 16:19:00',\n",
      " ...\n",
      " '2009-10-19 11:49:00', '2006-10-19 21:05:00', '2021-10-19 11:53:00',\n",
      " '2011-10-19 16:57:00', '2023-10-19 17:06:00', '2026-10-19 10:58:00',\n",
      " '2012-10-19 04:32:00', '2009-10-19 20:58:00', '2031-10-19 17:21:00',\n",
      " '2013-10-19 11:20:00']\n",
      "Length: 14848, dtype: datetime64[ns]\n",
      "Unique values in 'Purchase Address':\n",
      "['609 Cherry St, Dallas, TX 75001' '225 5th St, Los Angeles, CA 90001'\n",
      " '967 12th St, New York City, NY 10001' ...\n",
      " '346 Spruce St, San Francisco, CA 94016' '291 Hill St, Seattle, WA 98101'\n",
      " '547 Jefferson St, Los Angeles, CA 90001']\n"
     ]
    }
   ],
   "source": [
    "# Iterate over columns and view unique values\n",
    "for column in dap_oct.columns:\n",
    "    unique_values = dap_oct[column].unique()\n",
    "    print(f\"Unique values in '{column}':\")\n",
    "    print(unique_values)"
   ]
  },
  {
   "cell_type": "markdown",
   "metadata": {},
   "source": [
    "Observations:\n",
    "\n",
    "1. Order_ID: The 'Order_ID' column contains unique numerical identifiers for each order. There are no apparent issues with this column.\n",
    "2. Product: The 'Product' column contains the names of various products sold. However, there are two unusual entries: 'None' and 'Product', which might indicate missing or placeholder values.\n",
    "3. Quantity_Ordered: The 'Quantity_Ordered' column contains the number of units ordered for each product. Most entries are numerical values representing quantities, but there are some missing values (NaN) present.\n",
    "4. Price_Each: The 'Price_Each' column contains the price of each product. Most entries are numerical values representing prices, but there are some missing values (NaN) present.\n",
    "5. Order_Date: The 'Order_Date' column contains the date and time when each order was placed. Entries seem to be in datetime format.\n",
    "6. Purchase_Address: The 'Purchase_Address' column contains the addresses where the purchases were made. Each entry includes the street address, city, state, and ZIP code.\n",
    "\n",
    "Similar to previous observations, the data requires cleaning and preprocessing to address missing values and inconsistent entries in the 'Product' column. The 'Order_ID', 'Order_Date', and 'Purchase_Address' columns seem to have no missing values. Further data cleaning and preprocessing may be necessary to ensure the integrity of the dataset."
   ]
  },
  {
   "cell_type": "code",
   "execution_count": 125,
   "metadata": {},
   "outputs": [
    {
     "data": {
      "text/plain": [
       "(20379, 6)"
      ]
     },
     "execution_count": 125,
     "metadata": {},
     "output_type": "execute_result"
    }
   ],
   "source": [
    "# View the dimensions of the DataFrame\n",
    "dap_oct.shape"
   ]
  },
  {
   "cell_type": "code",
   "execution_count": 126,
   "metadata": {},
   "outputs": [
    {
     "data": {
      "text/html": [
       "<div>\n",
       "<style scoped>\n",
       "    .dataframe tbody tr th:only-of-type {\n",
       "        vertical-align: middle;\n",
       "    }\n",
       "\n",
       "    .dataframe tbody tr th {\n",
       "        vertical-align: top;\n",
       "    }\n",
       "\n",
       "    .dataframe thead th {\n",
       "        text-align: right;\n",
       "    }\n",
       "</style>\n",
       "<table border=\"1\" class=\"dataframe\">\n",
       "  <thead>\n",
       "    <tr style=\"text-align: right;\">\n",
       "      <th></th>\n",
       "      <th>Order ID</th>\n",
       "      <th>Quantity Ordered</th>\n",
       "      <th>Price Each</th>\n",
       "      <th>Order Date</th>\n",
       "    </tr>\n",
       "  </thead>\n",
       "  <tbody>\n",
       "    <tr>\n",
       "      <th>count</th>\n",
       "      <td>20284.000000</td>\n",
       "      <td>20284.000000</td>\n",
       "      <td>20284.000000</td>\n",
       "      <td>20284</td>\n",
       "    </tr>\n",
       "    <tr>\n",
       "      <th>mean</th>\n",
       "      <td>269078.523122</td>\n",
       "      <td>1.119355</td>\n",
       "      <td>183.183939</td>\n",
       "      <td>2016-11-17 01:17:43.269572096</td>\n",
       "    </tr>\n",
       "    <tr>\n",
       "      <th>min</th>\n",
       "      <td>259358.000000</td>\n",
       "      <td>1.000000</td>\n",
       "      <td>2.990000</td>\n",
       "      <td>2001-10-19 03:12:00</td>\n",
       "    </tr>\n",
       "    <tr>\n",
       "      <th>25%</th>\n",
       "      <td>264210.750000</td>\n",
       "      <td>1.000000</td>\n",
       "      <td>11.950000</td>\n",
       "      <td>2008-10-19 19:46:15</td>\n",
       "    </tr>\n",
       "    <tr>\n",
       "      <th>50%</th>\n",
       "      <td>269081.500000</td>\n",
       "      <td>1.000000</td>\n",
       "      <td>14.950000</td>\n",
       "      <td>2016-10-19 18:43:30</td>\n",
       "    </tr>\n",
       "    <tr>\n",
       "      <th>75%</th>\n",
       "      <td>273942.250000</td>\n",
       "      <td>1.000000</td>\n",
       "      <td>150.000000</td>\n",
       "      <td>2024-10-19 12:35:00</td>\n",
       "    </tr>\n",
       "    <tr>\n",
       "      <th>max</th>\n",
       "      <td>278796.000000</td>\n",
       "      <td>8.000000</td>\n",
       "      <td>1700.000000</td>\n",
       "      <td>2031-10-19 23:51:00</td>\n",
       "    </tr>\n",
       "    <tr>\n",
       "      <th>std</th>\n",
       "      <td>5612.651509</td>\n",
       "      <td>0.436922</td>\n",
       "      <td>334.005122</td>\n",
       "      <td>NaN</td>\n",
       "    </tr>\n",
       "  </tbody>\n",
       "</table>\n",
       "</div>"
      ],
      "text/plain": [
       "            Order ID  Quantity Ordered    Price Each  \\\n",
       "count   20284.000000      20284.000000  20284.000000   \n",
       "mean   269078.523122          1.119355    183.183939   \n",
       "min    259358.000000          1.000000      2.990000   \n",
       "25%    264210.750000          1.000000     11.950000   \n",
       "50%    269081.500000          1.000000     14.950000   \n",
       "75%    273942.250000          1.000000    150.000000   \n",
       "max    278796.000000          8.000000   1700.000000   \n",
       "std      5612.651509          0.436922    334.005122   \n",
       "\n",
       "                          Order Date  \n",
       "count                          20284  \n",
       "mean   2016-11-17 01:17:43.269572096  \n",
       "min              2001-10-19 03:12:00  \n",
       "25%              2008-10-19 19:46:15  \n",
       "50%              2016-10-19 18:43:30  \n",
       "75%              2024-10-19 12:35:00  \n",
       "max              2031-10-19 23:51:00  \n",
       "std                              NaN  "
      ]
     },
     "execution_count": 126,
     "metadata": {},
     "output_type": "execute_result"
    }
   ],
   "source": [
    "# Display descriptive statistics of the DataFrame\n",
    "dap_oct.describe()"
   ]
  },
  {
   "cell_type": "markdown",
   "metadata": {},
   "source": [
    "The October dataset has 20,284 entries. For the 'Order_ID' column, the minimum value is 259,358, and the maximum value is 278,796. The 'Quantity_Ordered' column has a mean of approximately 1.12, with a standard deviation of around 0.44. In the 'Price_Each' column, the mean price is approximately $183.18, with a standard deviation of approximately $334.00."
   ]
  },
  {
   "cell_type": "code",
   "execution_count": 127,
   "metadata": {},
   "outputs": [
    {
     "data": {
      "text/plain": [
       "Order ID            95\n",
       "Product             62\n",
       "Quantity Ordered    95\n",
       "Price Each          95\n",
       "Order Date          95\n",
       "Purchase Address    62\n",
       "dtype: int64"
      ]
     },
     "execution_count": 127,
     "metadata": {},
     "output_type": "execute_result"
    }
   ],
   "source": [
    "# Count the number of missing values in each column\n",
    "dap_oct.isnull().sum()"
   ]
  },
  {
   "cell_type": "markdown",
   "metadata": {},
   "source": [
    "in the October dataset, there are missing values in several columns:\n",
    "\n",
    "95 missing values in the 'Order_ID', 'Quantity_Ordered', 'Price_Each', and 'Order_Date' columns.\n",
    "62 missing values in the 'Product' and 'Purchase_Address' columns."
   ]
  },
  {
   "cell_type": "code",
   "execution_count": 128,
   "metadata": {},
   "outputs": [
    {
     "data": {
      "text/plain": [
       "126"
      ]
     },
     "execution_count": 128,
     "metadata": {},
     "output_type": "execute_result"
    }
   ],
   "source": [
    "# Count the number of duplicate rows in the DataFrame\n",
    "dap_oct.duplicated().sum()"
   ]
  },
  {
   "cell_type": "code",
   "execution_count": 129,
   "metadata": {},
   "outputs": [],
   "source": [
    "# Drop duplicate rows and reset index inplace\n",
    "dap_oct.drop_duplicates(inplace=True)\n",
    "dap_oct.reset_index(drop=True, inplace=True)"
   ]
  },
  {
   "cell_type": "code",
   "execution_count": 130,
   "metadata": {},
   "outputs": [
    {
     "data": {
      "text/plain": [
       "0"
      ]
     },
     "execution_count": 130,
     "metadata": {},
     "output_type": "execute_result"
    }
   ],
   "source": [
    "# Count the number of duplicate rows in the DataFrame\n",
    "dap_oct.duplicated().sum()"
   ]
  },
  {
   "cell_type": "markdown",
   "metadata": {},
   "source": [
    "There are 126 duplicate rows in the October DataFrame."
   ]
  },
  {
   "cell_type": "markdown",
   "metadata": {},
   "source": [
    "## Dataset of dbo.Sales_November_2019 on server"
   ]
  },
  {
   "cell_type": "code",
   "execution_count": 131,
   "metadata": {},
   "outputs": [
    {
     "name": "stderr",
     "output_type": "stream",
     "text": [
      "C:\\Users\\Sami\\AppData\\Local\\Temp\\ipykernel_20812\\126429497.py:3: UserWarning: pandas only supports SQLAlchemy connectable (engine/connection) or database string URI or sqlite3 DBAPI2 connection. Other DBAPI2 objects are not tested. Please consider using SQLAlchemy.\n",
      "  dap_nov = pd.read_sql(query, connection)\n"
     ]
    },
    {
     "data": {
      "text/html": [
       "<div>\n",
       "<style scoped>\n",
       "    .dataframe tbody tr th:only-of-type {\n",
       "        vertical-align: middle;\n",
       "    }\n",
       "\n",
       "    .dataframe tbody tr th {\n",
       "        vertical-align: top;\n",
       "    }\n",
       "\n",
       "    .dataframe thead th {\n",
       "        text-align: right;\n",
       "    }\n",
       "</style>\n",
       "<table border=\"1\" class=\"dataframe\">\n",
       "  <thead>\n",
       "    <tr style=\"text-align: right;\">\n",
       "      <th></th>\n",
       "      <th>Order_ID</th>\n",
       "      <th>Product</th>\n",
       "      <th>Quantity_Ordered</th>\n",
       "      <th>Price_Each</th>\n",
       "      <th>Order_Date</th>\n",
       "      <th>Purchase_Address</th>\n",
       "    </tr>\n",
       "  </thead>\n",
       "  <tbody>\n",
       "    <tr>\n",
       "      <th>0</th>\n",
       "      <td>278797.0</td>\n",
       "      <td>Wired Headphones</td>\n",
       "      <td>1.0</td>\n",
       "      <td>11.990000</td>\n",
       "      <td>2021-11-19 09:54:00</td>\n",
       "      <td>46 Park St, New York City, NY 10001</td>\n",
       "    </tr>\n",
       "    <tr>\n",
       "      <th>1</th>\n",
       "      <td>278798.0</td>\n",
       "      <td>USB-C Charging Cable</td>\n",
       "      <td>2.0</td>\n",
       "      <td>11.950000</td>\n",
       "      <td>2017-11-19 10:03:00</td>\n",
       "      <td>962 Hickory St, Austin, TX 73301</td>\n",
       "    </tr>\n",
       "    <tr>\n",
       "      <th>2</th>\n",
       "      <td>278799.0</td>\n",
       "      <td>Apple Airpods Headphones</td>\n",
       "      <td>1.0</td>\n",
       "      <td>150.000000</td>\n",
       "      <td>2019-11-19 14:56:00</td>\n",
       "      <td>464 Cherry St, Los Angeles, CA 90001</td>\n",
       "    </tr>\n",
       "    <tr>\n",
       "      <th>3</th>\n",
       "      <td>278800.0</td>\n",
       "      <td>27in FHD Monitor</td>\n",
       "      <td>1.0</td>\n",
       "      <td>149.990005</td>\n",
       "      <td>2025-11-19 22:24:00</td>\n",
       "      <td>649 10th St, Seattle, WA 98101</td>\n",
       "    </tr>\n",
       "    <tr>\n",
       "      <th>4</th>\n",
       "      <td>278801.0</td>\n",
       "      <td>Bose SoundSport Headphones</td>\n",
       "      <td>1.0</td>\n",
       "      <td>99.989998</td>\n",
       "      <td>2009-11-19 13:56:00</td>\n",
       "      <td>522 Hill St, Boston, MA 02215</td>\n",
       "    </tr>\n",
       "  </tbody>\n",
       "</table>\n",
       "</div>"
      ],
      "text/plain": [
       "   Order_ID                     Product  Quantity_Ordered  Price_Each  \\\n",
       "0  278797.0            Wired Headphones               1.0   11.990000   \n",
       "1  278798.0        USB-C Charging Cable               2.0   11.950000   \n",
       "2  278799.0    Apple Airpods Headphones               1.0  150.000000   \n",
       "3  278800.0            27in FHD Monitor               1.0  149.990005   \n",
       "4  278801.0  Bose SoundSport Headphones               1.0   99.989998   \n",
       "\n",
       "           Order_Date                      Purchase_Address  \n",
       "0 2021-11-19 09:54:00   46 Park St, New York City, NY 10001  \n",
       "1 2017-11-19 10:03:00      962 Hickory St, Austin, TX 73301  \n",
       "2 2019-11-19 14:56:00  464 Cherry St, Los Angeles, CA 90001  \n",
       "3 2025-11-19 22:24:00        649 10th St, Seattle, WA 98101  \n",
       "4 2009-11-19 13:56:00         522 Hill St, Boston, MA 02215  "
      ]
     },
     "execution_count": 131,
     "metadata": {},
     "output_type": "execute_result"
    }
   ],
   "source": [
    "\n",
    "query = \"Select * from dbo.Sales_November_2019\"\n",
    "\n",
    "dap_nov = pd.read_sql(query, connection)\n",
    "\n",
    "dap_nov.head()\n",
    "\n"
   ]
  },
  {
   "cell_type": "code",
   "execution_count": 132,
   "metadata": {},
   "outputs": [
    {
     "name": "stdout",
     "output_type": "stream",
     "text": [
      "<class 'pandas.core.frame.DataFrame'>\n",
      "RangeIndex: 17661 entries, 0 to 17660\n",
      "Data columns (total 6 columns):\n",
      " #   Column            Non-Null Count  Dtype         \n",
      "---  ------            --------------  -----         \n",
      " 0   Order_ID          17580 non-null  float64       \n",
      " 1   Product           17616 non-null  object        \n",
      " 2   Quantity_Ordered  17580 non-null  float64       \n",
      " 3   Price_Each        17580 non-null  float64       \n",
      " 4   Order_Date        17580 non-null  datetime64[ns]\n",
      " 5   Purchase_Address  17616 non-null  object        \n",
      "dtypes: datetime64[ns](1), float64(3), object(2)\n",
      "memory usage: 828.0+ KB\n"
     ]
    }
   ],
   "source": [
    "# View information about the DataFrame\n",
    "# This line displays information about the DataFrame, including the data types of columns and memory usage\n",
    "dap_nov.info()"
   ]
  },
  {
   "cell_type": "code",
   "execution_count": 133,
   "metadata": {},
   "outputs": [],
   "source": [
    "# Define the new column names\n",
    "new_column_names = {\n",
    "   'Order_ID': 'Order ID',\n",
    "    'Quantity_Ordered': 'Quantity Ordered',\n",
    "    'Price_Each': 'Price Each',\n",
    "    'Order_Date': 'Order Date',\n",
    "    'Purchase_Address': 'Purchase Address'\n",
    "}\n",
    "\n",
    "# Rename the columns\n",
    "dap_nov.rename(columns=new_column_names, inplace=True)\n"
   ]
  },
  {
   "cell_type": "code",
   "execution_count": 134,
   "metadata": {},
   "outputs": [
    {
     "name": "stdout",
     "output_type": "stream",
     "text": [
      "Order ID                   float64\n",
      "Product                     object\n",
      "Quantity Ordered           float64\n",
      "Price Each                 float64\n",
      "Order Date          datetime64[ns]\n",
      "Purchase Address            object\n",
      "dtype: object\n"
     ]
    }
   ],
   "source": [
    "# Convert 'Order Date' column to datetime\n",
    "dap_nov['Order Date'] = pd.to_datetime(dap_nov['Order Date'], format='%m/%d/%y %H:%M', errors='coerce')\n",
    "\n",
    "\n",
    "# Now, check the data types after conversion\n",
    "print(dap_nov.dtypes)"
   ]
  },
  {
   "cell_type": "code",
   "execution_count": 135,
   "metadata": {},
   "outputs": [
    {
     "data": {
      "text/plain": [
       "Index(['Order ID', 'Product', 'Quantity Ordered', 'Price Each', 'Order Date',\n",
       "       'Purchase Address'],\n",
       "      dtype='object')"
      ]
     },
     "execution_count": 135,
     "metadata": {},
     "output_type": "execute_result"
    }
   ],
   "source": [
    "# View the column names\n",
    "dap_nov.columns"
   ]
  },
  {
   "cell_type": "code",
   "execution_count": 136,
   "metadata": {},
   "outputs": [
    {
     "name": "stdout",
     "output_type": "stream",
     "text": [
      "Number of unique values in 'Order ID': 16868\n",
      "Number of unique values in 'Product': 20\n",
      "Number of unique values in 'Quantity Ordered': 8\n",
      "Number of unique values in 'Price Each': 17\n",
      "Number of unique values in 'Order Date': 13196\n",
      "Number of unique values in 'Purchase Address': 16492\n"
     ]
    }
   ],
   "source": [
    "# Iterate over columns and print the number of unique values in each column\n",
    "for column in dap_nov.columns:\n",
    "    unique_values = dap_nov[column].nunique()\n",
    "    print(f\"Number of unique values in '{column}': {unique_values}\")"
   ]
  },
  {
   "cell_type": "code",
   "execution_count": 137,
   "metadata": {},
   "outputs": [
    {
     "name": "stdout",
     "output_type": "stream",
     "text": [
      "Unique values in 'Order ID':\n",
      "[278797. 278798. 278799. ... 295662. 295663. 295664.]\n",
      "Unique values in 'Product':\n",
      "['Wired Headphones' 'USB-C Charging Cable' 'Apple Airpods Headphones'\n",
      " '27in FHD Monitor' 'Bose SoundSport Headphones'\n",
      " 'Lightning Charging Cable' 'ThinkPad Laptop' 'AAA Batteries (4-pack)'\n",
      " 'AA Batteries (4-pack)' 'Macbook Pro Laptop' 'iPhone' '20in Monitor'\n",
      " '34in Ultrawide Monitor' 'Vareebadd Phone' 'Flatscreen TV'\n",
      " '27in 4K Gaming Monitor' None 'Google Phone' 'LG Washing Machine'\n",
      " 'LG Dryer' 'Product']\n",
      "Unique values in 'Quantity Ordered':\n",
      "[ 1.  2.  3. nan  4.  5.  6.  7.  8.]\n",
      "Unique values in 'Price Each':\n",
      "[  11.98999977   11.94999981  150.          149.99000549   99.98999786\n",
      "   14.94999981  999.98999023    2.99000001    3.83999991 1700.\n",
      "  700.          109.98999786  379.98999023  400.          300.\n",
      "  389.98999023           nan  600.        ]\n",
      "Unique values in 'Order Date':\n",
      "<DatetimeArray>\n",
      "['2021-11-19 09:54:00', '2017-11-19 10:03:00', '2019-11-19 14:56:00',\n",
      " '2025-11-19 22:24:00', '2009-11-19 13:56:00', '2014-11-19 20:34:00',\n",
      " '2011-11-19 08:05:00', '2015-11-19 11:48:00', '2027-11-19 11:50:00',\n",
      " '2019-11-19 19:12:00',\n",
      " ...\n",
      " '2017-11-19 10:08:00', '2027-11-19 14:41:00', '2024-11-19 16:06:00',\n",
      " '2002-11-19 18:29:00', '2017-11-19 13:37:00', '2022-11-19 20:07:00',\n",
      " '2004-11-19 14:17:00', '2023-11-19 07:22:00', '2013-11-19 16:12:00',\n",
      " '2017-11-19 16:13:00']\n",
      "Length: 13197, dtype: datetime64[ns]\n",
      "Unique values in 'Purchase Address':\n",
      "['46 Park St, New York City, NY 10001' '962 Hickory St, Austin, TX 73301'\n",
      " '464 Cherry St, Los Angeles, CA 90001' ...\n",
      " '900 10th St, Boston, MA 02215' '592 Sunset St, Boston, MA 02215'\n",
      " '428 Jackson St, Boston, MA 02215']\n"
     ]
    }
   ],
   "source": [
    "# Iterate over columns and view unique values\n",
    "for column in dap_nov.columns:\n",
    "    unique_values = dap_nov[column].unique()\n",
    "    print(f\"Unique values in '{column}':\")\n",
    "    print(unique_values)"
   ]
  },
  {
   "cell_type": "markdown",
   "metadata": {},
   "source": [
    "Observations:\n",
    "\n",
    "1. Order_ID: The 'Order_ID' column contains unique numerical identifiers for each order, and there are no apparent issues with this column.\n",
    "2. Product: The 'Product' column contains the names of various products sold. There is an entry 'None', which might indicate missing or placeholder values. Additionally, there is an entry 'Product', which seems like a placeholder or a mistake.\n",
    "3. Quantity_Ordered: The 'Quantity_Ordered' column contains the number of units ordered for each product. Most entries are numerical values representing quantities, but there are some missing values (NaN) present.\n",
    "4. Price_Each: The 'Price_Each' column contains the price of each product. Most entries are numerical values representing prices, but there are some missing values (NaN) present.\n",
    "5. Order_Date: The 'Order_Date' column contains the date and time when each order was placed. Entries seem to be in datetime format.\n",
    "6. Purchase_Address: The 'Purchase_Address' column contains the addresses where the purchases were made. Each entry includes the street address, city, state, and ZIP code.\n",
    "\n",
    "Similar to previous observations, the data requires cleaning and preprocessing to address missing values and inconsistent entries in the 'Product' column. The 'Order_ID', 'Order_Date', and 'Purchase_Address' columns seem to have no missing values. Further data cleaning and preprocessing may be necessary to ensure the integrity of the dataset."
   ]
  },
  {
   "cell_type": "code",
   "execution_count": 138,
   "metadata": {},
   "outputs": [
    {
     "data": {
      "text/plain": [
       "(17661, 6)"
      ]
     },
     "execution_count": 138,
     "metadata": {},
     "output_type": "execute_result"
    }
   ],
   "source": [
    "# View the dimensions of the DataFrame\n",
    "dap_nov.shape"
   ]
  },
  {
   "cell_type": "code",
   "execution_count": 139,
   "metadata": {},
   "outputs": [
    {
     "data": {
      "text/html": [
       "<div>\n",
       "<style scoped>\n",
       "    .dataframe tbody tr th:only-of-type {\n",
       "        vertical-align: middle;\n",
       "    }\n",
       "\n",
       "    .dataframe tbody tr th {\n",
       "        vertical-align: top;\n",
       "    }\n",
       "\n",
       "    .dataframe thead th {\n",
       "        text-align: right;\n",
       "    }\n",
       "</style>\n",
       "<table border=\"1\" class=\"dataframe\">\n",
       "  <thead>\n",
       "    <tr style=\"text-align: right;\">\n",
       "      <th></th>\n",
       "      <th>Order ID</th>\n",
       "      <th>Quantity Ordered</th>\n",
       "      <th>Price Each</th>\n",
       "      <th>Order Date</th>\n",
       "    </tr>\n",
       "  </thead>\n",
       "  <tbody>\n",
       "    <tr>\n",
       "      <th>count</th>\n",
       "      <td>17580.000000</td>\n",
       "      <td>17580.000000</td>\n",
       "      <td>17580.000000</td>\n",
       "      <td>17580</td>\n",
       "    </tr>\n",
       "    <tr>\n",
       "      <th>mean</th>\n",
       "      <td>287235.962799</td>\n",
       "      <td>1.126735</td>\n",
       "      <td>180.881967</td>\n",
       "      <td>2016-05-28 09:13:07.122866688</td>\n",
       "    </tr>\n",
       "    <tr>\n",
       "      <th>min</th>\n",
       "      <td>278797.000000</td>\n",
       "      <td>1.000000</td>\n",
       "      <td>2.990000</td>\n",
       "      <td>2001-11-19 03:18:00</td>\n",
       "    </tr>\n",
       "    <tr>\n",
       "      <th>25%</th>\n",
       "      <td>283023.750000</td>\n",
       "      <td>1.000000</td>\n",
       "      <td>11.950000</td>\n",
       "      <td>2008-11-19 15:02:30</td>\n",
       "    </tr>\n",
       "    <tr>\n",
       "      <th>50%</th>\n",
       "      <td>287236.500000</td>\n",
       "      <td>1.000000</td>\n",
       "      <td>14.950000</td>\n",
       "      <td>2016-11-19 09:00:00</td>\n",
       "    </tr>\n",
       "    <tr>\n",
       "      <th>75%</th>\n",
       "      <td>291449.250000</td>\n",
       "      <td>1.000000</td>\n",
       "      <td>150.000000</td>\n",
       "      <td>2023-11-19 16:34:00</td>\n",
       "    </tr>\n",
       "    <tr>\n",
       "      <th>max</th>\n",
       "      <td>295664.000000</td>\n",
       "      <td>8.000000</td>\n",
       "      <td>1700.000000</td>\n",
       "      <td>2030-11-19 23:56:00</td>\n",
       "    </tr>\n",
       "    <tr>\n",
       "      <th>std</th>\n",
       "      <td>4866.884258</td>\n",
       "      <td>0.452011</td>\n",
       "      <td>330.175894</td>\n",
       "      <td>NaN</td>\n",
       "    </tr>\n",
       "  </tbody>\n",
       "</table>\n",
       "</div>"
      ],
      "text/plain": [
       "            Order ID  Quantity Ordered    Price Each  \\\n",
       "count   17580.000000      17580.000000  17580.000000   \n",
       "mean   287235.962799          1.126735    180.881967   \n",
       "min    278797.000000          1.000000      2.990000   \n",
       "25%    283023.750000          1.000000     11.950000   \n",
       "50%    287236.500000          1.000000     14.950000   \n",
       "75%    291449.250000          1.000000    150.000000   \n",
       "max    295664.000000          8.000000   1700.000000   \n",
       "std      4866.884258          0.452011    330.175894   \n",
       "\n",
       "                          Order Date  \n",
       "count                          17580  \n",
       "mean   2016-05-28 09:13:07.122866688  \n",
       "min              2001-11-19 03:18:00  \n",
       "25%              2008-11-19 15:02:30  \n",
       "50%              2016-11-19 09:00:00  \n",
       "75%              2023-11-19 16:34:00  \n",
       "max              2030-11-19 23:56:00  \n",
       "std                              NaN  "
      ]
     },
     "execution_count": 139,
     "metadata": {},
     "output_type": "execute_result"
    }
   ],
   "source": [
    "# Display descriptive statistics of the DataFrame\n",
    "dap_nov.describe()"
   ]
  },
  {
   "cell_type": "markdown",
   "metadata": {},
   "source": [
    "The November DataFrame consists of 17,580 entries. Here's a summary of its descriptive statistics:\n",
    "\n",
    "1. Order_ID: Ranges from 278797 to 295664 with a mean of approximately 287,236. The standard deviation is around 4,867, indicating a moderate spread of data around the mean.\n",
    "2. Quantity_Ordered: The average quantity ordered is about 1.13, with a standard deviation of approximately 0.45. The quantity ranges from 1 to 8 units.\n",
    "3. Price_Each: Prices range from $2.99 to $1700. The mean price is approximately $180.88, with a standard deviation of about $330. This wide spread indicates considerable variability in item prices."
   ]
  },
  {
   "cell_type": "code",
   "execution_count": 140,
   "metadata": {},
   "outputs": [
    {
     "data": {
      "text/plain": [
       "Order ID            81\n",
       "Product             45\n",
       "Quantity Ordered    81\n",
       "Price Each          81\n",
       "Order Date          81\n",
       "Purchase Address    45\n",
       "dtype: int64"
      ]
     },
     "execution_count": 140,
     "metadata": {},
     "output_type": "execute_result"
    }
   ],
   "source": [
    "# Count the number of missing values in each column\n",
    "dap_nov.isnull().sum()"
   ]
  },
  {
   "cell_type": "markdown",
   "metadata": {},
   "source": [
    "in the November DataFrame, there are missing values in several columns:\n",
    "\n",
    "Order_ID: 81 missing values\n",
    "\n",
    "Product: 45 missing values\n",
    "\n",
    "Quantity_Ordered: 81 missing values\n",
    "\n",
    "Price_Each: 81 missing values\n",
    "\n",
    "Order_Date: 81 missing values\n",
    "\n",
    "Purchase_Address: 45 missing values"
   ]
  },
  {
   "cell_type": "code",
   "execution_count": 141,
   "metadata": {},
   "outputs": [
    {
     "data": {
      "text/plain": [
       "108"
      ]
     },
     "execution_count": 141,
     "metadata": {},
     "output_type": "execute_result"
    }
   ],
   "source": [
    "# Count the number of duplicate rows in the DataFrame\n",
    "dap_nov.duplicated().sum()"
   ]
  },
  {
   "cell_type": "code",
   "execution_count": 142,
   "metadata": {},
   "outputs": [],
   "source": [
    "# Drop duplicate rows and reset index inplace\n",
    "dap_nov.drop_duplicates(inplace=True)\n",
    "dap_nov.reset_index(drop=True, inplace=True)"
   ]
  },
  {
   "cell_type": "code",
   "execution_count": 143,
   "metadata": {},
   "outputs": [
    {
     "data": {
      "text/plain": [
       "0"
      ]
     },
     "execution_count": 143,
     "metadata": {},
     "output_type": "execute_result"
    }
   ],
   "source": [
    "# Count the number of duplicate rows in the DataFrame\n",
    "dap_nov.duplicated().sum()"
   ]
  },
  {
   "cell_type": "markdown",
   "metadata": {},
   "source": [
    "In the November DataFrame, there are 108 duplicate rows."
   ]
  },
  {
   "cell_type": "markdown",
   "metadata": {},
   "source": [
    "## Dataset of dbo.Sales_December_2019 on server"
   ]
  },
  {
   "cell_type": "code",
   "execution_count": 144,
   "metadata": {},
   "outputs": [
    {
     "name": "stderr",
     "output_type": "stream",
     "text": [
      "C:\\Users\\Sami\\AppData\\Local\\Temp\\ipykernel_20812\\530502939.py:3: UserWarning: pandas only supports SQLAlchemy connectable (engine/connection) or database string URI or sqlite3 DBAPI2 connection. Other DBAPI2 objects are not tested. Please consider using SQLAlchemy.\n",
      "  dap_dec = pd.read_sql(query, connection)\n"
     ]
    },
    {
     "data": {
      "text/html": [
       "<div>\n",
       "<style scoped>\n",
       "    .dataframe tbody tr th:only-of-type {\n",
       "        vertical-align: middle;\n",
       "    }\n",
       "\n",
       "    .dataframe tbody tr th {\n",
       "        vertical-align: top;\n",
       "    }\n",
       "\n",
       "    .dataframe thead th {\n",
       "        text-align: right;\n",
       "    }\n",
       "</style>\n",
       "<table border=\"1\" class=\"dataframe\">\n",
       "  <thead>\n",
       "    <tr style=\"text-align: right;\">\n",
       "      <th></th>\n",
       "      <th>Order_ID</th>\n",
       "      <th>Product</th>\n",
       "      <th>Quantity_Ordered</th>\n",
       "      <th>Price_Each</th>\n",
       "      <th>Order_Date</th>\n",
       "      <th>Purchase_Address</th>\n",
       "    </tr>\n",
       "  </thead>\n",
       "  <tbody>\n",
       "    <tr>\n",
       "      <th>0</th>\n",
       "      <td>295665.0</td>\n",
       "      <td>Macbook Pro Laptop</td>\n",
       "      <td>1.0</td>\n",
       "      <td>1700.000000</td>\n",
       "      <td>2030-12-19 00:01:00</td>\n",
       "      <td>136 Church St, New York City, NY 10001</td>\n",
       "    </tr>\n",
       "    <tr>\n",
       "      <th>1</th>\n",
       "      <td>295666.0</td>\n",
       "      <td>LG Washing Machine</td>\n",
       "      <td>1.0</td>\n",
       "      <td>600.000000</td>\n",
       "      <td>2029-12-19 07:03:00</td>\n",
       "      <td>562 2nd St, New York City, NY 10001</td>\n",
       "    </tr>\n",
       "    <tr>\n",
       "      <th>2</th>\n",
       "      <td>295667.0</td>\n",
       "      <td>USB-C Charging Cable</td>\n",
       "      <td>1.0</td>\n",
       "      <td>11.950000</td>\n",
       "      <td>2012-12-19 18:21:00</td>\n",
       "      <td>277 Main St, New York City, NY 10001</td>\n",
       "    </tr>\n",
       "    <tr>\n",
       "      <th>3</th>\n",
       "      <td>295668.0</td>\n",
       "      <td>27in FHD Monitor</td>\n",
       "      <td>1.0</td>\n",
       "      <td>149.990005</td>\n",
       "      <td>2022-12-19 15:13:00</td>\n",
       "      <td>410 6th St, San Francisco, CA 94016</td>\n",
       "    </tr>\n",
       "    <tr>\n",
       "      <th>4</th>\n",
       "      <td>295669.0</td>\n",
       "      <td>USB-C Charging Cable</td>\n",
       "      <td>1.0</td>\n",
       "      <td>11.950000</td>\n",
       "      <td>2018-12-19 12:38:00</td>\n",
       "      <td>43 Hill St, Atlanta, GA 30301</td>\n",
       "    </tr>\n",
       "  </tbody>\n",
       "</table>\n",
       "</div>"
      ],
      "text/plain": [
       "   Order_ID               Product  Quantity_Ordered   Price_Each  \\\n",
       "0  295665.0    Macbook Pro Laptop               1.0  1700.000000   \n",
       "1  295666.0    LG Washing Machine               1.0   600.000000   \n",
       "2  295667.0  USB-C Charging Cable               1.0    11.950000   \n",
       "3  295668.0      27in FHD Monitor               1.0   149.990005   \n",
       "4  295669.0  USB-C Charging Cable               1.0    11.950000   \n",
       "\n",
       "           Order_Date                        Purchase_Address  \n",
       "0 2030-12-19 00:01:00  136 Church St, New York City, NY 10001  \n",
       "1 2029-12-19 07:03:00     562 2nd St, New York City, NY 10001  \n",
       "2 2012-12-19 18:21:00    277 Main St, New York City, NY 10001  \n",
       "3 2022-12-19 15:13:00     410 6th St, San Francisco, CA 94016  \n",
       "4 2018-12-19 12:38:00           43 Hill St, Atlanta, GA 30301  "
      ]
     },
     "execution_count": 144,
     "metadata": {},
     "output_type": "execute_result"
    }
   ],
   "source": [
    "query = \"Select * from dbo.Sales_December_2019\"\n",
    "\n",
    "dap_dec = pd.read_sql(query, connection)\n",
    "\n",
    "dap_dec.head()"
   ]
  },
  {
   "cell_type": "code",
   "execution_count": 145,
   "metadata": {},
   "outputs": [
    {
     "name": "stdout",
     "output_type": "stream",
     "text": [
      "<class 'pandas.core.frame.DataFrame'>\n",
      "RangeIndex: 25117 entries, 0 to 25116\n",
      "Data columns (total 6 columns):\n",
      " #   Column            Non-Null Count  Dtype         \n",
      "---  ------            --------------  -----         \n",
      " 0   Order_ID          24989 non-null  float64       \n",
      " 1   Product           25037 non-null  object        \n",
      " 2   Quantity_Ordered  24989 non-null  float64       \n",
      " 3   Price_Each        24989 non-null  float64       \n",
      " 4   Order_Date        24989 non-null  datetime64[ns]\n",
      " 5   Purchase_Address  25037 non-null  object        \n",
      "dtypes: datetime64[ns](1), float64(3), object(2)\n",
      "memory usage: 1.1+ MB\n"
     ]
    }
   ],
   "source": [
    "# View information about the DataFrame\n",
    "# This line displays information about the DataFrame, including the data types of columns and memory usage\n",
    "dap_dec.info()"
   ]
  },
  {
   "cell_type": "code",
   "execution_count": 146,
   "metadata": {},
   "outputs": [],
   "source": [
    "# Define the new column names\n",
    "new_column_names = {\n",
    "    'Order_ID': 'Order ID',\n",
    "    'Quantity_Ordered': 'Quantity Ordered',\n",
    "    'Price_Each': 'Price Each',\n",
    "    'Order_Date': 'Order Date',\n",
    "    'Purchase_Address': 'Purchase Address'\n",
    "}\n",
    "\n",
    "# Rename the columns\n",
    "dap_dec.rename(columns=new_column_names, inplace=True)\n"
   ]
  },
  {
   "cell_type": "code",
   "execution_count": 147,
   "metadata": {},
   "outputs": [
    {
     "name": "stdout",
     "output_type": "stream",
     "text": [
      "Order ID                   float64\n",
      "Product                     object\n",
      "Quantity Ordered           float64\n",
      "Price Each                 float64\n",
      "Order Date          datetime64[ns]\n",
      "Purchase Address            object\n",
      "dtype: object\n"
     ]
    }
   ],
   "source": [
    "# Convert 'Order Date' column to datetime\n",
    "dap_dec['Order Date'] = pd.to_datetime(dap_dec['Order Date'], format='%m/%d/%y %H:%M', errors='coerce')\n",
    "\n",
    "\n",
    "# Now, check the data types after conversion\n",
    "print(dap_dec.dtypes)"
   ]
  },
  {
   "cell_type": "code",
   "execution_count": 148,
   "metadata": {},
   "outputs": [
    {
     "data": {
      "text/plain": [
       "Index(['Order ID', 'Product', 'Quantity Ordered', 'Price Each', 'Order Date',\n",
       "       'Purchase Address'],\n",
       "      dtype='object')"
      ]
     },
     "execution_count": 148,
     "metadata": {},
     "output_type": "execute_result"
    }
   ],
   "source": [
    "# View the column names\n",
    "dap_dec.columns"
   ]
  },
  {
   "cell_type": "code",
   "execution_count": 149,
   "metadata": {},
   "outputs": [
    {
     "name": "stdout",
     "output_type": "stream",
     "text": [
      "Number of unique values in 'Order ID': 24006\n",
      "Number of unique values in 'Product': 20\n",
      "Number of unique values in 'Quantity Ordered': 7\n",
      "Number of unique values in 'Price Each': 17\n",
      "Number of unique values in 'Order Date': 17305\n",
      "Number of unique values in 'Purchase Address': 23215\n"
     ]
    }
   ],
   "source": [
    "# Iterate over columns and print the number of unique values in each column\n",
    "for column in dap_dec.columns:\n",
    "    unique_values = dap_dec[column].nunique()\n",
    "    print(f\"Number of unique values in '{column}': {unique_values}\")"
   ]
  },
  {
   "cell_type": "code",
   "execution_count": 150,
   "metadata": {},
   "outputs": [
    {
     "name": "stdout",
     "output_type": "stream",
     "text": [
      "Unique values in 'Order ID':\n",
      "[295665. 295666. 295667. ... 319668. 319669. 319670.]\n",
      "Unique values in 'Product':\n",
      "['Macbook Pro Laptop' 'LG Washing Machine' 'USB-C Charging Cable'\n",
      " '27in FHD Monitor' 'AA Batteries (4-pack)' 'Bose SoundSport Headphones'\n",
      " 'AAA Batteries (4-pack)' 'ThinkPad Laptop' 'Lightning Charging Cable'\n",
      " 'Google Phone' 'Wired Headphones' 'Apple Airpods Headphones'\n",
      " 'Vareebadd Phone' 'iPhone' '20in Monitor' '34in Ultrawide Monitor'\n",
      " 'Flatscreen TV' '27in 4K Gaming Monitor' 'Product' None 'LG Dryer']\n",
      "Unique values in 'Quantity Ordered':\n",
      "[ 1.  2.  4.  3. nan  7.  5.  6.]\n",
      "Unique values in 'Price Each':\n",
      "[1700.          600.           11.94999981  149.99000549    3.83999991\n",
      "   99.98999786    2.99000001  999.98999023   14.94999981   11.98999977\n",
      "  150.          400.          700.          109.98999786  379.98999023\n",
      "  300.          389.98999023           nan]\n",
      "Unique values in 'Order Date':\n",
      "<DatetimeArray>\n",
      "['2030-12-19 00:01:00', '2029-12-19 07:03:00', '2012-12-19 18:21:00',\n",
      " '2022-12-19 15:13:00', '2018-12-19 12:38:00', '2031-12-19 22:58:00',\n",
      " '2016-12-19 15:10:00', '2013-12-19 09:29:00', '2015-12-19 23:26:00',\n",
      " '2028-12-19 11:51:00',\n",
      " ...\n",
      " '2003-12-19 05:50:00', '2023-12-19 14:08:00', '2013-12-19 07:25:00',\n",
      " '2011-12-19 21:24:00', '2007-12-19 08:25:00', '2030-12-19 01:06:00',\n",
      " '2011-12-19 20:58:00', '2001-12-19 12:01:00', '2009-12-19 06:43:00',\n",
      " '2003-12-19 10:39:00']\n",
      "Length: 17306, dtype: datetime64[ns]\n",
      "Unique values in 'Purchase Address':\n",
      "['136 Church St, New York City, NY 10001'\n",
      " '562 2nd St, New York City, NY 10001'\n",
      " '277 Main St, New York City, NY 10001' ...\n",
      " '273 Wilson St, Seattle, WA 98101' '778 River St, Dallas, TX 75001'\n",
      " '747 Chestnut St, Los Angeles, CA 90001']\n"
     ]
    }
   ],
   "source": [
    "# Iterate over columns and view unique values\n",
    "for column in dap_dec.columns:\n",
    "    unique_values = dap_dec[column].unique()\n",
    "    print(f\"Unique values in '{column}':\")\n",
    "    print(unique_values)"
   ]
  },
  {
   "cell_type": "markdown",
   "metadata": {},
   "source": [
    "Observations:\n",
    "\n",
    "1. Order_ID: The 'Order_ID' column contains unique numerical identifiers for each order, and there are no apparent issues with this column.\n",
    "2. Product: The 'Product' column contains the names of various products sold. There is an entry 'None', which might indicate missing or placeholder values. Additionally, there is an entry 'Product', which seems like a placeholder or a mistake.\n",
    "3. Quantity_Ordered: The 'Quantity_Ordered' column contains the number of units ordered for each product. Most entries are numerical values representing quantities, but there are some missing values (NaN) present.\n",
    "4. Price_Each: The 'Price_Each' column contains the price of each product. Most entries are numerical values representing prices, but there are some missing values (NaN) present.\n",
    "5. Order_Date: The 'Order_Date' column contains the date and time when each order was placed. Entries seem to be in datetime format.\n",
    "6. Purchase_Address: The 'Purchase_Address' column contains the addresses where the purchases were made. Each entry includes the street address, city, state, and ZIP code.\n",
    "\n",
    "Similar to previous observations, the data requires cleaning and preprocessing to address missing values and inconsistent entries in the 'Product' column. The 'Order_ID', 'Order_Date', and 'Purchase_Address' columns seem to have no missing values. Further data cleaning and preprocessing may be necessary to ensure the integrity of the dataset."
   ]
  },
  {
   "cell_type": "code",
   "execution_count": 151,
   "metadata": {},
   "outputs": [
    {
     "data": {
      "text/plain": [
       "(25117, 6)"
      ]
     },
     "execution_count": 151,
     "metadata": {},
     "output_type": "execute_result"
    }
   ],
   "source": [
    "# View the dimensions of the DataFrame\n",
    "dap_dec.shape"
   ]
  },
  {
   "cell_type": "code",
   "execution_count": 152,
   "metadata": {},
   "outputs": [
    {
     "data": {
      "text/html": [
       "<div>\n",
       "<style scoped>\n",
       "    .dataframe tbody tr th:only-of-type {\n",
       "        vertical-align: middle;\n",
       "    }\n",
       "\n",
       "    .dataframe tbody tr th {\n",
       "        vertical-align: top;\n",
       "    }\n",
       "\n",
       "    .dataframe thead th {\n",
       "        text-align: right;\n",
       "    }\n",
       "</style>\n",
       "<table border=\"1\" class=\"dataframe\">\n",
       "  <thead>\n",
       "    <tr style=\"text-align: right;\">\n",
       "      <th></th>\n",
       "      <th>Order ID</th>\n",
       "      <th>Quantity Ordered</th>\n",
       "      <th>Price Each</th>\n",
       "      <th>Order Date</th>\n",
       "    </tr>\n",
       "  </thead>\n",
       "  <tbody>\n",
       "    <tr>\n",
       "      <th>count</th>\n",
       "      <td>24989.000000</td>\n",
       "      <td>24989.000000</td>\n",
       "      <td>24989.000000</td>\n",
       "      <td>24989</td>\n",
       "    </tr>\n",
       "    <tr>\n",
       "      <th>mean</th>\n",
       "      <td>307655.023170</td>\n",
       "      <td>1.125335</td>\n",
       "      <td>183.845649</td>\n",
       "      <td>2017-01-11 15:58:27.182360064</td>\n",
       "    </tr>\n",
       "    <tr>\n",
       "      <th>min</th>\n",
       "      <td>295665.000000</td>\n",
       "      <td>1.000000</td>\n",
       "      <td>2.990000</td>\n",
       "      <td>2001-01-20 00:10:00</td>\n",
       "    </tr>\n",
       "    <tr>\n",
       "      <th>25%</th>\n",
       "      <td>301653.000000</td>\n",
       "      <td>1.000000</td>\n",
       "      <td>11.950000</td>\n",
       "      <td>2008-12-19 22:28:00</td>\n",
       "    </tr>\n",
       "    <tr>\n",
       "      <th>50%</th>\n",
       "      <td>307656.000000</td>\n",
       "      <td>1.000000</td>\n",
       "      <td>14.950000</td>\n",
       "      <td>2016-12-19 16:59:00</td>\n",
       "    </tr>\n",
       "    <tr>\n",
       "      <th>75%</th>\n",
       "      <td>313654.000000</td>\n",
       "      <td>1.000000</td>\n",
       "      <td>150.000000</td>\n",
       "      <td>2024-12-19 10:41:00</td>\n",
       "    </tr>\n",
       "    <tr>\n",
       "      <th>max</th>\n",
       "      <td>319670.000000</td>\n",
       "      <td>7.000000</td>\n",
       "      <td>1700.000000</td>\n",
       "      <td>2031-12-19 23:53:00</td>\n",
       "    </tr>\n",
       "    <tr>\n",
       "      <th>std</th>\n",
       "      <td>6932.795456</td>\n",
       "      <td>0.445414</td>\n",
       "      <td>333.077036</td>\n",
       "      <td>NaN</td>\n",
       "    </tr>\n",
       "  </tbody>\n",
       "</table>\n",
       "</div>"
      ],
      "text/plain": [
       "            Order ID  Quantity Ordered    Price Each  \\\n",
       "count   24989.000000      24989.000000  24989.000000   \n",
       "mean   307655.023170          1.125335    183.845649   \n",
       "min    295665.000000          1.000000      2.990000   \n",
       "25%    301653.000000          1.000000     11.950000   \n",
       "50%    307656.000000          1.000000     14.950000   \n",
       "75%    313654.000000          1.000000    150.000000   \n",
       "max    319670.000000          7.000000   1700.000000   \n",
       "std      6932.795456          0.445414    333.077036   \n",
       "\n",
       "                          Order Date  \n",
       "count                          24989  \n",
       "mean   2017-01-11 15:58:27.182360064  \n",
       "min              2001-01-20 00:10:00  \n",
       "25%              2008-12-19 22:28:00  \n",
       "50%              2016-12-19 16:59:00  \n",
       "75%              2024-12-19 10:41:00  \n",
       "max              2031-12-19 23:53:00  \n",
       "std                              NaN  "
      ]
     },
     "execution_count": 152,
     "metadata": {},
     "output_type": "execute_result"
    }
   ],
   "source": [
    "# Display descriptive statistics of the DataFrame\n",
    "dap_dec.describe()"
   ]
  },
  {
   "cell_type": "markdown",
   "metadata": {},
   "source": [
    "1. Order_ID: There are 24989 orders in total.\n",
    "2. Quantity_Ordered: The average quantity ordered is approximately 1.13, with a standard deviation of around 0.45. The minimum quantity ordered is 1, and the maximum is 7.\n",
    "3. Price_Each: The mean price per item is approximately $183.85, with a standard deviation of approximately $333.08. The prices range from $2.99 to $1700."
   ]
  },
  {
   "cell_type": "code",
   "execution_count": 153,
   "metadata": {},
   "outputs": [
    {
     "data": {
      "text/plain": [
       "Order ID            128\n",
       "Product              80\n",
       "Quantity Ordered    128\n",
       "Price Each          128\n",
       "Order Date          128\n",
       "Purchase Address     80\n",
       "dtype: int64"
      ]
     },
     "execution_count": 153,
     "metadata": {},
     "output_type": "execute_result"
    }
   ],
   "source": [
    "# Count the number of missing values in each column\n",
    "dap_dec.isnull().sum()"
   ]
  },
  {
   "cell_type": "markdown",
   "metadata": {},
   "source": [
    "In December's dataset:\n",
    "\n",
    "1. Order_ID: There are 128 missing values.\n",
    "2. Product: There are 80 missing values.\n",
    "3. Quantity_Ordered: There are 128 missing values.\n",
    "4. Price_Each: There are 128 missing values.\n",
    "5. Order_Date: There are 128 missing values.\n",
    "6. Purchase_Address: There are 80 missing values."
   ]
  },
  {
   "cell_type": "code",
   "execution_count": 154,
   "metadata": {},
   "outputs": [
    {
     "data": {
      "text/plain": [
       "166"
      ]
     },
     "execution_count": 154,
     "metadata": {},
     "output_type": "execute_result"
    }
   ],
   "source": [
    "# Count the number of duplicate rows in the DataFrame\n",
    "dap_dec.duplicated().sum()"
   ]
  },
  {
   "cell_type": "code",
   "execution_count": 155,
   "metadata": {},
   "outputs": [],
   "source": [
    "# Drop duplicate rows and reset index inplace\n",
    "dap_dec.drop_duplicates(inplace=True)\n",
    "dap_dec.reset_index(drop=True, inplace=True)"
   ]
  },
  {
   "cell_type": "code",
   "execution_count": 156,
   "metadata": {},
   "outputs": [
    {
     "data": {
      "text/plain": [
       "0"
      ]
     },
     "execution_count": 156,
     "metadata": {},
     "output_type": "execute_result"
    }
   ],
   "source": [
    "# Count the number of duplicate rows in the DataFrame\n",
    "dap_dec.duplicated().sum()"
   ]
  },
  {
   "cell_type": "markdown",
   "metadata": {},
   "source": [
    "In December's dataset, there are 166 duplicate rows."
   ]
  },
  {
   "cell_type": "markdown",
   "metadata": {},
   "source": [
    "Merge all dataset"
   ]
  },
  {
   "cell_type": "code",
   "execution_count": 157,
   "metadata": {},
   "outputs": [],
   "source": [
    "sales_data = pd.concat([df_sales_January_2019, df_sales_February_2019, df_sales_March_2019, df_sales_April_2019, df_sales_May_2019, df_sales_June_2019, dap_july, dap_august, dap_sept, dap_oct, dap_nov, dap_dec], axis=0)\n"
   ]
  },
  {
   "cell_type": "code",
   "execution_count": 158,
   "metadata": {},
   "outputs": [
    {
     "data": {
      "text/html": [
       "<div>\n",
       "<style scoped>\n",
       "    .dataframe tbody tr th:only-of-type {\n",
       "        vertical-align: middle;\n",
       "    }\n",
       "\n",
       "    .dataframe tbody tr th {\n",
       "        vertical-align: top;\n",
       "    }\n",
       "\n",
       "    .dataframe thead th {\n",
       "        text-align: right;\n",
       "    }\n",
       "</style>\n",
       "<table border=\"1\" class=\"dataframe\">\n",
       "  <thead>\n",
       "    <tr style=\"text-align: right;\">\n",
       "      <th></th>\n",
       "      <th>Order ID</th>\n",
       "      <th>Product</th>\n",
       "      <th>Quantity Ordered</th>\n",
       "      <th>Price Each</th>\n",
       "      <th>Order Date</th>\n",
       "      <th>Purchase Address</th>\n",
       "    </tr>\n",
       "  </thead>\n",
       "  <tbody>\n",
       "    <tr>\n",
       "      <th>0</th>\n",
       "      <td>141234.0</td>\n",
       "      <td>iPhone</td>\n",
       "      <td>1.0</td>\n",
       "      <td>700.00</td>\n",
       "      <td>2019-01-22 21:25:00</td>\n",
       "      <td>944 Walnut St, Boston, MA 02215</td>\n",
       "    </tr>\n",
       "    <tr>\n",
       "      <th>1</th>\n",
       "      <td>141235.0</td>\n",
       "      <td>Lightning Charging Cable</td>\n",
       "      <td>1.0</td>\n",
       "      <td>14.95</td>\n",
       "      <td>2019-01-28 14:15:00</td>\n",
       "      <td>185 Maple St, Portland, OR 97035</td>\n",
       "    </tr>\n",
       "    <tr>\n",
       "      <th>2</th>\n",
       "      <td>141236.0</td>\n",
       "      <td>Wired Headphones</td>\n",
       "      <td>2.0</td>\n",
       "      <td>11.99</td>\n",
       "      <td>2019-01-17 13:33:00</td>\n",
       "      <td>538 Adams St, San Francisco, CA 94016</td>\n",
       "    </tr>\n",
       "    <tr>\n",
       "      <th>3</th>\n",
       "      <td>141237.0</td>\n",
       "      <td>27in FHD Monitor</td>\n",
       "      <td>1.0</td>\n",
       "      <td>149.99</td>\n",
       "      <td>2019-01-05 20:33:00</td>\n",
       "      <td>738 10th St, Los Angeles, CA 90001</td>\n",
       "    </tr>\n",
       "    <tr>\n",
       "      <th>4</th>\n",
       "      <td>141238.0</td>\n",
       "      <td>Wired Headphones</td>\n",
       "      <td>1.0</td>\n",
       "      <td>11.99</td>\n",
       "      <td>2019-01-25 11:59:00</td>\n",
       "      <td>387 10th St, Austin, TX 73301</td>\n",
       "    </tr>\n",
       "  </tbody>\n",
       "</table>\n",
       "</div>"
      ],
      "text/plain": [
       "   Order ID                   Product  Quantity Ordered  Price Each  \\\n",
       "0  141234.0                    iPhone               1.0      700.00   \n",
       "1  141235.0  Lightning Charging Cable               1.0       14.95   \n",
       "2  141236.0          Wired Headphones               2.0       11.99   \n",
       "3  141237.0          27in FHD Monitor               1.0      149.99   \n",
       "4  141238.0          Wired Headphones               1.0       11.99   \n",
       "\n",
       "           Order Date                       Purchase Address  \n",
       "0 2019-01-22 21:25:00        944 Walnut St, Boston, MA 02215  \n",
       "1 2019-01-28 14:15:00       185 Maple St, Portland, OR 97035  \n",
       "2 2019-01-17 13:33:00  538 Adams St, San Francisco, CA 94016  \n",
       "3 2019-01-05 20:33:00     738 10th St, Los Angeles, CA 90001  \n",
       "4 2019-01-25 11:59:00          387 10th St, Austin, TX 73301  "
      ]
     },
     "execution_count": 158,
     "metadata": {},
     "output_type": "execute_result"
    }
   ],
   "source": [
    "sales_data.head()"
   ]
  },
  {
   "cell_type": "code",
   "execution_count": 160,
   "metadata": {},
   "outputs": [
    {
     "name": "stdout",
     "output_type": "stream",
     "text": [
      "<class 'pandas.core.frame.DataFrame'>\n",
      "Index: 185710 entries, 0 to 24950\n",
      "Data columns (total 6 columns):\n",
      " #   Column            Non-Null Count   Dtype         \n",
      "---  ------            --------------   -----         \n",
      " 0   Order ID          185686 non-null  float64       \n",
      " 1   Product           185698 non-null  object        \n",
      " 2   Quantity Ordered  185686 non-null  float64       \n",
      " 3   Price Each        185686 non-null  float64       \n",
      " 4   Order Date        185686 non-null  datetime64[ns]\n",
      " 5   Purchase Address  185698 non-null  object        \n",
      "dtypes: datetime64[ns](1), float64(3), object(2)\n",
      "memory usage: 9.9+ MB\n"
     ]
    }
   ],
   "source": [
    "sales_data.info()"
   ]
  },
  {
   "cell_type": "code",
   "execution_count": 166,
   "metadata": {},
   "outputs": [
    {
     "data": {
      "text/html": [
       "<div>\n",
       "<style scoped>\n",
       "    .dataframe tbody tr th:only-of-type {\n",
       "        vertical-align: middle;\n",
       "    }\n",
       "\n",
       "    .dataframe tbody tr th {\n",
       "        vertical-align: top;\n",
       "    }\n",
       "\n",
       "    .dataframe thead th {\n",
       "        text-align: right;\n",
       "    }\n",
       "</style>\n",
       "<table border=\"1\" class=\"dataframe\">\n",
       "  <thead>\n",
       "    <tr style=\"text-align: right;\">\n",
       "      <th></th>\n",
       "      <th>Order ID</th>\n",
       "      <th>Quantity Ordered</th>\n",
       "      <th>Price Each</th>\n",
       "      <th>Order Date</th>\n",
       "    </tr>\n",
       "  </thead>\n",
       "  <tbody>\n",
       "    <tr>\n",
       "      <th>count</th>\n",
       "      <td>185686.000000</td>\n",
       "      <td>185686.000000</td>\n",
       "      <td>185686.000000</td>\n",
       "      <td>185686</td>\n",
       "    </tr>\n",
       "    <tr>\n",
       "      <th>mean</th>\n",
       "      <td>230411.376227</td>\n",
       "      <td>1.124544</td>\n",
       "      <td>184.519255</td>\n",
       "      <td>2017-11-12 13:09:00.319571456</td>\n",
       "    </tr>\n",
       "    <tr>\n",
       "      <th>min</th>\n",
       "      <td>141234.000000</td>\n",
       "      <td>1.000000</td>\n",
       "      <td>2.990000</td>\n",
       "      <td>2001-01-20 00:10:00</td>\n",
       "    </tr>\n",
       "    <tr>\n",
       "      <th>25%</th>\n",
       "      <td>185833.250000</td>\n",
       "      <td>1.000000</td>\n",
       "      <td>11.950000</td>\n",
       "      <td>2015-08-19 19:22:15</td>\n",
       "    </tr>\n",
       "    <tr>\n",
       "      <th>50%</th>\n",
       "      <td>230354.500000</td>\n",
       "      <td>1.000000</td>\n",
       "      <td>14.950000</td>\n",
       "      <td>2019-03-26 14:19:30</td>\n",
       "    </tr>\n",
       "    <tr>\n",
       "      <th>75%</th>\n",
       "      <td>275028.750000</td>\n",
       "      <td>1.000000</td>\n",
       "      <td>150.000000</td>\n",
       "      <td>2019-06-20 17:08:45</td>\n",
       "    </tr>\n",
       "    <tr>\n",
       "      <th>max</th>\n",
       "      <td>319670.000000</td>\n",
       "      <td>9.000000</td>\n",
       "      <td>1700.000000</td>\n",
       "      <td>2031-12-19 23:53:00</td>\n",
       "    </tr>\n",
       "    <tr>\n",
       "      <th>std</th>\n",
       "      <td>51511.717183</td>\n",
       "      <td>0.443069</td>\n",
       "      <td>332.843838</td>\n",
       "      <td>NaN</td>\n",
       "    </tr>\n",
       "  </tbody>\n",
       "</table>\n",
       "</div>"
      ],
      "text/plain": [
       "            Order ID  Quantity Ordered     Price Each  \\\n",
       "count  185686.000000     185686.000000  185686.000000   \n",
       "mean   230411.376227          1.124544     184.519255   \n",
       "min    141234.000000          1.000000       2.990000   \n",
       "25%    185833.250000          1.000000      11.950000   \n",
       "50%    230354.500000          1.000000      14.950000   \n",
       "75%    275028.750000          1.000000     150.000000   \n",
       "max    319670.000000          9.000000    1700.000000   \n",
       "std     51511.717183          0.443069     332.843838   \n",
       "\n",
       "                          Order Date  \n",
       "count                         185686  \n",
       "mean   2017-11-12 13:09:00.319571456  \n",
       "min              2001-01-20 00:10:00  \n",
       "25%              2015-08-19 19:22:15  \n",
       "50%              2019-03-26 14:19:30  \n",
       "75%              2019-06-20 17:08:45  \n",
       "max              2031-12-19 23:53:00  \n",
       "std                              NaN  "
      ]
     },
     "execution_count": 166,
     "metadata": {},
     "output_type": "execute_result"
    }
   ],
   "source": [
    "# Display summary statistics for Concatenated dataset\n",
    "sales_data.describe()"
   ]
  },
  {
   "cell_type": "code",
   "execution_count": 161,
   "metadata": {},
   "outputs": [
    {
     "data": {
      "text/plain": [
       "Order ID            24\n",
       "Product             12\n",
       "Quantity Ordered    24\n",
       "Price Each          24\n",
       "Order Date          24\n",
       "Purchase Address    12\n",
       "dtype: int64"
      ]
     },
     "execution_count": 161,
     "metadata": {},
     "output_type": "execute_result"
    }
   ],
   "source": [
    "sales_data.isnull().sum()"
   ]
  },
  {
   "cell_type": "code",
   "execution_count": 165,
   "metadata": {},
   "outputs": [
    {
     "data": {
      "text/plain": [
       "22"
      ]
     },
     "execution_count": 165,
     "metadata": {},
     "output_type": "execute_result"
    }
   ],
   "source": [
    "sales_data.duplicated().sum()"
   ]
  },
  {
   "cell_type": "code",
   "execution_count": 162,
   "metadata": {},
   "outputs": [
    {
     "name": "stdout",
     "output_type": "stream",
     "text": [
      "Unique values in 'Order ID':\n",
      "[141234. 141235. 141236. ... 319668. 319669. 319670.]\n",
      "Unique values in 'Product':\n",
      "['iPhone' 'Lightning Charging Cable' 'Wired Headphones' '27in FHD Monitor'\n",
      " 'AAA Batteries (4-pack)' '27in 4K Gaming Monitor' 'USB-C Charging Cable'\n",
      " 'Bose SoundSport Headphones' 'Apple Airpods Headphones'\n",
      " 'Macbook Pro Laptop' 'Flatscreen TV' 'Vareebadd Phone'\n",
      " 'AA Batteries (4-pack)' 'Google Phone' '20in Monitor'\n",
      " '34in Ultrawide Monitor' 'ThinkPad Laptop' 'LG Dryer'\n",
      " 'LG Washing Machine' nan 'Product' None]\n",
      "Unique values in 'Quantity Ordered':\n",
      "[ 1.  2.  3.  5.  4. nan  7.  6.  9.  8.]\n",
      "Unique values in 'Price Each':\n",
      "[ 700.           14.95         11.99        149.99          2.99\n",
      "  389.99         11.95         99.99        150.         1700.\n",
      "  300.          400.            3.84        600.          109.99\n",
      "  379.99        999.99                 nan    3.83999991    2.99000001\n",
      "   99.98999786   11.94999981   14.94999981  379.98999023   11.98999977\n",
      "  149.99000549  109.98999786  999.98999023  389.98999023]\n",
      "Unique values in 'Order Date':\n",
      "<DatetimeArray>\n",
      "['2019-01-22 21:25:00', '2019-01-28 14:15:00', '2019-01-17 13:33:00',\n",
      " '2019-01-05 20:33:00', '2019-01-25 11:59:00', '2019-01-29 20:22:00',\n",
      " '2019-01-26 12:16:00', '2019-01-05 12:04:00', '2019-01-01 10:30:00',\n",
      " '2019-01-22 21:20:00',\n",
      " ...\n",
      " '2003-12-19 05:50:00', '2023-12-19 14:08:00', '2013-12-19 07:25:00',\n",
      " '2011-12-19 21:24:00', '2007-12-19 08:25:00', '2030-12-19 01:06:00',\n",
      " '2011-12-19 20:58:00', '2001-12-19 12:01:00', '2009-12-19 06:43:00',\n",
      " '2003-12-19 10:39:00']\n",
      "Length: 142396, dtype: datetime64[ns]\n",
      "Unique values in 'Purchase Address':\n",
      "['944 Walnut St, Boston, MA 02215' '185 Maple St, Portland, OR 97035'\n",
      " '538 Adams St, San Francisco, CA 94016' ...\n",
      " '273 Wilson St, Seattle, WA 98101' '778 River St, Dallas, TX 75001'\n",
      " '747 Chestnut St, Los Angeles, CA 90001']\n"
     ]
    }
   ],
   "source": [
    "# Iterate over columns and view unique values\n",
    "for column in sales_data.columns:\n",
    "    unique_values = sales_data[column].unique()\n",
    "    print(f\"Unique values in '{column}':\")\n",
    "    print(unique_values)"
   ]
  },
  {
   "cell_type": "markdown",
   "metadata": {},
   "source": [
    "## **Exploratory Data Analysis:**"
   ]
  },
  {
   "cell_type": "code",
   "execution_count": 172,
   "metadata": {},
   "outputs": [],
   "source": [
    "# Drop Rows with Null Values\n",
    "sales_data.dropna(inplace=True)"
   ]
  },
  {
   "cell_type": "code",
   "execution_count": 173,
   "metadata": {},
   "outputs": [
    {
     "data": {
      "text/plain": [
       "Order ID            0\n",
       "Product             0\n",
       "Quantity Ordered    0\n",
       "Price Each          0\n",
       "Order Date          0\n",
       "Purchase Address    0\n",
       "dtype: int64"
      ]
     },
     "execution_count": 173,
     "metadata": {},
     "output_type": "execute_result"
    }
   ],
   "source": [
    "sales_data.isnull().sum()"
   ]
  },
  {
   "cell_type": "code",
   "execution_count": 174,
   "metadata": {},
   "outputs": [],
   "source": [
    "# Drop Duplicate Rows\n",
    "sales_data.drop_duplicates(inplace=True)"
   ]
  },
  {
   "cell_type": "code",
   "execution_count": 175,
   "metadata": {},
   "outputs": [
    {
     "data": {
      "text/plain": [
       "0"
      ]
     },
     "execution_count": 175,
     "metadata": {},
     "output_type": "execute_result"
    }
   ],
   "source": [
    "sales_data.duplicated().sum()"
   ]
  },
  {
   "cell_type": "code",
   "execution_count": 182,
   "metadata": {},
   "outputs": [
    {
     "name": "stdout",
     "output_type": "stream",
     "text": [
      "<class 'pandas.core.frame.DataFrame'>\n",
      "Index: 185686 entries, 0 to 24950\n",
      "Data columns (total 5 columns):\n",
      " #   Column            Non-Null Count   Dtype         \n",
      "---  ------            --------------   -----         \n",
      " 0   Product           185686 non-null  object        \n",
      " 1   Quantity Ordered  185686 non-null  float64       \n",
      " 2   Price Each        185686 non-null  float64       \n",
      " 3   Order Date        185686 non-null  datetime64[ns]\n",
      " 4   Purchase Address  185686 non-null  object        \n",
      "dtypes: datetime64[ns](1), float64(2), object(2)\n",
      "memory usage: 8.5+ MB\n"
     ]
    }
   ],
   "source": [
    "sales_data.info()"
   ]
  },
  {
   "cell_type": "markdown",
   "metadata": {},
   "source": [
    "Dropped the Order ID because we felt it was not important for our analysis"
   ]
  },
  {
   "cell_type": "code",
   "execution_count": 179,
   "metadata": {},
   "outputs": [],
   "source": [
    "#drop customer ID.\n",
    "del sales_data['Order ID']"
   ]
  },
  {
   "cell_type": "code",
   "execution_count": 180,
   "metadata": {},
   "outputs": [],
   "source": [
    "#save concat sales_data to CSV\n",
    "sales_data.to_csv('sales_data.csv', index=False)"
   ]
  },
  {
   "cell_type": "markdown",
   "metadata": {},
   "source": [
    "### <b> Univariate Data analysis"
   ]
  },
  {
   "cell_type": "code",
   "execution_count": 181,
   "metadata": {},
   "outputs": [
    {
     "data": {
      "image/png": "[encoded data removed]",
      "text/plain": [
       "<Figure size 1200x800 with 4 Axes>"
      ]
     },
     "metadata": {},
     "output_type": "display_data"
    }
   ],
   "source": [
    "# Visualizing the distribution of Numerical Variables\n",
    "sales_data.hist(figsize=(12,8), grid= False)\n",
    "plt.show()"
   ]
  },
  {
   "cell_type": "markdown",
   "metadata": {},
   "source": [
    "1. The most frequent quantity ordered 1.\n",
    "2. There are a few orders for a very large quantity (around 160,000).\n",
    "3. The most frequent price per order is between $750 and $1000.\n",
    "\n",
    "In general, there seems to be no correlation between the quantity ordered and the price per order. There are expensive orders for small quantities and cheap orders for large quantities.\n",
    "It is important to note that the x-axis for quantity ordered is cut off, so it is possible that there are even larger orders than 160,000 that are not shown in the graph.\n",
    "\n"
   ]
  }
 ],
 "metadata": {
  "kernelspec": {
   "display_name": "Python 3",
   "language": "python",
   "name": "python3"
  },
  "language_info": {
   "codemirror_mode": {
    "name": "ipython",
    "version": 3
   },
   "file_extension": ".py",
   "mimetype": "text/x-python",
   "name": "python",
   "nbconvert_exporter": "python",
   "pygments_lexer": "ipython3",
   "version": "3.12.3"
  },
  "orig_nbformat": 4
 },
 "nbformat": 4,
 "nbformat_minor": 2
}
